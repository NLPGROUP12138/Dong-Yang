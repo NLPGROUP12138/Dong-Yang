{
 "cells": [
  {
   "cell_type": "code",
   "execution_count": 28,
   "metadata": {
    "collapsed": true
   },
   "outputs": [],
   "source": [
    "import requests\n",
    "from bs4 import BeautifulSoup\n",
    "import bs4"
   ]
  },
  {
   "cell_type": "code",
   "execution_count": 29,
   "metadata": {
    "collapsed": true
   },
   "outputs": [],
   "source": [
    "# 获取url信息，输出url内容\n",
    "def getHTMLText(url):\n",
    "    # 基本框架如下\n",
    "    try:\n",
    "        # 通过get函数获取url信息，并且设定timeout时间为30s\n",
    "        r = requests.get(url, timeout=30)\n",
    "        # raise_for_status()来产生异常信息\n",
    "        r.raise_for_status()\n",
    "        # 修改编码\n",
    "        r.encoding = r.apparent_encoding\n",
    "        # 将网页信息内容返回给程序的其他部分\n",
    "        return r.text\n",
    "    except:\n",
    "        # 如出现错误则返回空字符串\n",
    "        return \"\"\n",
    "    # 函数编写完成，注释掉return \"\"\n",
    "    # return \"\""
   ]
  },
  {
   "cell_type": "code",
   "execution_count": 30,
   "metadata": {
    "collapsed": false
   },
   "outputs": [],
   "source": [
    "# 将一个html页面返回到一个list列表中，list列表定义为ulist，核心部分\n",
    "def fillUnivList(ulist,html):\n",
    "    # 观察html文件结构，首先找到tbody标签，获取所有大学的相关信息，然后再tbody标签中解析tr标签获取每一个大学的信息，\n",
    "    # 再根据tr标签中的td标签把每一个大学的相关的数据参数写到对应的ulist的列表中，推荐使用遍历查找方法\n",
    "    soup = BeautifulSoup(html, \"html.parser\")\n",
    "    # 使用for语句去查找html文本中的tbody标签，并且将他的孩子children进行遍历，其中，tr表示一所大学对应的信息\n",
    "    for tr in soup.find('tbody').children:\n",
    "        # children中有可能出现非标签(NavigableString)的字符串类型，使用isinstance函数来对类型进行判断\n",
    "        if isinstance(tr, bs4.element.Tag):\n",
    "            # 再对td标签进行查询，将所有td标签存到列表tds中\n",
    "            tds = tr('td')\n",
    "            # 在ulist中增加我们需要的对应字段，大学排名，大学名称，大学得分\n",
    "            ulist.append([tds[0].string, tds[1].string, tds[2].string, tds[3].string])\n",
    "    # 函数编写完成，注释掉pass\n",
    "    # pass"
   ]
  },
  {
   "cell_type": "code",
   "execution_count": 31,
   "metadata": {
    "collapsed": true
   },
   "outputs": [],
   "source": [
    "# 将ulist的信息打印出来，num指定打印的数量\n",
    "def printUnivList(ulist,num):\n",
    "    # 格式对齐调整\n",
    "    tplt = \"{0:^10}\\t{1:{4}^10}\\t{2:^10}\\t{3:^10}\" # {1:{4}^10}表示打印第一列变量（学校名称）时，使用format中的第4个变量chr(12288)填充\n",
    "    # 打印表头\n",
    "    print(tplt.format(\"排名\", \"学校名称\", \"省市\", \"总分\", chr(12288))) # chr(12288)改为增加中文空格补全\n",
    "    # 打印学校的其他信息\n",
    "    for i in range(num):\n",
    "        # 将第i个学校的信息存到变量u中，u为列表类型，然后将每一所学校的信息打印出来，注意使用跟表头相一致的字符串表示\n",
    "        u = ulist[i]\n",
    "        print(tplt.format(u[0], u[1], u[2], u[3], chr(12288)))\n",
    "    # 函数编写完成，注释掉print(\"Suc\" + str(num))  \n",
    "    # print(\"Suc\" + str(num))"
   ]
  },
  {
   "cell_type": "code",
   "execution_count": 32,
   "metadata": {
    "collapsed": false
   },
   "outputs": [
    {
     "name": "stdout",
     "output_type": "stream",
     "text": [
      "    排名    \t　　　学校名称　　　\t    省市    \t    总分    \n",
      "    1     \t　　　清华大学　　　\t    北京    \t   94.6   \n",
      "    2     \t　　　北京大学　　　\t    北京    \t   76.5   \n",
      "    3     \t　　　浙江大学　　　\t    浙江    \t   72.9   \n",
      "    4     \t　　上海交通大学　　\t    上海    \t   72.1   \n",
      "    5     \t　　　复旦大学　　　\t    上海    \t   65.6   \n",
      "    6     \t　中国科学技术大学　\t    安徽    \t   60.9   \n",
      "    7     \t　　华中科技大学　　\t    湖北    \t   58.9   \n",
      "    7     \t　　　南京大学　　　\t    江苏    \t   58.9   \n",
      "    9     \t　　　中山大学　　　\t    广东    \t   58.2   \n",
      "    10    \t　哈尔滨工业大学　　\t   黑龙江    \t   56.7   \n",
      "    11    \t　北京航空航天大学　\t    北京    \t   56.3   \n",
      "    12    \t　　　武汉大学　　　\t    湖北    \t   56.2   \n",
      "    13    \t　　　同济大学　　　\t    上海    \t   55.7   \n",
      "    14    \t　　西安交通大学　　\t    陕西    \t   55.0   \n",
      "    15    \t　　　四川大学　　　\t    四川    \t   54.4   \n",
      "    16    \t　　北京理工大学　　\t    北京    \t   54.0   \n",
      "    17    \t　　　东南大学　　　\t    江苏    \t   53.6   \n",
      "    18    \t　　　南开大学　　　\t    天津    \t   52.8   \n",
      "    19    \t　　　天津大学　　　\t    天津    \t   52.3   \n",
      "    20    \t　　华南理工大学　　\t    广东    \t   52.0   \n"
     ]
    }
   ],
   "source": [
    "# 写主函数\n",
    "def main():\n",
    "    # 将大学信息放到一个uinfo的列表中\n",
    "    uinfo = []\n",
    "    url = 'http://www.zuihaodaxue.com/zuihaodaxuepaiming2019.html'\n",
    "    # 将url转换成html\n",
    "    html = getHTMLText(url)\n",
    "    # 将html信息提出后放在uinfo的变量中\n",
    "    fillUnivList(uinfo, html)\n",
    "    # 打印大学信息\n",
    "    printUnivList(uinfo, 20)  # 打印前20所学校的信息\n",
    "    \n",
    "main()\n",
    "# 然后添加各个函数的功能"
   ]
  },
  {
   "cell_type": "code",
   "execution_count": null,
   "metadata": {
    "collapsed": true
   },
   "outputs": [],
   "source": []
  }
 ],
 "metadata": {
  "anaconda-cloud": {},
  "kernelspec": {
   "display_name": "Python [default]",
   "language": "python",
   "name": "python3"
  },
  "language_info": {
   "codemirror_mode": {
    "name": "ipython",
    "version": 3
   },
   "file_extension": ".py",
   "mimetype": "text/x-python",
   "name": "python",
   "nbconvert_exporter": "python",
   "pygments_lexer": "ipython3",
   "version": "3.5.6"
  }
 },
 "nbformat": 4,
 "nbformat_minor": 1
}
