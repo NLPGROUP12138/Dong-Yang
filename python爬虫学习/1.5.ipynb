{
 "cells": [
  {
   "cell_type": "code",
   "execution_count": 1,
   "metadata": {
    "collapsed": true
   },
   "outputs": [],
   "source": [
    "import requests"
   ]
  },
  {
   "cell_type": "code",
   "execution_count": 2,
   "metadata": {
    "collapsed": true
   },
   "outputs": [],
   "source": [
    "url = \"http://m.ip138.com/ip.asp?ip=\"\n",
    "r = requests.get(url + '202.204.80.112')"
   ]
  },
  {
   "cell_type": "code",
   "execution_count": 3,
   "metadata": {
    "collapsed": false
   },
   "outputs": [
    {
     "data": {
      "text/plain": [
       "200"
      ]
     },
     "execution_count": 3,
     "metadata": {},
     "output_type": "execute_result"
    }
   ],
   "source": [
    "r.status_code"
   ]
  },
  {
   "cell_type": "code",
   "execution_count": 5,
   "metadata": {
    "collapsed": false
   },
   "outputs": [
    {
     "data": {
      "text/plain": [
       "'<?xml version=\"1.0\" encoding=\"UTF-8\"?>\\r\\n<!DOCTYPE html PUBLIC \"-//WAPFORUM//DTD XHTML Mobile 1.0//EN\" \"http://www.wapforum.org/DTD/xhtml-mobile10.dtd\">\\r\\n<html xmlns=\"http://www.w3.org/1999/xhtml\">\\r\\n<head>\\r\\n<meta http-equiv=\"Content-Type\" content=\"application/xhtml+xml; charset=UTF-8\"/>\\r\\n<meta name=\"viewport\" content=\"width=device-width,user-scalable=no\" />\\r\\n<link href=\"/apple-touch-icon.png\" rel=\"apple-touch-icon\"  />\\r\\n<link href=\"/style/common.css\" rel=\"stylesheet\" type=\"text/css\" />\\r\\n<link href=\"/style/ip.css\" rel=\"stylesheet\" type=\"text/css\" />\\r\\n<title>IP地址在线查询 m.ip138.com 查询网</title>\\r\\n</head>\\r\\n<body>\\r\\n\\r\\n\\t<div class=\"wraper\">\\r\\n\\t\\t<div class=\"header\">\\r\\n\\t\\t\\t<div class=\"header-box\">\\r\\n\\t\\t\\t\\t<a href=\"/\" class=\"logo\"><img src=\"/image/logo.png\" width=\"47\" height=\"35\"/>iP138</a>\\r\\n\\t\\t\\t\\t<span class=\"naver\" id=\"naver\"><span class=\"naver-text\">导航</span><span class=\"naver-icon\"></span></span>\\r\\n\\t\\t\\t\\t<div class=\"naver-sub\" id=\"naver-sub\">\\r\\n\\t\\t\\t\\t\\t<ul>\\r\\n\\t\\t\\t\\t\\t\\t<li><a href=\"/ip.html\">iP查询</a></li>\\r\\n\\t\\t\\t\\t\\t\\t<li'"
      ]
     },
     "execution_count": 5,
     "metadata": {},
     "output_type": "execute_result"
    }
   ],
   "source": [
    "r.text[:1000]\n"
   ]
  },
  {
   "cell_type": "code",
   "execution_count": 7,
   "metadata": {
    "collapsed": false
   },
   "outputs": [
    {
     "name": "stdout",
     "output_type": "stream",
     "text": [
      "value=\"查询\" class=\"form-btn\" />\r\n",
      "\t\t\t\t\t</form>\r\n",
      "\t\t\t\t</div>\r\n",
      "\t\t\t\t<div class=\"query-hd\">ip138.com IP查询(搜索IP地址的地理位置)</div>\r\n",
      "\t\t\t\t<h1 class=\"query\">您查询的IP：202.204.80.112</h1><p class=\"result\">本站主数据：北京市海淀区 北京理工大学 教育网</p><p class=\"result\">参考数据一：北京市 北京理工大学</p>\r\n",
      "\r\n",
      "\t\t\t</div>\r\n",
      "\t\t</div>\r\n",
      "\r\n",
      "\t\t<div class=\"footer\">\r\n",
      "\t\t\t<a href=\"http://www.miitbeian.gov.cn/\" rel=\"nofollow\" target=\"_blank\">沪ICP备10013467号-1</a>\r\n",
      "\t\t</div>\r\n",
      "\t</div>\r\n",
      "\r\n",
      "\t<script type=\"text/javascript\" src=\"/script/common.js\"></script></body>\r\n",
      "</html>\r\n",
      "\n"
     ]
    }
   ],
   "source": [
    "import requests\n",
    "url = \"http://m.ip138.com/ip.asp?ip=\"\n",
    "try:\n",
    "    r = requests.get(url+'202.204.80.112')\n",
    "    r.raise_for_status()\n",
    "    r.encoding = r.apparent_encoding\n",
    "    print(r.text[-500:])\n",
    "except:\n",
    "    print(\"爬取失败\")"
   ]
  },
  {
   "cell_type": "code",
   "execution_count": null,
   "metadata": {
    "collapsed": true
   },
   "outputs": [],
   "source": []
  }
 ],
 "metadata": {
  "anaconda-cloud": {},
  "kernelspec": {
   "display_name": "Python [default]",
   "language": "python",
   "name": "python3"
  },
  "language_info": {
   "codemirror_mode": {
    "name": "ipython",
    "version": 3
   },
   "file_extension": ".py",
   "mimetype": "text/x-python",
   "name": "python",
   "nbconvert_exporter": "python",
   "pygments_lexer": "ipython3",
   "version": "3.5.6"
  }
 },
 "nbformat": 4,
 "nbformat_minor": 1
}
