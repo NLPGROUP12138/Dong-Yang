{
 "cells": [
  {
   "cell_type": "code",
   "execution_count": 94,
   "metadata": {
    "collapsed": true
   },
   "outputs": [],
   "source": [
    "import pandas as pd, numpy as np\n",
    "from sklearn.linear_model import LogisticRegression\n",
    "from sklearn.feature_extraction.text import CountVectorizer, TfidfVectorizer\n",
    "import time\n",
    "import xgboost as xgb\n",
    "from tqdm import tqdm\n",
    "from sklearn.svm import SVC\n",
    "from sklearn import preprocessing, decomposition, model_selection, metrics\n",
    "from sklearn.model_selection import GridSearchCV\n",
    "from sklearn.model_selection import train_test_split\n",
    "from sklearn.naive_bayes import MultinomialNB\n",
    "from sklearn.feature_extraction.text import TfidfVectorizer, CountVectorizer\n",
    "from sklearn.decomposition import TruncatedSVD\n",
    "from bs4 import BeautifulSoup\n",
    "\n",
    "\n",
    "# from keras.preprocessing import sequence, text\n",
    "# from keras.models import Sequential"
   ]
  },
  {
   "cell_type": "code",
   "execution_count": 95,
   "metadata": {
    "collapsed": true
   },
   "outputs": [],
   "source": [
    "from sklearn import pipeline"
   ]
  },
  {
   "cell_type": "code",
   "execution_count": 96,
   "metadata": {},
   "outputs": [
    {
     "name": "stdout",
     "output_type": "stream",
     "text": [
      "<class 'pandas.core.frame.DataFrame'>\n",
      "Int64Index: 7265 entries, 0 to 7339\n",
      "Data columns (total 5 columns):\n",
      "id         7265 non-null object\n",
      "title      7265 non-null object\n",
      "content    7265 non-null object\n",
      "label      7265 non-null int64\n",
      "X          7265 non-null object\n",
      "dtypes: int64(1), object(4)\n",
      "memory usage: 340.5+ KB\n",
      "None\n"
     ]
    },
    {
     "name": "stderr",
     "output_type": "stream",
     "text": [
      "C:\\Users\\dongy\\Anaconda3\\envs\\tensorflow\\lib\\site-packages\\ipykernel\\__main__.py:11: SettingWithCopyWarning: \n",
      "A value is trying to be set on a copy of a slice from a DataFrame.\n",
      "Try using .loc[row_indexer,col_indexer] = value instead\n",
      "\n",
      "See the caveats in the documentation: http://pandas.pydata.org/pandas-docs/stable/indexing.html#indexing-view-versus-copy\n",
      "C:\\Users\\dongy\\Anaconda3\\envs\\tensorflow\\lib\\site-packages\\ipykernel\\__main__.py:12: SettingWithCopyWarning: \n",
      "A value is trying to be set on a copy of a slice from a DataFrame.\n",
      "Try using .loc[row_indexer,col_indexer] = value instead\n",
      "\n",
      "See the caveats in the documentation: http://pandas.pydata.org/pandas-docs/stable/indexing.html#indexing-view-versus-copy\n"
     ]
    }
   ],
   "source": [
    "import jieba\n",
    "#处理训练集，将训练集的文本信息和label信息合并，清洗特殊符号，同时将文本内容进行分词\n",
    "def merge_feature_label(feature_name,label_name):\n",
    "    feature=pd.read_csv(feature_name,sep=\",\")\n",
    "    label=pd.read_csv(label_name,sep=\",\")\n",
    "    data=feature.merge(label,on='id')\n",
    "    data[\"X\"]=data[[\"title\",\"content\"]].apply(lambda x:\"\".join([str(x[0]),str(x[1])]),axis=1)\n",
    "    # 丢掉缺失值\n",
    "    dataDropNa=data.dropna(axis=0, how='any')\n",
    "    print(dataDropNa.info())\n",
    "    dataDropNa[\"X\"]=dataDropNa[\"X\"].apply(lambda x: str(x).replace(\"\\\\n\",\"\").replace(\".\",\"\").replace(\"\\n\",\"\").replace(\"　\",\"\").replace(\"↓\",\"\").replace(\"/\",\"\").replace(\"|\",\"\").replace(\" \",\"\"))\n",
    "    dataDropNa[\"X_split\"]=dataDropNa[\"X\"].apply(lambda x:\" \".join(jieba.cut(x)))\n",
    "    return dataDropNa\n",
    " \n",
    "dataDropNa=merge_feature_label(\"Train_DataSet.csv\",\"Train_DataSet_Label.csv\")"
   ]
  },
  {
   "cell_type": "code",
   "execution_count": 102,
   "metadata": {},
   "outputs": [
    {
     "data": {
      "text/plain": [
       "array([2, 1, 0], dtype=int64)"
      ]
     },
     "execution_count": 102,
     "metadata": {},
     "output_type": "execute_result"
    }
   ],
   "source": [
    "dataDropNa.label.unique()"
   ]
  },
  {
   "cell_type": "code",
   "execution_count": 103,
   "metadata": {
    "collapsed": true
   },
   "outputs": [],
   "source": [
    "data = dataDropNa"
   ]
  },
  {
   "cell_type": "code",
   "execution_count": 121,
   "metadata": {},
   "outputs": [
    {
     "data": {
      "text/plain": [
       "pandas.core.frame.DataFrame"
      ]
     },
     "execution_count": 121,
     "metadata": {},
     "output_type": "execute_result"
    }
   ],
   "source": [
    "type(data)"
   ]
  },
  {
   "cell_type": "code",
   "execution_count": 104,
   "metadata": {},
   "outputs": [
    {
     "data": {
      "text/plain": [
       "pandas.core.series.Series"
      ]
     },
     "execution_count": 104,
     "metadata": {},
     "output_type": "execute_result"
    }
   ],
   "source": [
    "type(data[\"X_split\"])"
   ]
  },
  {
   "cell_type": "code",
   "execution_count": 105,
   "metadata": {
    "collapsed": true
   },
   "outputs": [],
   "source": [
    "# data[\"X_split\"].head"
   ]
  },
  {
   "cell_type": "code",
   "execution_count": 106,
   "metadata": {},
   "outputs": [
    {
     "name": "stdout",
     "output_type": "stream",
     "text": [
      "<class 'pandas.core.frame.DataFrame'>\n",
      "RangeIndex: 7356 entries, 0 to 7355\n",
      "Data columns (total 4 columns):\n",
      "id         7356 non-null object\n",
      "title      7356 non-null object\n",
      "content    7288 non-null object\n",
      "X          7356 non-null object\n",
      "dtypes: object(4)\n",
      "memory usage: 230.0+ KB\n",
      "None\n"
     ]
    }
   ],
   "source": [
    "#处理测试数据\n",
    "def process_test(test_name):\n",
    "    test=pd.read_csv(test_name,sep=\",\")\n",
    "    # apply()方法能劫持另外一个对象的方法，继承另外一个对象的属性 \n",
    "    # lambda https://blog.csdn.net/zjuxsl/article/details/79437563\n",
    "    #  join() 方法用于将序列中的元素以指定的字符连接生成一个新的字符串。\n",
    "    test[\"X\"]=test[[\"title\",\"content\"]].apply(lambda x:\"\".join([str(x[0]),str(x[1])]),axis=1)\n",
    "    # 列名信息\n",
    "    print(test.info())\n",
    "    # replace(old, new) 方法把字符串中的 old（旧字符串） 替换成 new(新字符串)，如果指定第三个参数max，则替换不超过 max 次。\n",
    "    test[\"X\"]=test[\"X\"].apply(lambda x: str(x).replace(\"\\\\n\",\"\").replace(\".\",\"\").replace(\"\\n\",\"\").replace(\"　\",\"\").replace(\"↓\",\"\").replace(\"/\",\"\").replace(\"|\",\"\").replace(\" \",\"\"))\n",
    "    # jieba.cut()按照词性切分“我爱中国”切分成我爱中国\n",
    "    test[\"X_split\"]=test[\"X\"].apply(lambda x:\" \".join(jieba.cut(x)))\n",
    "    return test\n",
    " \n",
    "testData=process_test(\"Test_DataSet.csv\")"
   ]
  },
  {
   "cell_type": "code",
   "execution_count": 113,
   "metadata": {
    "collapsed": true
   },
   "outputs": [],
   "source": [
    "test_data = testData\n"
   ]
  },
  {
   "cell_type": "code",
   "execution_count": null,
   "metadata": {
    "collapsed": true
   },
   "outputs": [],
   "source": [
    "# data.head()"
   ]
  },
  {
   "cell_type": "code",
   "execution_count": 8,
   "metadata": {
    "collapsed": true
   },
   "outputs": [],
   "source": [
    "def multiclass_logloss(actual, predicted, eps = 1e-15):\n",
    "    \"对数损失度量\"\n",
    "    \n",
    "    if len(actual.shape)==1:\n",
    "        actual2 = np.zeros((actual.shape[0], predicted.shape[1]))\n",
    "        for i, val in enumerate(actual):\n",
    "            actual2[i, val] = 1\n",
    "        actual = actual2\n",
    "        \n",
    "    clip = np.clip(predicted, eps, 1-eps)\n",
    "    rows = actual.shape[0]\n",
    "    vsota = np.sum(actual * np.log(clip))\n",
    "    return -1.0 / rows * vsota\n",
    "    "
   ]
  },
  {
   "cell_type": "code",
   "execution_count": 125,
   "metadata": {
    "collapsed": true
   },
   "outputs": [],
   "source": [
    "# lbl_enc = preprocessing.LabelEncoder()\n",
    "# y = lbl_enc.fit_transform(data.label.values)\n",
    "xdata = data.X_split.values # 总训练集 文本\n",
    "y = data.label.values # 训练集label\n",
    "ydata = test_data.X_split.values #测试集 文本"
   ]
  },
  {
   "cell_type": "code",
   "execution_count": 92,
   "metadata": {
    "collapsed": true
   },
   "outputs": [],
   "source": [
    "xtrain, xvalid, ytrain, yvalid = train_test_split(xdata, y,\n",
    "                                                  stratify=y, \n",
    "                                                  random_state=42,\n",
    "                                                  test_size=0.1, shuffle=True)"
   ]
  },
  {
   "cell_type": "code",
   "execution_count": 69,
   "metadata": {},
   "outputs": [
    {
     "name": "stdout",
     "output_type": "stream",
     "text": [
      "(6538,)\n",
      "(727,)\n"
     ]
    }
   ],
   "source": [
    "print (xtrain.shape) \n",
    "print (xvalid.shape)"
   ]
  },
  {
   "cell_type": "code",
   "execution_count": 137,
   "metadata": {},
   "outputs": [
    {
     "data": {
      "text/plain": [
       "(7356,)"
      ]
     },
     "execution_count": 137,
     "metadata": {},
     "output_type": "execute_result"
    }
   ],
   "source": [
    "ydata.shape"
   ]
  },
  {
   "cell_type": "code",
   "execution_count": 131,
   "metadata": {},
   "outputs": [
    {
     "data": {
      "text/plain": [
       "numpy.ndarray"
      ]
     },
     "execution_count": 131,
     "metadata": {},
     "output_type": "execute_result"
    }
   ],
   "source": [
    "type(ytrain)"
   ]
  },
  {
   "cell_type": "code",
   "execution_count": 127,
   "metadata": {},
   "outputs": [
    {
     "data": {
      "text/plain": [
       "numpy.ndarray"
      ]
     },
     "execution_count": 127,
     "metadata": {},
     "output_type": "execute_result"
    }
   ],
   "source": [
    "type(xdata)"
   ]
  },
  {
   "cell_type": "code",
   "execution_count": 126,
   "metadata": {},
   "outputs": [
    {
     "data": {
      "text/plain": [
       "numpy.ndarray"
      ]
     },
     "execution_count": 126,
     "metadata": {},
     "output_type": "execute_result"
    }
   ],
   "source": [
    "type(ydata)"
   ]
  },
  {
   "cell_type": "markdown",
   "metadata": {},
   "source": [
    "**构建基础模型(Basic Models)**"
   ]
  },
  {
   "cell_type": "markdown",
   "metadata": {},
   "source": [
    "简单的 TF-IDF (Term Frequency - Inverse Document Frequency)+逻辑斯底回归(Logistic Regression)."
   ]
  },
  {
   "cell_type": "code",
   "execution_count": 12,
   "metadata": {
    "collapsed": true
   },
   "outputs": [],
   "source": [
    "def number_normalizer(tokens): \n",
    "    \"\"\" 将所有数字标记映射为一个占位符(Placeholder)。 \n",
    "    对于许多实际应用场景来说,以数字开头的tokens不是很有用, 但这样tokens的存在也有一定相关性。 \n",
    "    通过将所有数字都表示成同一个符号,可以达到降维的目的。 \n",
    "    \"\"\"\n",
    "    return (\"#NUMBER\" if token[0].isdigit() else token for token in tokens)\n",
    "class NumberNormalizingVectorizer(TfidfVectorizer):\n",
    "    def build_tokenizer(self):\n",
    "        tokenize = super(NumberNormalizingVectorizer, self).build_tokenizer()\n",
    "        return lambda doc: list(number_normalizer(tokenize(doc)))"
   ]
  },
  {
   "cell_type": "markdown",
   "metadata": {},
   "source": [
    "利用刚才创建的NumberNormalizingVectorizer类来提取文本特征"
   ]
  },
  {
   "cell_type": "code",
   "execution_count": 52,
   "metadata": {
    "collapsed": true
   },
   "outputs": [],
   "source": [
    "tfv = NumberNormalizingVectorizer(min_df=3, \n",
    "                                  max_df=0.5,\n",
    "                                  max_features=None, \n",
    "                                  ngram_range=(1, 2), \n",
    "                                  use_idf=True, \n",
    "                                  smooth_idf=True)"
   ]
  },
  {
   "cell_type": "code",
   "execution_count": 115,
   "metadata": {},
   "outputs": [
    {
     "name": "stdout",
     "output_type": "stream",
     "text": [
      "NumberNormalizingVectorizer(analyzer='word', binary=False,\n",
      "              decode_error='strict', dtype=<class 'numpy.int64'>,\n",
      "              encoding='utf-8', input='content', lowercase=True,\n",
      "              max_df=0.5, max_features=None, min_df=3, ngram_range=(1, 2),\n",
      "              norm='l2', preprocessor=None, smooth_idf=True,\n",
      "              stop_words=None, strip_accents=None, sublinear_tf=False,\n",
      "              token_pattern='(?u)\\\\b\\\\w\\\\w+\\\\b', tokenizer=None,\n",
      "              use_idf=True, vocabulary=None)\n"
     ]
    }
   ],
   "source": [
    "print(tfv)"
   ]
  },
  {
   "cell_type": "markdown",
   "metadata": {},
   "source": [
    "使用TF-IDF来fit训练集和测试集(半监督学习)"
   ]
  },
  {
   "cell_type": "code",
   "execution_count": 14,
   "metadata": {
    "collapsed": true
   },
   "outputs": [],
   "source": [
    "tfv.fit(list(xtrain) + list(xvalid))\n",
    "xtrain_tfv = tfv.transform(xtrain)\n",
    "xvalid_tfv = tfv.transform(xvalid)\n",
    "\n",
    "\n"
   ]
  },
  {
   "cell_type": "markdown",
   "metadata": {},
   "source": [
    "利用提取的TFIDF特征来fit一个简单的Logistic Regression :"
   ]
  },
  {
   "cell_type": "code",
   "execution_count": 15,
   "metadata": {},
   "outputs": [
    {
     "name": "stdout",
     "output_type": "stream",
     "text": [
      "logloss: 0.642 \n"
     ]
    }
   ],
   "source": [
    "clf = LogisticRegression(C=1.0,solver='lbfgs',multi_class='multinomial')\n",
    "clf.fit(xtrain_tfv, ytrain) \n",
    "predictions = clf.predict_proba(xvalid_tfv)\n",
    "print (\"logloss: %0.3f \" % multiclass_logloss(yvalid, predictions))"
   ]
  },
  {
   "cell_type": "markdown",
   "metadata": {},
   "source": [
    "使用词汇计数(Word Counts)作为功能,而不是使用TF-IDF。 这可以使用scikit-learn"
   ]
  },
  {
   "cell_type": "code",
   "execution_count": 16,
   "metadata": {
    "collapsed": true
   },
   "outputs": [],
   "source": [
    "ctv = CountVectorizer(min_df=3, \n",
    "                      max_df=0.5, \n",
    "                      ngram_range=(1,2)\n",
    "                     )"
   ]
  },
  {
   "cell_type": "markdown",
   "metadata": {},
   "source": [
    "使用Count Vectorizer来fit训练集和测试集(半监督学习)"
   ]
  },
  {
   "cell_type": "code",
   "execution_count": 128,
   "metadata": {
    "collapsed": true
   },
   "outputs": [],
   "source": [
    "ctv.fit(list(xtrain) + list(xvalid)) \n",
    "xtrain_ctv = ctv.transform(xtrain) \n",
    "xvalid_ctv = ctv.transform(xvalid)\n",
    "\n",
    "\n",
    "\n",
    "xdata_ctv = ctv.transform(xdata)\n",
    "ydata_ctv = ctv.transform(ydata)\n",
    "\n",
    "# 正确"
   ]
  },
  {
   "cell_type": "code",
   "execution_count": null,
   "metadata": {
    "collapsed": true
   },
   "outputs": [],
   "source": []
  },
  {
   "cell_type": "markdown",
   "metadata": {},
   "source": [
    "利用提取的word counts特征来fit一个简单的Logistic Regression ."
   ]
  },
  {
   "cell_type": "code",
   "execution_count": 18,
   "metadata": {},
   "outputs": [
    {
     "name": "stdout",
     "output_type": "stream",
     "text": [
      "logloss: 1.600 \n"
     ]
    }
   ],
   "source": [
    "clf = LogisticRegression(C=1.0,solver='lbfgs',multi_class='multinomial') \n",
    "clf.fit(xtrain_ctv, ytrain) \n",
    "predictions = clf.predict_proba(xvalid_ctv) \n",
    "\n",
    "print (\"logloss: %0.3f \" % multiclass_logloss(yvalid, predictions))"
   ]
  },
  {
   "cell_type": "markdown",
   "metadata": {},
   "source": [
    "比之前者,效果略差。。。 \n",
    "\n",
    "接下来,尝试一个非常简单的模型- 朴素贝叶斯。 \n",
    "\n",
    "利用提取的TFIDF特征来拟合Naive Bayes "
   ]
  },
  {
   "cell_type": "code",
   "execution_count": 19,
   "metadata": {},
   "outputs": [
    {
     "name": "stdout",
     "output_type": "stream",
     "text": [
      "logloss: 0.904 \n"
     ]
    }
   ],
   "source": [
    "clf = MultinomialNB() \n",
    "clf.fit(xtrain_tfv, ytrain) \n",
    "predictions = clf.predict_proba(xvalid_tfv) \n",
    "\n",
    "\n",
    "print (\"logloss: %0.3f \" % multiclass_logloss(yvalid, predictions))"
   ]
  },
  {
   "cell_type": "markdown",
   "metadata": {},
   "source": [
    "效果更差。。。"
   ]
  },
  {
   "cell_type": "markdown",
   "metadata": {},
   "source": [
    "朴素贝叶斯模型的表现不怎么样! \n",
    "\n",
    "但基于词汇计数的逻辑回归的效果仍然很棒! \n",
    "\n",
    "当我们在基于词汇计数的基础上使用朴素贝叶斯模型时会发生什么? \n",
    "\n",
    "利用提取的word counts特征来fitNaive Bayes "
   ]
  },
  {
   "cell_type": "code",
   "execution_count": 20,
   "metadata": {},
   "outputs": [
    {
     "name": "stdout",
     "output_type": "stream",
     "text": [
      "logloss: 6.870 \n"
     ]
    }
   ],
   "source": [
    "clf = MultinomialNB() \n",
    "clf.fit(xtrain_ctv, ytrain) \n",
    "predictions = clf.predict_proba(xvalid_ctv) \n",
    "print (\"logloss: %0.3f \" % multiclass_logloss(yvalid, predictions))"
   ]
  },
  {
   "cell_type": "markdown",
   "metadata": {},
   "source": [
    "效果不好。。。\n",
    "\n",
    "改用SVM\n",
    "\n",
    "由于SVM需要花费大量时间,因此在应用SVM之前,我们将使用奇异值分解(Singular Value Decomposition )来减少TF-IDF中的特征数量。\n",
    "\n",
    "同时,在使用SVM之前,我们还需要将数据标准化(Standardize Data ) \n",
    "\n",
    "使用SVD进行降维,components设为120,对于SVM来说,SVD的components的合适调整区间一般为120~200 。 "
   ]
  },
  {
   "cell_type": "code",
   "execution_count": 21,
   "metadata": {},
   "outputs": [
    {
     "data": {
      "text/plain": [
       "TruncatedSVD(algorithm='randomized', n_components=120, n_iter=5,\n",
       "       random_state=None, tol=0.0)"
      ]
     },
     "execution_count": 21,
     "metadata": {},
     "output_type": "execute_result"
    }
   ],
   "source": [
    "svd = decomposition.TruncatedSVD(n_components=120) \n",
    "svd.fit(xtrain_tfv) \n"
   ]
  },
  {
   "cell_type": "code",
   "execution_count": 22,
   "metadata": {
    "collapsed": true
   },
   "outputs": [],
   "source": [
    "xtrain_svd = svd.transform(xtrain_tfv) \n",
    "xvalid_svd = svd.transform(xvalid_tfv)"
   ]
  },
  {
   "cell_type": "markdown",
   "metadata": {},
   "source": [
    "对从SVD获得的数据进行缩放:"
   ]
  },
  {
   "cell_type": "code",
   "execution_count": 23,
   "metadata": {
    "collapsed": true
   },
   "outputs": [],
   "source": [
    "scl = preprocessing.StandardScaler()\n",
    "scl.fit(xtrain_svd)\n",
    "xtrain_svd_scl = scl.transform(xtrain_svd)\n",
    "xvalid_svd_scl = scl.transform(xvalid_svd)"
   ]
  },
  {
   "cell_type": "markdown",
   "metadata": {},
   "source": [
    "调用下SVM模型："
   ]
  },
  {
   "cell_type": "code",
   "execution_count": 24,
   "metadata": {},
   "outputs": [
    {
     "name": "stdout",
     "output_type": "stream",
     "text": [
      "logloss: 0.635 \n"
     ]
    }
   ],
   "source": [
    "clf = SVC(C=1.0, probability=True) # since we need probabilities\n",
    "clf.fit(xtrain_svd_scl, ytrain)\n",
    "predictions = clf.predict_proba(xvalid_svd_scl)\n",
    "\n",
    "print (\"logloss: %0.3f \" % multiclass_logloss(yvalid, predictions))"
   ]
  },
  {
   "cell_type": "markdown",
   "metadata": {},
   "source": [
    "看起来，SVM在这些数据上表现还行！\n",
    "\n",
    "在采用更高级的算法前，让我们再试试Kaggle上应用最流行的算法：xgboost！\n",
    "\n",
    "基于tf-idf特征，使用xgboost"
   ]
  },
  {
   "cell_type": "code",
   "execution_count": 25,
   "metadata": {},
   "outputs": [
    {
     "name": "stdout",
     "output_type": "stream",
     "text": [
      "logloss: 0.614 \n"
     ]
    }
   ],
   "source": [
    "clf = xgb.XGBClassifier(max_depth=7, n_estimators=200, colsample_bytree=0.8, \n",
    "                        subsample=0.8, nthread=10, learning_rate=0.1)\n",
    "clf.fit(xtrain_tfv.tocsc(), ytrain)\n",
    "predictions = clf.predict_proba(xvalid_tfv.tocsc())\n",
    "\n",
    "print (\"logloss: %0.3f \" % multiclass_logloss(yvalid, predictions))"
   ]
  },
  {
   "cell_type": "markdown",
   "metadata": {},
   "source": [
    "效果不错，比SVM还牛呢！\n",
    "\n",
    "## 基于word counts特征，使用xgboost：\n"
   ]
  },
  {
   "cell_type": "code",
   "execution_count": 48,
   "metadata": {},
   "outputs": [
    {
     "name": "stdout",
     "output_type": "stream",
     "text": [
      "logloss: 0.590 \n"
     ]
    }
   ],
   "source": [
    "clf = xgb.XGBClassifier(max_depth=7, n_estimators=200, colsample_bytree=0.8, \n",
    "                        subsample=0.8, nthread=10, learning_rate=0.1)\n",
    "clf.fit(xtrain_ctv.tocsc(), ytrain)\n",
    "predictions = clf.predict_proba(xvalid_ctv.tocsc())\n",
    "\n",
    "print(\"logloss: %0.3f \" % multiclass_logloss(yvalid, predictions))\n"
   ]
  },
  {
   "cell_type": "code",
   "execution_count": 133,
   "metadata": {},
   "outputs": [
    {
     "data": {
      "text/plain": [
       "numpy.ndarray"
      ]
     },
     "execution_count": 133,
     "metadata": {},
     "output_type": "execute_result"
    }
   ],
   "source": [
    "type(predictions)"
   ]
  },
  {
   "cell_type": "code",
   "execution_count": 146,
   "metadata": {},
   "outputs": [
    {
     "data": {
      "text/plain": [
       "XGBClassifier(base_score=0.5, booster='gbtree', colsample_bylevel=1,\n",
       "       colsample_bynode=1, colsample_bytree=0.8, gamma=0,\n",
       "       learning_rate=0.1, max_delta_step=0, max_depth=7,\n",
       "       min_child_weight=1, missing=None, n_estimators=200, n_jobs=1,\n",
       "       nthread=10, objective='multi:softprob', random_state=0, reg_alpha=0,\n",
       "       reg_lambda=1, scale_pos_weight=1, seed=None, silent=None,\n",
       "       subsample=0.8, verbosity=1)"
      ]
     },
     "execution_count": 146,
     "metadata": {},
     "output_type": "execute_result"
    }
   ],
   "source": [
    "clf = xgb.XGBClassifier(max_depth=7, n_estimators=200, colsample_bytree=0.8, \n",
    "                        subsample=0.8, nthread=10, learning_rate=0.1)\n",
    "clf.fit(xdata_ctv.tocsc(), y)\n",
    "\n",
    "\n",
    "\n"
   ]
  },
  {
   "cell_type": "code",
   "execution_count": 143,
   "metadata": {},
   "outputs": [
    {
     "data": {
      "text/plain": [
       "array([[ 0.4464027 ,  0.53692979,  0.01666747],\n",
       "       [ 0.10165917,  0.48607007,  0.41227075],\n",
       "       [ 0.0044926 ,  0.86899853,  0.12650888],\n",
       "       ..., \n",
       "       [ 0.24134403,  0.75696921,  0.00168679],\n",
       "       [ 0.14721394,  0.84507471,  0.00771137],\n",
       "       [ 0.09660997,  0.87886864,  0.02452142]], dtype=float32)"
      ]
     },
     "execution_count": 143,
     "metadata": {},
     "output_type": "execute_result"
    }
   ],
   "source": [
    "# predictions"
   ]
  },
  {
   "cell_type": "code",
   "execution_count": 147,
   "metadata": {},
   "outputs": [
    {
     "name": "stdout",
     "output_type": "stream",
     "text": [
      "(7356, 1)\n"
     ]
    }
   ],
   "source": [
    "predictions = clf.predict_proba(ydata_ctv.tocsc())\n",
    "preds=np.argmax(predictions,axis=1)\n",
    "test_pred=pd.DataFrame(preds)\n",
    "test_pred.columns=[\"label\"]\n",
    "print(test_pred.shape)\n"
   ]
  },
  {
   "cell_type": "code",
   "execution_count": 148,
   "metadata": {},
   "outputs": [
    {
     "data": {
      "text/html": [
       "<div>\n",
       "<style>\n",
       "    .dataframe thead tr:only-child th {\n",
       "        text-align: right;\n",
       "    }\n",
       "\n",
       "    .dataframe thead th {\n",
       "        text-align: left;\n",
       "    }\n",
       "\n",
       "    .dataframe tbody tr th {\n",
       "        vertical-align: top;\n",
       "    }\n",
       "</style>\n",
       "<table border=\"1\" class=\"dataframe\">\n",
       "  <thead>\n",
       "    <tr style=\"text-align: right;\">\n",
       "      <th></th>\n",
       "      <th>id</th>\n",
       "      <th>title</th>\n",
       "      <th>content</th>\n",
       "      <th>X</th>\n",
       "      <th>X_split</th>\n",
       "    </tr>\n",
       "  </thead>\n",
       "  <tbody>\n",
       "    <tr>\n",
       "      <th>0</th>\n",
       "      <td>00005a3efe934a19adc0b69b05faeae7</td>\n",
       "      <td>九江办好人民满意教育</td>\n",
       "      <td>近3年来，九江市紧紧围绕“人本教育、公平教育、优质教育、幸福教育”的目标，努力办好人民满意教...</td>\n",
       "      <td>九江办好人民满意教育近3年来，九江市紧紧围绕“人本教育、公平教育、优质教育、幸福教育”的目标...</td>\n",
       "      <td>九江 办好 人民满意 教育 近 3 年来 ， 九江市 紧紧围绕 “ 人 本 教育 、 公平 ...</td>\n",
       "    </tr>\n",
       "    <tr>\n",
       "      <th>1</th>\n",
       "      <td>0009dc82c41341d794837271d4dbff5f</td>\n",
       "      <td>中央第三生态环境保护督察组转办我市第三十一批信访件办理情况</td>\n",
       "      <td>中央第三生态环境保护督察组转办我市的第三十一批信访件共计1件，截至12月11日，已全部办结，...</td>\n",
       "      <td>中央第三生态环境保护督察组转办我市第三十一批信访件办理情况中央第三生态环境保护督察组转办我市...</td>\n",
       "      <td>中央 第三 生态 环境保护 督察组 转办 我市 第三十 一批 信访件 办理 情况 中央 第三...</td>\n",
       "    </tr>\n",
       "    <tr>\n",
       "      <th>2</th>\n",
       "      <td>000f3763b6074588817c9ab90a22a814</td>\n",
       "      <td>大雨天车被淹，保险公司该不该赔？</td>\n",
       "      <td>核心提示：近日，连续的降雨天气造成中心城区部分路段积水严重，一些市民驾车出行涉水时造成车辆被...</td>\n",
       "      <td>大雨天车被淹，保险公司该不该赔？核心提示：近日，连续的降雨天气造成中心城区部分路段积水严重，...</td>\n",
       "      <td>大雨天 车 被淹 ， 保险公司 该不该 赔 ？ 核心 提示 ： 近日 ， 连续 的 降雨 天...</td>\n",
       "    </tr>\n",
       "    <tr>\n",
       "      <th>3</th>\n",
       "      <td>00117934dbe240068c95b6d04b08eea7</td>\n",
       "      <td>英特尔新cpu微架构ocean cove曝光</td>\n",
       "      <td>intel在主流平台上确认，今年将推出基于14nm的whiskeylake，明年开始大规模出...</td>\n",
       "      <td>英特尔新cpu微架构oceancove曝光intel在主流平台上确认，今年将推出基于14nm...</td>\n",
       "      <td>英特尔 新 cpu 微 架构 oceancove 曝光 intel 在 主流 平台 上 确认...</td>\n",
       "    </tr>\n",
       "    <tr>\n",
       "      <th>4</th>\n",
       "      <td>0014cef5ccfa43b3a6b20162a03763fa</td>\n",
       "      <td>公安部侦破一批重大网络赌博案件 德州约局平台成重灾区</td>\n",
       "      <td>2018年4月，公安部指挥河南、北京、广西等地公安机关联合行动，成功侦破北京联众公司棋牌事业...</td>\n",
       "      <td>公安部侦破一批重大网络赌博案件德州约局平台成重灾区2018年4月，公安部指挥河南、北京、广西...</td>\n",
       "      <td>公安部 侦破 一批 重大 网络 赌博 案件 德州 约局 平台 成 重灾区 2018 年 4 ...</td>\n",
       "    </tr>\n",
       "    <tr>\n",
       "      <th>5</th>\n",
       "      <td>0015fb20dbd54d249a50559789f43c52</td>\n",
       "      <td>广西龙胜千层天梯闹春耕</td>\n",
       "      <td>“五一”小长假期间，广西龙胜各族自治县龙脊古壮寨举办传统农事活动——“开耕节”，当地壮族同胞...</td>\n",
       "      <td>广西龙胜千层天梯闹春耕“五一”小长假期间，广西龙胜各族自治县龙脊古壮寨举办传统农事活动——“...</td>\n",
       "      <td>广西 龙胜 千层 天梯 闹 春耕 “ 五一 ” 小 长假 期间 ， 广西 龙胜各族自治县 龙...</td>\n",
       "    </tr>\n",
       "    <tr>\n",
       "      <th>6</th>\n",
       "      <td>002a0b77fded4ae1abaa8ed9f2ad0824</td>\n",
       "      <td>高唐小伙:挺身而出救交警</td>\n",
       "      <td>“这都是俺应该做的，交警作为人民群众的保护者，当看到他们受到伤害时，俺相信每个人都会勇于站出...</td>\n",
       "      <td>高唐小伙:挺身而出救交警“这都是俺应该做的，交警作为人民群众的保护者，当看到他们受到伤害时，...</td>\n",
       "      <td>高唐 小伙 : 挺身而出 救 交警 “ 这 都 是 俺 应该 做 的 ， 交警 作为 人民 ...</td>\n",
       "    </tr>\n",
       "    <tr>\n",
       "      <th>7</th>\n",
       "      <td>002c023ddb7343fdb8b3652ace2ded15</td>\n",
       "      <td>东营共享单车远走青岛，中间到底发生了什么?</td>\n",
       "      <td>本来应该在东营的共享电单车，位置却显示在青岛平度。咋回事?哈罗单车工作人员通过后台监控系统追...</td>\n",
       "      <td>东营共享单车远走青岛，中间到底发生了什么?本来应该在东营的共享电单车，位置却显示在青岛平度。...</td>\n",
       "      <td>东营 共享 单车 远走 青岛 ， 中间 到底 发生 了 什么 ? 本来 应该 在 东营 的 ...</td>\n",
       "    </tr>\n",
       "    <tr>\n",
       "      <th>8</th>\n",
       "      <td>002daa98e1b240679212a1b7a0402996</td>\n",
       "      <td>已有19人被捕!你的老婆可能还在做…赶紧看!</td>\n",
       "      <td>在在朋友圈看到微商已经不是什么稀罕的事打开朋友圈随便一刷很多都是卖保健品、膏药、榨汁机之类的...</td>\n",
       "      <td>已有19人被捕!你的老婆可能还在做…赶紧看!在在朋友圈看到微商已经不是什么稀罕的事打开朋友圈...</td>\n",
       "      <td>已有 19 人 被捕 ! 你 的 老婆 可能 还 在 做 … 赶紧 看 ! 在 在 朋友圈 ...</td>\n",
       "    </tr>\n",
       "    <tr>\n",
       "      <th>9</th>\n",
       "      <td>00305089bee5422ca2423176c448e91a</td>\n",
       "      <td>这两名“飙车党”太猖狂，竟当着重庆民警面玩漂移</td>\n",
       "      <td>公路上的摩托“飙车党”一直是警方重点打击对象。昨（25）日，重庆渝北区分局交巡警支队两路大队...</td>\n",
       "      <td>这两名“飙车党”太猖狂，竟当着重庆民警面玩漂移公路上的摩托“飙车党”一直是警方重点打击对象。...</td>\n",
       "      <td>这 两名 “ 飙车 党 ” 太 猖狂 ， 竟 当着 重庆 民警 面玩 漂移 公路 上 的 摩...</td>\n",
       "    </tr>\n",
       "    <tr>\n",
       "      <th>10</th>\n",
       "      <td>00326db52586478f80d3c23908b32c69</td>\n",
       "      <td>沁园净水器ru05b好不好</td>\n",
       "      <td>沁园净水器ru05b好不好很好用，卖家服务态度很好，物流快，安装人员服务也好。沁园哪一款净水...</td>\n",
       "      <td>沁园净水器ru05b好不好沁园净水器ru05b好不好很好用，卖家服务态度很好，物流快，安装人...</td>\n",
       "      <td>沁园 净水器 ru05b 好不好 沁园 净水器 ru05b 好不好 很 好 用 ， 卖家 服...</td>\n",
       "    </tr>\n",
       "    <tr>\n",
       "      <th>11</th>\n",
       "      <td>0035484c19a94cbb96d9e552cfddf43d</td>\n",
       "      <td>国泰金业黑代理修改客户密码，恶意刷单致损失惨重-第一交易网</td>\n",
       "      <td>用户:谁**我5a4曝光平台:香港国泰金业有限公司5a4我于2015年7月28日在香港国泰金...</td>\n",
       "      <td>国泰金业黑代理修改客户密码，恶意刷单致损失惨重-第一交易网用户:谁**我5a4曝光平台:香港...</td>\n",
       "      <td>国泰 金业 黑 代理 修改 客户 密码 ， 恶意 刷 单致 损失惨重 - 第一 交易网 用户...</td>\n",
       "    </tr>\n",
       "    <tr>\n",
       "      <th>12</th>\n",
       "      <td>00369ae2c2d94f28a0912d6166e05ef3</td>\n",
       "      <td>13人组织卖淫圴获刑</td>\n",
       "      <td>宣判现场\\n　　本网讯 2月19日，双牌县人民法院依法公开对傅晓华、张玲等13名被告人组织卖...</td>\n",
       "      <td>13人组织卖淫圴获刑宣判现场本网讯2月19日，双牌县人民法院依法公开对傅晓华、张玲等13名被...</td>\n",
       "      <td>13 人 组织 卖淫 圴 获刑 宣判 现场 本 网讯 2 月 19 日 ， 双牌县 人民法院...</td>\n",
       "    </tr>\n",
       "    <tr>\n",
       "      <th>13</th>\n",
       "      <td>004034b54f0340f7b3fa5265c5921ba2</td>\n",
       "      <td>黄色不明物体当玩具 一男童左腿被炸伤 缝了6针</td>\n",
       "      <td>捡到黄色不明物体当玩具  一男童左腿被炸伤 缝了6针</td>\n",
       "      <td>黄色不明物体当玩具一男童左腿被炸伤缝了6针捡到黄色不明物体当玩具一男童左腿被炸伤缝了6针</td>\n",
       "      <td>黄色 不明 物体 当 玩具 一 男童 左腿 被 炸伤 缝 了 6 针 捡 到 黄色 不明 物...</td>\n",
       "    </tr>\n",
       "    <tr>\n",
       "      <th>14</th>\n",
       "      <td>0046be86e6a14b30ae7aa09b5a61bace</td>\n",
       "      <td>&gt; 问众智能携手新双立集团、四川终端公司打造中国首个车联网销售...</td>\n",
       "      <td>2017年10月11日，成都】问众智能携手新双立集团，中国移动通信集团终端有限公司四川分公司...</td>\n",
       "      <td>&gt;问众智能携手新双立集团、四川终端公司打造中国首个车联网销售2017年10月11日，成都】问...</td>\n",
       "      <td>&gt; 问众 智能 携手 新双立 集团 、 四川 终端 公司 打造 中国 首个 车 联网 销售 ...</td>\n",
       "    </tr>\n",
       "    <tr>\n",
       "      <th>15</th>\n",
       "      <td>005602f337e44d1f96afecc6c65b8a66</td>\n",
       "      <td>小小的中国螺丝钉，摧毁了iphone美国的国产梦_库克</td>\n",
       "      <td>原标题：小小的中国螺丝钉，摧毁了iphone美国的国产梦\\n竞选时大喊口号\\n”为了让美国再...</td>\n",
       "      <td>小小的中国螺丝钉，摧毁了iphone美国的国产梦_库克原标题：小小的中国螺丝钉，摧毁了iph...</td>\n",
       "      <td>小小的 中国 螺丝钉 ， 摧毁 了 iphone 美国 的 国产 梦 _ 库克 原 标题 ：...</td>\n",
       "    </tr>\n",
       "    <tr>\n",
       "      <th>16</th>\n",
       "      <td>00562b5dfb8a4e4db3a958cd3488583a</td>\n",
       "      <td>女摄影师为农民工夫妻拍婚纱照 目前已完成60对夫妻拍摄</td>\n",
       "      <td>过去的11天里，60对农民工夫妻在湖南长沙拍完人生第一张婚纱照。对于他们中的大多数，这样的机...</td>\n",
       "      <td>女摄影师为农民工夫妻拍婚纱照目前已完成60对夫妻拍摄过去的11天里，60对农民工夫妻在湖南长...</td>\n",
       "      <td>女 摄影师 为 农民工 夫妻 拍 婚纱照 目前 已 完成 60 对 夫妻 拍摄 过去 的 1...</td>\n",
       "    </tr>\n",
       "    <tr>\n",
       "      <th>17</th>\n",
       "      <td>0066cf2839b943689cc059e775be6ec4</td>\n",
       "      <td>分享：微信牛牛，炸金花加我微信15874815752</td>\n",
       "      <td>小姐姐  微信牛牛，炸金花加我微信15874815752来自：tieba.baidu.com...</td>\n",
       "      <td>分享：微信牛牛，炸金花加我微信15874815752小姐姐微信牛牛，炸金花加我微信15874...</td>\n",
       "      <td>分享 ： 微信 牛牛 ， 炸 金花 加 我 微信 15874815752 小姐姐 微信 牛牛...</td>\n",
       "    </tr>\n",
       "    <tr>\n",
       "      <th>18</th>\n",
       "      <td>006789970e694f82a62a72f85c16dc48</td>\n",
       "      <td>博尔塔拉蒙古自治州pe双壁波纹管小区专用</td>\n",
       "      <td>详询:15117135555李经理电话甘肃腾达汇泰塑胶制品有限公司是生产地下排水管材的专业制...</td>\n",
       "      <td>博尔塔拉蒙古自治州pe双壁波纹管小区专用详询:15117135555李经理电话甘肃腾达汇泰塑...</td>\n",
       "      <td>博尔塔拉蒙古自治州 pe 双壁 波纹管 小区 专用 详询 : 15117135555 李经理...</td>\n",
       "    </tr>\n",
       "    <tr>\n",
       "      <th>19</th>\n",
       "      <td>0068ad4e79c140cfa9e2534415bb9134</td>\n",
       "      <td>[转载]垃圾佛山都市妇产医院骗子黑心医院_久久资讯</td>\n",
       "      <td>今天老婆去佛山都市妇产医院照四维，做完回来很生气，跟朋友说的完全不一样，主任医生态度恶劣，宝...</td>\n",
       "      <td>[转载]垃圾佛山都市妇产医院骗子黑心医院_久久资讯今天老婆去佛山都市妇产医院照四维，做完回来...</td>\n",
       "      <td>[ 转载 ] 垃圾 佛山 都市 妇产医院 骗子 黑心 医院 _ 久久 资讯 今天 老婆 去 ...</td>\n",
       "    </tr>\n",
       "    <tr>\n",
       "      <th>20</th>\n",
       "      <td>0073c20837eb406dbe4c497015e1ccea</td>\n",
       "      <td>金宇汐：5.1黄金日内还会下跌吗？日内会跌至1300吗？</td>\n",
       "      <td>日内来说宇汐认为测试1300的可能性不大，跌破1310于1307附近获得支撑是大概率。前言：...</td>\n",
       "      <td>金宇汐：51黄金日内还会下跌吗？日内会跌至1300吗？日内来说宇汐认为测试1300的可能性不...</td>\n",
       "      <td>金宇汐 ： 51 黄金 日内 还 会 下跌 吗 ？ 日内会 跌 至 1300 吗 ？ 日内 ...</td>\n",
       "    </tr>\n",
       "    <tr>\n",
       "      <th>21</th>\n",
       "      <td>007da0014e584743b1ffbbddc4376520</td>\n",
       "      <td>【扫码挪车】手机号匿名，扫码挪车更安全！更有挪车贴免费赠送！_车主</td>\n",
       "      <td>原标题：【扫码挪车】手机号匿名，扫码挪车更安全！更有挪车贴免费赠送！\\n对于车主来说\\n因为...</td>\n",
       "      <td>【扫码挪车】手机号匿名，扫码挪车更安全！更有挪车贴免费赠送！_车主原标题：【扫码挪车】手机号...</td>\n",
       "      <td>【 扫码 挪车 】 手机号 匿名 ， 扫码 挪车 更 安全 ！ 更 有 挪车 贴 免费 赠送...</td>\n",
       "    </tr>\n",
       "    <tr>\n",
       "      <th>22</th>\n",
       "      <td>008e5bbd2bc548e4bd0948f64cd881c3</td>\n",
       "      <td>学霸帮富二代考美国名校，以牟取暴利，作弊手法不可思议</td>\n",
       "      <td>学霸帮富二代考美国名校，以牟取暴利，作弊手法不可思议</td>\n",
       "      <td>学霸帮富二代考美国名校，以牟取暴利，作弊手法不可思议学霸帮富二代考美国名校，以牟取暴利，作弊...</td>\n",
       "      <td>学霸 帮富 二代 考 美国 名校 ， 以 牟取暴利 ， 作弊 手法 不可思议 学霸 帮富 二...</td>\n",
       "    </tr>\n",
       "    <tr>\n",
       "      <th>23</th>\n",
       "      <td>00902cb2409b4ea5a0cf3f43e53bb5bb</td>\n",
       "      <td>前上海市检察院检察长，侵吞20亿财产杀4名法官、警察灭口案......</td>\n",
       "      <td>2018年5月7日《新京报》报道，最高人民检察院指定，广西壮族自治区检察院侦查终结原上海市检...</td>\n",
       "      <td>前上海市检察院检察长，侵吞20亿财产杀4名法官、警察灭口案2018年5月7日《新京报》报道，...</td>\n",
       "      <td>前 上海市 检察院 检察长 ， 侵吞 20 亿 财产 杀 4 名 法官 、 警察 灭口 案 ...</td>\n",
       "    </tr>\n",
       "    <tr>\n",
       "      <th>24</th>\n",
       "      <td>009bbefa36bf48c7b6f54423b9e16675</td>\n",
       "      <td>凌晨普宁广场路段一汽车冲上绿化带，路灯很受伤_车辆</td>\n",
       "      <td>原标题：凌晨普宁广场路段一汽车冲上绿化带，路灯很受伤\\n今天凌晨1点左右，环市北路普宁广场路...</td>\n",
       "      <td>凌晨普宁广场路段一汽车冲上绿化带，路灯很受伤_车辆原标题：凌晨普宁广场路段一汽车冲上绿化带，...</td>\n",
       "      <td>凌晨 普宁 广场 路段 一 汽车 冲上 绿化带 ， 路灯 很 受伤 _ 车辆 原 标题 ： ...</td>\n",
       "    </tr>\n",
       "    <tr>\n",
       "      <th>25</th>\n",
       "      <td>009f3de0b6e6485197526d6672d3b4d3</td>\n",
       "      <td>西宁东方医院坑骗患者 医生夸大病情恐吓消费者太黑心!_访客创业网</td>\n",
       "      <td>正在为您跳转到访问页面.....\\n如果您的浏览器没有自动跳转，请检查以下设置。(1)请确保...</td>\n",
       "      <td>西宁东方医院坑骗患者医生夸大病情恐吓消费者太黑心!_访客创业网正在为您跳转到访问页面如果您的...</td>\n",
       "      <td>西宁 东方 医院 坑骗 患者 医生 夸大 病情 恐吓 消费者 太 黑心 ! _ 访客 创业网...</td>\n",
       "    </tr>\n",
       "    <tr>\n",
       "      <th>26</th>\n",
       "      <td>00a9e3be90544e748c117ff8e364369e</td>\n",
       "      <td>援疆大爱洒边陲 不负重托续华章</td>\n",
       "      <td>辽宁与塔城，因为对口援疆工作，结下深厚情谊。一批接一批的援疆干部在塔城大地持续接力，第五批2...</td>\n",
       "      <td>援疆大爱洒边陲不负重托续华章辽宁与塔城，因为对口援疆工作，结下深厚情谊。一批接一批的援疆干部...</td>\n",
       "      <td>援疆 大爱洒 边陲 不负 重托 续 华章 辽宁 与 塔城 ， 因为 对口 援疆 工作 ， 结...</td>\n",
       "    </tr>\n",
       "    <tr>\n",
       "      <th>27</th>\n",
       "      <td>00cca63aee8e4af5a60fbbfa9d3fbb68</td>\n",
       "      <td>【热点】廊坊人注意！房贷利率最新消息！首套普遍上浮超10%！二套调控更严……</td>\n",
       "      <td>从今年初开始，各家银行首套房贷利率全面收紧。数据显示，3月份全国首套房贷款平均利率为5.51...</td>\n",
       "      <td>【热点】廊坊人注意！房贷利率最新消息！首套普遍上浮超10%！二套调控更严……从今年初开始，各...</td>\n",
       "      <td>【 热点 】 廊坊 人 注意 ！ 房贷利率 最新消息 ！ 首套 普遍 上浮 超 10% ！ ...</td>\n",
       "    </tr>\n",
       "    <tr>\n",
       "      <th>28</th>\n",
       "      <td>00e0421bb7e94477bc9eec08e5c4af65</td>\n",
       "      <td>交警遭碾压殉职 肇事者抓到了吗 - 法律法规网</td>\n",
       "      <td>法律法规综合消息11月16日凌晨2时30分许，南京市公安局交警支队高速公路七大队民警史伟年，...</td>\n",
       "      <td>交警遭碾压殉职肇事者抓到了吗-法律法规网法律法规综合消息11月16日凌晨2时30分许，南京市...</td>\n",
       "      <td>交警 遭 碾压 殉职 肇事者 抓到 了 吗 - 法律法规 网 法律法规 综合 消息 11 月...</td>\n",
       "    </tr>\n",
       "    <tr>\n",
       "      <th>29</th>\n",
       "      <td>00f3ff6192094cdbb0ba23cd0f443ebc</td>\n",
       "      <td>福建省霞浦县委原书记王斌严重违纪违法被开除党籍和公职</td>\n",
       "      <td>经济日报 - 中国经济网福州 2 月 18 日综合报道 据福建省纪委监委网站消息，日前，经中...</td>\n",
       "      <td>福建省霞浦县委原书记王斌严重违纪违法被开除党籍和公职经济日报-中国经济网福州2月18日综合报...</td>\n",
       "      <td>福建省 霞浦 县委 原 书记 王斌 严重 违纪 违法 被 开除党籍 和 公职 经济日报 - ...</td>\n",
       "    </tr>\n",
       "    <tr>\n",
       "      <th>...</th>\n",
       "      <td>...</td>\n",
       "      <td>...</td>\n",
       "      <td>...</td>\n",
       "      <td>...</td>\n",
       "      <td>...</td>\n",
       "    </tr>\n",
       "    <tr>\n",
       "      <th>7326</th>\n",
       "      <td>ff00d53cb9f34fc2b57d491ffb93269d</td>\n",
       "      <td>“黑”进银行app办质押贷款，6人获利近三千万买豪车</td>\n",
       "      <td>原标题：“黑”进银行app办质押贷款，6人获利近三千万买豪车\\n 新京报讯（记者 顾志娟）金...</td>\n",
       "      <td>“黑”进银行app办质押贷款，6人获利近三千万买豪车原标题：“黑”进银行app办质押贷款，6...</td>\n",
       "      <td>“ 黑 ” 进 银行 app 办 质押 贷款 ， 6 人 获利 近 三千万 买豪车 原 标题...</td>\n",
       "    </tr>\n",
       "    <tr>\n",
       "      <th>7327</th>\n",
       "      <td>ff0c5f1b99954e56ba679fc3f7ca4a10</td>\n",
       "      <td>红霞:我的乡下童年生活结束了</td>\n",
       "      <td>原标题:红霞:我的乡下童年生活结束了红霞是三明治每日书作者，她在名为《童年三十忆》的每日书里...</td>\n",
       "      <td>红霞:我的乡下童年生活结束了原标题:红霞:我的乡下童年生活结束了红霞是三明治每日书作者，她在...</td>\n",
       "      <td>红霞 : 我 的 乡下 童年 生活 结束 了 原 标题 : 红霞 : 我 的 乡下 童年 生...</td>\n",
       "    </tr>\n",
       "    <tr>\n",
       "      <th>7328</th>\n",
       "      <td>ff1aba94673c4a62875cbec84518150f</td>\n",
       "      <td>晚上10点，福州两妙龄女竟遭尾随，之后的一幕令人愤怒！_叶某</td>\n",
       "      <td>原标题：晚上10点，福州两妙龄女竟遭尾随，之后的一幕令人愤怒！\\nn 海都记者 吴臻 通讯员...</td>\n",
       "      <td>晚上10点，福州两妙龄女竟遭尾随，之后的一幕令人愤怒！_叶某原标题：晚上10点，福州两妙龄女...</td>\n",
       "      <td>晚上 10 点 ， 福州 两 妙龄女 竟 遭 尾随 ， 之后 的 一幕 令人 愤怒 ！ _ ...</td>\n",
       "    </tr>\n",
       "    <tr>\n",
       "      <th>7329</th>\n",
       "      <td>ff2585db51b343558811625ee420233a</td>\n",
       "      <td>【生态乐陵】建设中的湖畔公园如此美丽（2018级摄影班实践课）</td>\n",
       "      <td>4月26日清晨，看到微微露出的太阳，确定是一个阳光明媚的好天气，老年大学摄影学员来到正在筹建...</td>\n",
       "      <td>【生态乐陵】建设中的湖畔公园如此美丽（2018级摄影班实践课）4月26日清晨，看到微微露出的...</td>\n",
       "      <td>【 生态 乐陵 】 建设 中 的 湖畔 公园 如此 美丽 （ 2018 级 摄影 班 实践 ...</td>\n",
       "    </tr>\n",
       "    <tr>\n",
       "      <th>7330</th>\n",
       "      <td>ff266e1f4a4a4336ac58b9bcf2417cad</td>\n",
       "      <td>http://www.sqee.cn/thread-1086341-1-1.html</td>\n",
       "      <td>重庆婚庆公司排行榜:我们都知道举办一场婚礼有很多事情要做，在策划婚礼过程中有很多的突发状况，...</td>\n",
       "      <td>http:wwwsqeecnthread-1086341-1-1html重庆婚庆公司排行榜:...</td>\n",
       "      <td>http : wwwsqeecnthread - 1086341 - 1 - 1html 重...</td>\n",
       "    </tr>\n",
       "    <tr>\n",
       "      <th>7331</th>\n",
       "      <td>ff2ac7e0c14d41a8931ae8d597deb1ef</td>\n",
       "      <td>北京赛车pk开奖现场直播：广汇能源子公司昨晚发生火灾 两人轻伤</td>\n",
       "      <td>北京赛车pk开奖现场直播我们无意中践踏了那些小人们的最为神圣不可侵犯的观念，为您奉上最极致畅...</td>\n",
       "      <td>北京赛车pk开奖现场直播：广汇能源子公司昨晚发生火灾两人轻伤北京赛车pk开奖现场直播我们无意...</td>\n",
       "      <td>北京 赛车 pk 开奖 现场直播 ： 广汇 能源 子公司 昨晚 发生 火灾 两人 轻伤 北京...</td>\n",
       "    </tr>\n",
       "    <tr>\n",
       "      <th>7332</th>\n",
       "      <td>ff2ba9da58f14384bfc70e12346649a1</td>\n",
       "      <td>意大利一夜店发生踩踏，伤亡惨重！</td>\n",
       "      <td>据英国广播公司(bbc)12月8日报道，意大利一家夜总会发生踩踏事故，造成6人死亡，100多...</td>\n",
       "      <td>意大利一夜店发生踩踏，伤亡惨重！据英国广播公司(bbc)12月8日报道，意大利一家夜总会发生...</td>\n",
       "      <td>意大利 一夜 店 发生 踩踏 ， 伤亡惨重 ！ 据 英国广播公司 ( bbc ) 12 月 ...</td>\n",
       "    </tr>\n",
       "    <tr>\n",
       "      <th>7333</th>\n",
       "      <td>ff2cc882e57a4c0f98dae5f45aa3bd5e</td>\n",
       "      <td>湖南炎陵现雁过拔毛式腐败:40多万国资1万贱卖-桂平新闻网_桂平...</td>\n",
       "      <td>2011年，炎陵县大院农场违反国有资产处置程序，将账面净值43.9947万元的冷库以1万元的...</td>\n",
       "      <td>湖南炎陵现雁过拔毛式腐败:40多万国资1万贱卖-桂平新闻网_桂平2011年，炎陵县大院农场违...</td>\n",
       "      <td>湖南 炎陵 现 雁过拔毛 式 腐败 : 40 多万 国资 1 万 贱卖 - 桂平 新闻网 _...</td>\n",
       "    </tr>\n",
       "    <tr>\n",
       "      <th>7334</th>\n",
       "      <td>ff419310be5446228d4696151856646a</td>\n",
       "      <td>1月北京各区pm2.5排名出炉，大兴最差_浓度</td>\n",
       "      <td>原标题：1月北京各区pm2.5排名出炉，大兴最差\\n新京报快讯（记者 邓琦）北京生态环境局最...</td>\n",
       "      <td>1月北京各区pm25排名出炉，大兴最差_浓度原标题：1月北京各区pm25排名出炉，大兴最差新...</td>\n",
       "      <td>1 月 北京 各区 pm25 排名 出炉 ， 大兴 最差 _ 浓度 原 标题 ： 1 月 北...</td>\n",
       "    </tr>\n",
       "    <tr>\n",
       "      <th>7335</th>\n",
       "      <td>ff496c96b38f4cb8a99b4734890dd0b8</td>\n",
       "      <td>跆拳道馆员工乱丢垃圾 遭劝阻后殴打64岁环卫工 罚款500元</td>\n",
       "      <td>来源 | 都市现场综合时间视频\\n下页 \\n余下全文\\n第1/9页 到页\\n下一篇：罐车被追...</td>\n",
       "      <td>跆拳道馆员工乱丢垃圾遭劝阻后殴打64岁环卫工罚款500元来源都市现场综合时间视频下页余下全文...</td>\n",
       "      <td>跆拳道 馆 员工 乱丢垃圾 遭 劝阻 后 殴打 64 岁 环卫工 罚款 500 元 来源 都...</td>\n",
       "    </tr>\n",
       "    <tr>\n",
       "      <th>7336</th>\n",
       "      <td>ff4a12ebbb2441818f652d350f584656</td>\n",
       "      <td>未成年幼师强迫幼童吃剩饭，还体罚其他幼童 - 腾讯网</td>\n",
       "      <td>12月19日，河南省安阳市龙安区彰武中心幼儿园家长马先生报警，称该园老师小雯(化名)，打了多...</td>\n",
       "      <td>未成年幼师强迫幼童吃剩饭，还体罚其他幼童-腾讯网12月19日，河南省安阳市龙安区彰武中心幼儿...</td>\n",
       "      <td>未成年 幼师 强迫 幼童 吃 剩饭 ， 还 体罚 其他 幼童 - 腾讯网 12 月 19 日...</td>\n",
       "    </tr>\n",
       "    <tr>\n",
       "      <th>7337</th>\n",
       "      <td>ff4fda76af124b3382ad808b076723ea</td>\n",
       "      <td>夫妻吵架闹到派出所 细心民警揪出“瘾君子”</td>\n",
       "      <td>重报移动传媒1月31日讯（记者 雷键 通讯员 汪迎春 实习生 于婷婷） 1月26日，忠县公安...</td>\n",
       "      <td>夫妻吵架闹到派出所细心民警揪出“瘾君子”重报移动传媒1月31日讯（记者雷键通讯员汪迎春实习生...</td>\n",
       "      <td>夫妻 吵架 闹到 派出所 细心 民警 揪出 “ 瘾君子 ” 重 报 移动 传媒 1 月 31...</td>\n",
       "    </tr>\n",
       "    <tr>\n",
       "      <th>7338</th>\n",
       "      <td>ff69788aa20547e8b6d646acd2ff2348</td>\n",
       "      <td>雨季来临，到底该如何做好汽车的防洪工作_东方汽车</td>\n",
       "      <td>汽车发动机轻微抖动，说明是这出了问题，千万别被修理厂坑了性价比最高的两款b级车，性能碾压帕萨...</td>\n",
       "      <td>雨季来临，到底该如何做好汽车的防洪工作_东方汽车汽车发动机轻微抖动，说明是这出了问题，千万别...</td>\n",
       "      <td>雨季 来临 ， 到底 该 如何 做好 汽车 的 防洪 工作 _ 东方 汽车 汽车 发动机 轻...</td>\n",
       "    </tr>\n",
       "    <tr>\n",
       "      <th>7339</th>\n",
       "      <td>ff6a0ce5f5c440de867a85fcddc65158</td>\n",
       "      <td>2018年二级建造师《市政工程》每日一练(5月1日)</td>\n",
       "      <td>【摘要】有时候创造奇迹的不是巨人，而是不懈坚持的我们。二级建造师考试临近，五一假期期间大家也...</td>\n",
       "      <td>2018年二级建造师《市政工程》每日一练(5月1日)【摘要】有时候创造奇迹的不是巨人，而是不...</td>\n",
       "      <td>2018 年 二级 建造师 《 市政工程 》 每日 一 练 ( 5 月 1 日 ) 【 摘要...</td>\n",
       "    </tr>\n",
       "    <tr>\n",
       "      <th>7340</th>\n",
       "      <td>ff6f4f869b6e4429a8d2af9ccb20b10a</td>\n",
       "      <td>【社会眼】动真格！歙县关停查处173家麻将馆棋牌室！_整治</td>\n",
       "      <td>原标题：【社会眼】动真格！歙县关停查处173家麻将馆棋牌室！\\n歙县棋牌室专项整治行动开展以...</td>\n",
       "      <td>【社会眼】动真格！歙县关停查处173家麻将馆棋牌室！_整治原标题：【社会眼】动真格！歙县关停...</td>\n",
       "      <td>【 社会 眼 】 动真格 ！ 歙县 关停 查处 173 家 麻将馆 棋牌室 ！ _ 整治 原...</td>\n",
       "    </tr>\n",
       "    <tr>\n",
       "      <th>7341</th>\n",
       "      <td>ff7e749aa48742f8914864e97611c437</td>\n",
       "      <td>自然灾害与农村经济社会变动研究—以20世纪二三十年代之交陕甘...</td>\n",
       "      <td>原标题:自然灾害与农村经济社会变动研究—以20世纪二三十年代之交陕甘地区旱灾为中心自然灾害与...</td>\n",
       "      <td>自然灾害与农村经济社会变动研究—以20世纪二三十年代之交陕甘原标题:自然灾害与农村经济社会变...</td>\n",
       "      <td>自然灾害 与 农村 经济社会 变动 研究 — 以 20 世纪 二三十 年代 之交 陕甘 原 ...</td>\n",
       "    </tr>\n",
       "    <tr>\n",
       "      <th>7342</th>\n",
       "      <td>ff88504ea4194909a2797a580b8de5b2</td>\n",
       "      <td>贷款逾期后，部分借款人因扛不住暴力催收，因此将网贷进行投诉</td>\n",
       "      <td>在p2p网贷行业，由于部分网贷平台的催收者多次对贷款逾期的借款人进行暴力催收，而且情节较为严...</td>\n",
       "      <td>贷款逾期后，部分借款人因扛不住暴力催收，因此将网贷进行投诉在p2p网贷行业，由于部分网贷平台...</td>\n",
       "      <td>贷款 逾期 后 ， 部分 借款人 因 扛不住 暴力 催收 ， 因此 将 网贷 进行 投诉 在...</td>\n",
       "    </tr>\n",
       "    <tr>\n",
       "      <th>7343</th>\n",
       "      <td>ff896b73f8dd4d00a5346508c4dcccf2</td>\n",
       "      <td>有这种操作？南宁一男子收88万元购房定金，交易不成竟私吞，还……</td>\n",
       "      <td>3年多前，南宁市民黄某打算卖掉一栋价值400多万元的自建楼，还收下了买家88万元的定金。后来...</td>\n",
       "      <td>有这种操作？南宁一男子收88万元购房定金，交易不成竟私吞，还……3年多前，南宁市民黄某打算卖...</td>\n",
       "      <td>有 这种 操作 ？ 南宁 一 男子 收 88 万元 购房 定金 ， 交易 不成 竟 私吞 ，...</td>\n",
       "    </tr>\n",
       "    <tr>\n",
       "      <th>7344</th>\n",
       "      <td>ff945a1f3f9d4003ae34668a387cf64d</td>\n",
       "      <td>面试官:请把9块9包邮的红酒卖500块，90后转身卖“1箱”被录用</td>\n",
       "      <td>面试官:请把9块9包邮的红酒卖500块，90后转身卖“1箱”被录用做销售的找工作在面试的时候...</td>\n",
       "      <td>面试官:请把9块9包邮的红酒卖500块，90后转身卖“1箱”被录用面试官:请把9块9包邮的红...</td>\n",
       "      <td>面试官 : 请 把 9 块 9 包邮 的 红酒 卖 500 块 ， 90 后 转身 卖 “ ...</td>\n",
       "    </tr>\n",
       "    <tr>\n",
       "      <th>7345</th>\n",
       "      <td>ff94bac20aa340b6b4f41fdee7f52db2</td>\n",
       "      <td>洋县交警大队江南中队集中查处夜间超载车辆的行动!</td>\n",
       "      <td>5月10日晚，洋县磨子桥镇路段出现了20余辆准备拉运散装沙石运输车，严重影响到沿线居民的正常...</td>\n",
       "      <td>洋县交警大队江南中队集中查处夜间超载车辆的行动!5月10日晚，洋县磨子桥镇路段出现了20余辆...</td>\n",
       "      <td>洋县 交警大队 江南 中队 集中 查处 夜间 超载 车辆 的 行动 ! 5 月 10 日晚 ...</td>\n",
       "    </tr>\n",
       "    <tr>\n",
       "      <th>7346</th>\n",
       "      <td>ffa19cb439c3494889a2e93c3c3008c0</td>\n",
       "      <td>好消息!沧州到盐山客车票价降至5元!</td>\n",
       "      <td>沧运集团举行新产品发布会 ?同时启动惠民服务月活动沧州到泊头盐山孟村票价降至5元昨日上午9时...</td>\n",
       "      <td>好消息!沧州到盐山客车票价降至5元!沧运集团举行新产品发布会?同时启动惠民服务月活动沧州到泊...</td>\n",
       "      <td>好消息 ! 沧州 到 盐山 客车 票价 降至 5 元 ! 沧运 集团 举行 新 产品 发布会...</td>\n",
       "    </tr>\n",
       "    <tr>\n",
       "      <th>7347</th>\n",
       "      <td>ffc88dd4342d4844ad54ded459a33097</td>\n",
       "      <td>台电故障致高雄多厂停电排黑烟 一厂氨气外泄被罚</td>\n",
       "      <td>9日下午，因台电故障，高雄市林园工业区多家厂商停电，生产工作受影响。高雄市环保局调查显示，亚...</td>\n",
       "      <td>台电故障致高雄多厂停电排黑烟一厂氨气外泄被罚9日下午，因台电故障，高雄市林园工业区多家厂商停...</td>\n",
       "      <td>台 电 故障 致高雄 多厂 停电 排 黑烟 一厂 氨气 外泄 被 罚 9 日 下午 ， 因台...</td>\n",
       "    </tr>\n",
       "    <tr>\n",
       "      <th>7348</th>\n",
       "      <td>ffcc1397e8604f60a34789ec99eea486</td>\n",
       "      <td>这个路口，三个月内发生了三起大挂车事故，司机朋友们，要注意啦</td>\n",
       "      <td>昨天上午，惠安县城至动车站快速通道上，一辆大挂车侧翻，车上的几十吨货物倾倒在路中央，所幸事发...</td>\n",
       "      <td>这个路口，三个月内发生了三起大挂车事故，司机朋友们，要注意啦昨天上午，惠安县城至动车站快速通...</td>\n",
       "      <td>这个 路口 ， 三个 月 内 发生 了 三起 大 挂车 事故 ， 司机 朋友 们 ， 要 注...</td>\n",
       "    </tr>\n",
       "    <tr>\n",
       "      <th>7349</th>\n",
       "      <td>ffcf7c9ddd2f47cdbb03f09364952ef8</td>\n",
       "      <td>看到第七秒真以为要翻车，老司机放大招了</td>\n",
       "      <td>看到第七秒真以为要翻车，老司机放大招了</td>\n",
       "      <td>看到第七秒真以为要翻车，老司机放大招了看到第七秒真以为要翻车，老司机放大招了</td>\n",
       "      <td>看到 第七 秒 真 以为 要 翻车 ， 老 司机 放大 招 了 看到 第七 秒 真 以为 要...</td>\n",
       "    </tr>\n",
       "    <tr>\n",
       "      <th>7350</th>\n",
       "      <td>ffd99347d2464451ab78a05fe656db6d</td>\n",
       "      <td>佳木斯路桥教师艺术团在百姓大舞台举行专场文艺演出</td>\n",
       "      <td>5月22日晚，佳木斯市纪念改革开放40周年群众文化系列演出，佳木斯路桥教师艺术团专场在外滩百...</td>\n",
       "      <td>佳木斯路桥教师艺术团在百姓大舞台举行专场文艺演出5月22日晚，佳木斯市纪念改革开放40周年群...</td>\n",
       "      <td>佳木斯 路桥 教师 艺术团 在 百姓 大 舞台 举行 专场 文艺演出 5 月 22 日晚 ，...</td>\n",
       "    </tr>\n",
       "    <tr>\n",
       "      <th>7351</th>\n",
       "      <td>ffde8920941f4689ad2a11144ba807c2</td>\n",
       "      <td>泰州做假公证书_新浪汽车_新浪网</td>\n",
       "      <td>copyright?2016王者风范通讯数码allrightsreserved技术支持:顶酷...</td>\n",
       "      <td>泰州做假公证书_新浪汽车_新浪网copyright?2016王者风范通讯数码allright...</td>\n",
       "      <td>泰州 做假 公证书 _ 新浪 汽车 _ 新浪网 copyright ? 2016 王者 风范...</td>\n",
       "    </tr>\n",
       "    <tr>\n",
       "      <th>7352</th>\n",
       "      <td>ffe03468b86c4bcdb386169b534b66ba</td>\n",
       "      <td>广东省消委会就儿童门票问题起诉广州长隆集团</td>\n",
       "      <td>原标题：广东省消委会就儿童门票问题起诉广州长隆集团\\n　　中新网广州2月18日电 (记者 许...</td>\n",
       "      <td>广东省消委会就儿童门票问题起诉广州长隆集团原标题：广东省消委会就儿童门票问题起诉广州长隆集团...</td>\n",
       "      <td>广东省 消委会 就 儿童 门票 问题 起诉 广州 长隆 集团 原 标题 ： 广东省 消委会 ...</td>\n",
       "    </tr>\n",
       "    <tr>\n",
       "      <th>7353</th>\n",
       "      <td>fff17ed2c93845d595ff1415c441727a</td>\n",
       "      <td>建设银行以改革创新全力支持实体经济发展_财经新闻_丝竹文库</td>\n",
       "      <td>从建设银行苏州分行了解到，2017年，建设银行紧紧围绕服务实体经济、防范金融风险和深化金融改...</td>\n",
       "      <td>建设银行以改革创新全力支持实体经济发展_财经新闻_丝竹文库从建设银行苏州分行了解到，2017...</td>\n",
       "      <td>建设银行 以 改革 创新 全力支持 实体 经济 发展 _ 财经新闻 _ 丝竹 文库 从 建设...</td>\n",
       "    </tr>\n",
       "    <tr>\n",
       "      <th>7354</th>\n",
       "      <td>fff1a90e36d74503a3927c9a87d92487</td>\n",
       "      <td>“三大改造”发力 洛阳工业转型升级有力</td>\n",
       "      <td>文 ▏河南日报记者 田宜龙  5月23号出版的河南日报 核心导读? ? 绿色改造、智能改造、...</td>\n",
       "      <td>“三大改造”发力洛阳工业转型升级有力文▏河南日报记者田宜龙5月23号出版的河南日报核心导读?...</td>\n",
       "      <td>“ 三大 改造 ” 发力 洛阳 工业 转型 升级 有力 文 ▏ 河南日报 记者 田宜龙 5 ...</td>\n",
       "    </tr>\n",
       "    <tr>\n",
       "      <th>7355</th>\n",
       "      <td>fffa65c7455546ccbd6c72f4055ca76b</td>\n",
       "      <td>董云虎，人权，宣传部长媒体介绍:新任上海市委宣传部长董云虎其人...</td>\n",
       "      <td>奇闻网讯共十五大代表。年起为享受政府特殊津贴专家。为“时任中国西藏文化周”代表团副团长董云...</td>\n",
       "      <td>董云虎，人权，宣传部长媒体介绍:新任上海市委宣传部长董云虎其人奇闻网讯共十五大代表。年起为享...</td>\n",
       "      <td>董云虎 ， 人权 ， 宣传部长 媒体 介绍 : 新任 上海市委 宣传部长 董云虎 其人 奇闻...</td>\n",
       "    </tr>\n",
       "  </tbody>\n",
       "</table>\n",
       "<p>7356 rows × 5 columns</p>\n",
       "</div>"
      ],
      "text/plain": [
       "                                    id  \\\n",
       "0     00005a3efe934a19adc0b69b05faeae7   \n",
       "1     0009dc82c41341d794837271d4dbff5f   \n",
       "2     000f3763b6074588817c9ab90a22a814   \n",
       "3     00117934dbe240068c95b6d04b08eea7   \n",
       "4     0014cef5ccfa43b3a6b20162a03763fa   \n",
       "5     0015fb20dbd54d249a50559789f43c52   \n",
       "6     002a0b77fded4ae1abaa8ed9f2ad0824   \n",
       "7     002c023ddb7343fdb8b3652ace2ded15   \n",
       "8     002daa98e1b240679212a1b7a0402996   \n",
       "9     00305089bee5422ca2423176c448e91a   \n",
       "10    00326db52586478f80d3c23908b32c69   \n",
       "11    0035484c19a94cbb96d9e552cfddf43d   \n",
       "12    00369ae2c2d94f28a0912d6166e05ef3   \n",
       "13    004034b54f0340f7b3fa5265c5921ba2   \n",
       "14    0046be86e6a14b30ae7aa09b5a61bace   \n",
       "15    005602f337e44d1f96afecc6c65b8a66   \n",
       "16    00562b5dfb8a4e4db3a958cd3488583a   \n",
       "17    0066cf2839b943689cc059e775be6ec4   \n",
       "18    006789970e694f82a62a72f85c16dc48   \n",
       "19    0068ad4e79c140cfa9e2534415bb9134   \n",
       "20    0073c20837eb406dbe4c497015e1ccea   \n",
       "21    007da0014e584743b1ffbbddc4376520   \n",
       "22    008e5bbd2bc548e4bd0948f64cd881c3   \n",
       "23    00902cb2409b4ea5a0cf3f43e53bb5bb   \n",
       "24    009bbefa36bf48c7b6f54423b9e16675   \n",
       "25    009f3de0b6e6485197526d6672d3b4d3   \n",
       "26    00a9e3be90544e748c117ff8e364369e   \n",
       "27    00cca63aee8e4af5a60fbbfa9d3fbb68   \n",
       "28    00e0421bb7e94477bc9eec08e5c4af65   \n",
       "29    00f3ff6192094cdbb0ba23cd0f443ebc   \n",
       "...                                ...   \n",
       "7326  ff00d53cb9f34fc2b57d491ffb93269d   \n",
       "7327  ff0c5f1b99954e56ba679fc3f7ca4a10   \n",
       "7328  ff1aba94673c4a62875cbec84518150f   \n",
       "7329  ff2585db51b343558811625ee420233a   \n",
       "7330  ff266e1f4a4a4336ac58b9bcf2417cad   \n",
       "7331  ff2ac7e0c14d41a8931ae8d597deb1ef   \n",
       "7332  ff2ba9da58f14384bfc70e12346649a1   \n",
       "7333  ff2cc882e57a4c0f98dae5f45aa3bd5e   \n",
       "7334  ff419310be5446228d4696151856646a   \n",
       "7335  ff496c96b38f4cb8a99b4734890dd0b8   \n",
       "7336  ff4a12ebbb2441818f652d350f584656   \n",
       "7337  ff4fda76af124b3382ad808b076723ea   \n",
       "7338  ff69788aa20547e8b6d646acd2ff2348   \n",
       "7339  ff6a0ce5f5c440de867a85fcddc65158   \n",
       "7340  ff6f4f869b6e4429a8d2af9ccb20b10a   \n",
       "7341  ff7e749aa48742f8914864e97611c437   \n",
       "7342  ff88504ea4194909a2797a580b8de5b2   \n",
       "7343  ff896b73f8dd4d00a5346508c4dcccf2   \n",
       "7344  ff945a1f3f9d4003ae34668a387cf64d   \n",
       "7345  ff94bac20aa340b6b4f41fdee7f52db2   \n",
       "7346  ffa19cb439c3494889a2e93c3c3008c0   \n",
       "7347  ffc88dd4342d4844ad54ded459a33097   \n",
       "7348  ffcc1397e8604f60a34789ec99eea486   \n",
       "7349  ffcf7c9ddd2f47cdbb03f09364952ef8   \n",
       "7350  ffd99347d2464451ab78a05fe656db6d   \n",
       "7351  ffde8920941f4689ad2a11144ba807c2   \n",
       "7352  ffe03468b86c4bcdb386169b534b66ba   \n",
       "7353  fff17ed2c93845d595ff1415c441727a   \n",
       "7354  fff1a90e36d74503a3927c9a87d92487   \n",
       "7355  fffa65c7455546ccbd6c72f4055ca76b   \n",
       "\n",
       "                                           title  \\\n",
       "0                                     九江办好人民满意教育   \n",
       "1                  中央第三生态环境保护督察组转办我市第三十一批信访件办理情况   \n",
       "2                               大雨天车被淹，保险公司该不该赔？   \n",
       "3                         英特尔新cpu微架构ocean cove曝光   \n",
       "4                     公安部侦破一批重大网络赌博案件 德州约局平台成重灾区   \n",
       "5                                    广西龙胜千层天梯闹春耕   \n",
       "6                                   高唐小伙:挺身而出救交警   \n",
       "7                          东营共享单车远走青岛，中间到底发生了什么?   \n",
       "8                         已有19人被捕!你的老婆可能还在做…赶紧看!   \n",
       "9                        这两名“飙车党”太猖狂，竟当着重庆民警面玩漂移   \n",
       "10                                 沁园净水器ru05b好不好   \n",
       "11                 国泰金业黑代理修改客户密码，恶意刷单致损失惨重-第一交易网   \n",
       "12                                    13人组织卖淫圴获刑   \n",
       "13                       黄色不明物体当玩具 一男童左腿被炸伤 缝了6针   \n",
       "14            > 问众智能携手新双立集团、四川终端公司打造中国首个车联网销售...   \n",
       "15                   小小的中国螺丝钉，摧毁了iphone美国的国产梦_库克   \n",
       "16                   女摄影师为农民工夫妻拍婚纱照 目前已完成60对夫妻拍摄   \n",
       "17                    分享：微信牛牛，炸金花加我微信15874815752   \n",
       "18                          博尔塔拉蒙古自治州pe双壁波纹管小区专用   \n",
       "19                     [转载]垃圾佛山都市妇产医院骗子黑心医院_久久资讯   \n",
       "20                  金宇汐：5.1黄金日内还会下跌吗？日内会跌至1300吗？   \n",
       "21             【扫码挪车】手机号匿名，扫码挪车更安全！更有挪车贴免费赠送！_车主   \n",
       "22                    学霸帮富二代考美国名校，以牟取暴利，作弊手法不可思议   \n",
       "23           前上海市检察院检察长，侵吞20亿财产杀4名法官、警察灭口案......   \n",
       "24                     凌晨普宁广场路段一汽车冲上绿化带，路灯很受伤_车辆   \n",
       "25              西宁东方医院坑骗患者 医生夸大病情恐吓消费者太黑心!_访客创业网   \n",
       "26                               援疆大爱洒边陲 不负重托续华章   \n",
       "27        【热点】廊坊人注意！房贷利率最新消息！首套普遍上浮超10%！二套调控更严……   \n",
       "28                       交警遭碾压殉职 肇事者抓到了吗 - 法律法规网   \n",
       "29                    福建省霞浦县委原书记王斌严重违纪违法被开除党籍和公职   \n",
       "...                                          ...   \n",
       "7326                  “黑”进银行app办质押贷款，6人获利近三千万买豪车   \n",
       "7327                              红霞:我的乡下童年生活结束了   \n",
       "7328              晚上10点，福州两妙龄女竟遭尾随，之后的一幕令人愤怒！_叶某   \n",
       "7329             【生态乐陵】建设中的湖畔公园如此美丽（2018级摄影班实践课）   \n",
       "7330  http://www.sqee.cn/thread-1086341-1-1.html   \n",
       "7331             北京赛车pk开奖现场直播：广汇能源子公司昨晚发生火灾 两人轻伤   \n",
       "7332                            意大利一夜店发生踩踏，伤亡惨重！   \n",
       "7333         湖南炎陵现雁过拔毛式腐败:40多万国资1万贱卖-桂平新闻网_桂平...   \n",
       "7334                     1月北京各区pm2.5排名出炉，大兴最差_浓度   \n",
       "7335              跆拳道馆员工乱丢垃圾 遭劝阻后殴打64岁环卫工 罚款500元   \n",
       "7336                  未成年幼师强迫幼童吃剩饭，还体罚其他幼童 - 腾讯网   \n",
       "7337                       夫妻吵架闹到派出所 细心民警揪出“瘾君子”   \n",
       "7338                    雨季来临，到底该如何做好汽车的防洪工作_东方汽车   \n",
       "7339                  2018年二级建造师《市政工程》每日一练(5月1日)   \n",
       "7340               【社会眼】动真格！歙县关停查处173家麻将馆棋牌室！_整治   \n",
       "7341           自然灾害与农村经济社会变动研究—以20世纪二三十年代之交陕甘...   \n",
       "7342               贷款逾期后，部分借款人因扛不住暴力催收，因此将网贷进行投诉   \n",
       "7343            有这种操作？南宁一男子收88万元购房定金，交易不成竟私吞，还……   \n",
       "7344           面试官:请把9块9包邮的红酒卖500块，90后转身卖“1箱”被录用   \n",
       "7345                    洋县交警大队江南中队集中查处夜间超载车辆的行动!   \n",
       "7346                          好消息!沧州到盐山客车票价降至5元!   \n",
       "7347                     台电故障致高雄多厂停电排黑烟 一厂氨气外泄被罚   \n",
       "7348              这个路口，三个月内发生了三起大挂车事故，司机朋友们，要注意啦   \n",
       "7349                         看到第七秒真以为要翻车，老司机放大招了   \n",
       "7350                    佳木斯路桥教师艺术团在百姓大舞台举行专场文艺演出   \n",
       "7351                            泰州做假公证书_新浪汽车_新浪网   \n",
       "7352                       广东省消委会就儿童门票问题起诉广州长隆集团   \n",
       "7353               建设银行以改革创新全力支持实体经济发展_财经新闻_丝竹文库   \n",
       "7354                         “三大改造”发力 洛阳工业转型升级有力   \n",
       "7355          董云虎，人权，宣传部长媒体介绍:新任上海市委宣传部长董云虎其人...   \n",
       "\n",
       "                                                content  \\\n",
       "0     近3年来，九江市紧紧围绕“人本教育、公平教育、优质教育、幸福教育”的目标，努力办好人民满意教...   \n",
       "1     中央第三生态环境保护督察组转办我市的第三十一批信访件共计1件，截至12月11日，已全部办结，...   \n",
       "2     核心提示：近日，连续的降雨天气造成中心城区部分路段积水严重，一些市民驾车出行涉水时造成车辆被...   \n",
       "3     intel在主流平台上确认，今年将推出基于14nm的whiskeylake，明年开始大规模出...   \n",
       "4     2018年4月，公安部指挥河南、北京、广西等地公安机关联合行动，成功侦破北京联众公司棋牌事业...   \n",
       "5     “五一”小长假期间，广西龙胜各族自治县龙脊古壮寨举办传统农事活动——“开耕节”，当地壮族同胞...   \n",
       "6     “这都是俺应该做的，交警作为人民群众的保护者，当看到他们受到伤害时，俺相信每个人都会勇于站出...   \n",
       "7     本来应该在东营的共享电单车，位置却显示在青岛平度。咋回事?哈罗单车工作人员通过后台监控系统追...   \n",
       "8     在在朋友圈看到微商已经不是什么稀罕的事打开朋友圈随便一刷很多都是卖保健品、膏药、榨汁机之类的...   \n",
       "9     公路上的摩托“飙车党”一直是警方重点打击对象。昨（25）日，重庆渝北区分局交巡警支队两路大队...   \n",
       "10    沁园净水器ru05b好不好很好用，卖家服务态度很好，物流快，安装人员服务也好。沁园哪一款净水...   \n",
       "11    用户:谁**我5a4曝光平台:香港国泰金业有限公司5a4我于2015年7月28日在香港国泰金...   \n",
       "12    宣判现场\\n　　本网讯 2月19日，双牌县人民法院依法公开对傅晓华、张玲等13名被告人组织卖...   \n",
       "13                           捡到黄色不明物体当玩具  一男童左腿被炸伤 缝了6针   \n",
       "14    2017年10月11日，成都】问众智能携手新双立集团，中国移动通信集团终端有限公司四川分公司...   \n",
       "15    原标题：小小的中国螺丝钉，摧毁了iphone美国的国产梦\\n竞选时大喊口号\\n”为了让美国再...   \n",
       "16    过去的11天里，60对农民工夫妻在湖南长沙拍完人生第一张婚纱照。对于他们中的大多数，这样的机...   \n",
       "17    小姐姐  微信牛牛，炸金花加我微信15874815752来自：tieba.baidu.com...   \n",
       "18    详询:15117135555李经理电话甘肃腾达汇泰塑胶制品有限公司是生产地下排水管材的专业制...   \n",
       "19    今天老婆去佛山都市妇产医院照四维，做完回来很生气，跟朋友说的完全不一样，主任医生态度恶劣，宝...   \n",
       "20    日内来说宇汐认为测试1300的可能性不大，跌破1310于1307附近获得支撑是大概率。前言：...   \n",
       "21    原标题：【扫码挪车】手机号匿名，扫码挪车更安全！更有挪车贴免费赠送！\\n对于车主来说\\n因为...   \n",
       "22                           学霸帮富二代考美国名校，以牟取暴利，作弊手法不可思议   \n",
       "23    2018年5月7日《新京报》报道，最高人民检察院指定，广西壮族自治区检察院侦查终结原上海市检...   \n",
       "24    原标题：凌晨普宁广场路段一汽车冲上绿化带，路灯很受伤\\n今天凌晨1点左右，环市北路普宁广场路...   \n",
       "25    正在为您跳转到访问页面.....\\n如果您的浏览器没有自动跳转，请检查以下设置。(1)请确保...   \n",
       "26    辽宁与塔城，因为对口援疆工作，结下深厚情谊。一批接一批的援疆干部在塔城大地持续接力，第五批2...   \n",
       "27    从今年初开始，各家银行首套房贷利率全面收紧。数据显示，3月份全国首套房贷款平均利率为5.51...   \n",
       "28    法律法规综合消息11月16日凌晨2时30分许，南京市公安局交警支队高速公路七大队民警史伟年，...   \n",
       "29    经济日报 - 中国经济网福州 2 月 18 日综合报道 据福建省纪委监委网站消息，日前，经中...   \n",
       "...                                                 ...   \n",
       "7326  原标题：“黑”进银行app办质押贷款，6人获利近三千万买豪车\\n 新京报讯（记者 顾志娟）金...   \n",
       "7327  原标题:红霞:我的乡下童年生活结束了红霞是三明治每日书作者，她在名为《童年三十忆》的每日书里...   \n",
       "7328  原标题：晚上10点，福州两妙龄女竟遭尾随，之后的一幕令人愤怒！\\nn 海都记者 吴臻 通讯员...   \n",
       "7329  4月26日清晨，看到微微露出的太阳，确定是一个阳光明媚的好天气，老年大学摄影学员来到正在筹建...   \n",
       "7330  重庆婚庆公司排行榜:我们都知道举办一场婚礼有很多事情要做，在策划婚礼过程中有很多的突发状况，...   \n",
       "7331  北京赛车pk开奖现场直播我们无意中践踏了那些小人们的最为神圣不可侵犯的观念，为您奉上最极致畅...   \n",
       "7332  据英国广播公司(bbc)12月8日报道，意大利一家夜总会发生踩踏事故，造成6人死亡，100多...   \n",
       "7333  2011年，炎陵县大院农场违反国有资产处置程序，将账面净值43.9947万元的冷库以1万元的...   \n",
       "7334  原标题：1月北京各区pm2.5排名出炉，大兴最差\\n新京报快讯（记者 邓琦）北京生态环境局最...   \n",
       "7335  来源 | 都市现场综合时间视频\\n下页 \\n余下全文\\n第1/9页 到页\\n下一篇：罐车被追...   \n",
       "7336  12月19日，河南省安阳市龙安区彰武中心幼儿园家长马先生报警，称该园老师小雯(化名)，打了多...   \n",
       "7337  重报移动传媒1月31日讯（记者 雷键 通讯员 汪迎春 实习生 于婷婷） 1月26日，忠县公安...   \n",
       "7338  汽车发动机轻微抖动，说明是这出了问题，千万别被修理厂坑了性价比最高的两款b级车，性能碾压帕萨...   \n",
       "7339  【摘要】有时候创造奇迹的不是巨人，而是不懈坚持的我们。二级建造师考试临近，五一假期期间大家也...   \n",
       "7340  原标题：【社会眼】动真格！歙县关停查处173家麻将馆棋牌室！\\n歙县棋牌室专项整治行动开展以...   \n",
       "7341  原标题:自然灾害与农村经济社会变动研究—以20世纪二三十年代之交陕甘地区旱灾为中心自然灾害与...   \n",
       "7342  在p2p网贷行业，由于部分网贷平台的催收者多次对贷款逾期的借款人进行暴力催收，而且情节较为严...   \n",
       "7343  3年多前，南宁市民黄某打算卖掉一栋价值400多万元的自建楼，还收下了买家88万元的定金。后来...   \n",
       "7344  面试官:请把9块9包邮的红酒卖500块，90后转身卖“1箱”被录用做销售的找工作在面试的时候...   \n",
       "7345  5月10日晚，洋县磨子桥镇路段出现了20余辆准备拉运散装沙石运输车，严重影响到沿线居民的正常...   \n",
       "7346  沧运集团举行新产品发布会 ?同时启动惠民服务月活动沧州到泊头盐山孟村票价降至5元昨日上午9时...   \n",
       "7347  9日下午，因台电故障，高雄市林园工业区多家厂商停电，生产工作受影响。高雄市环保局调查显示，亚...   \n",
       "7348  昨天上午，惠安县城至动车站快速通道上，一辆大挂车侧翻，车上的几十吨货物倾倒在路中央，所幸事发...   \n",
       "7349                                看到第七秒真以为要翻车，老司机放大招了   \n",
       "7350  5月22日晚，佳木斯市纪念改革开放40周年群众文化系列演出，佳木斯路桥教师艺术团专场在外滩百...   \n",
       "7351  copyright?2016王者风范通讯数码allrightsreserved技术支持:顶酷...   \n",
       "7352  原标题：广东省消委会就儿童门票问题起诉广州长隆集团\\n　　中新网广州2月18日电 (记者 许...   \n",
       "7353  从建设银行苏州分行了解到，2017年，建设银行紧紧围绕服务实体经济、防范金融风险和深化金融改...   \n",
       "7354  文 ▏河南日报记者 田宜龙  5月23号出版的河南日报 核心导读? ? 绿色改造、智能改造、...   \n",
       "7355   奇闻网讯共十五大代表。年起为享受政府特殊津贴专家。为“时任中国西藏文化周”代表团副团长董云...   \n",
       "\n",
       "                                                      X  \\\n",
       "0     九江办好人民满意教育近3年来，九江市紧紧围绕“人本教育、公平教育、优质教育、幸福教育”的目标...   \n",
       "1     中央第三生态环境保护督察组转办我市第三十一批信访件办理情况中央第三生态环境保护督察组转办我市...   \n",
       "2     大雨天车被淹，保险公司该不该赔？核心提示：近日，连续的降雨天气造成中心城区部分路段积水严重，...   \n",
       "3     英特尔新cpu微架构oceancove曝光intel在主流平台上确认，今年将推出基于14nm...   \n",
       "4     公安部侦破一批重大网络赌博案件德州约局平台成重灾区2018年4月，公安部指挥河南、北京、广西...   \n",
       "5     广西龙胜千层天梯闹春耕“五一”小长假期间，广西龙胜各族自治县龙脊古壮寨举办传统农事活动——“...   \n",
       "6     高唐小伙:挺身而出救交警“这都是俺应该做的，交警作为人民群众的保护者，当看到他们受到伤害时，...   \n",
       "7     东营共享单车远走青岛，中间到底发生了什么?本来应该在东营的共享电单车，位置却显示在青岛平度。...   \n",
       "8     已有19人被捕!你的老婆可能还在做…赶紧看!在在朋友圈看到微商已经不是什么稀罕的事打开朋友圈...   \n",
       "9     这两名“飙车党”太猖狂，竟当着重庆民警面玩漂移公路上的摩托“飙车党”一直是警方重点打击对象。...   \n",
       "10    沁园净水器ru05b好不好沁园净水器ru05b好不好很好用，卖家服务态度很好，物流快，安装人...   \n",
       "11    国泰金业黑代理修改客户密码，恶意刷单致损失惨重-第一交易网用户:谁**我5a4曝光平台:香港...   \n",
       "12    13人组织卖淫圴获刑宣判现场本网讯2月19日，双牌县人民法院依法公开对傅晓华、张玲等13名被...   \n",
       "13         黄色不明物体当玩具一男童左腿被炸伤缝了6针捡到黄色不明物体当玩具一男童左腿被炸伤缝了6针   \n",
       "14    >问众智能携手新双立集团、四川终端公司打造中国首个车联网销售2017年10月11日，成都】问...   \n",
       "15    小小的中国螺丝钉，摧毁了iphone美国的国产梦_库克原标题：小小的中国螺丝钉，摧毁了iph...   \n",
       "16    女摄影师为农民工夫妻拍婚纱照目前已完成60对夫妻拍摄过去的11天里，60对农民工夫妻在湖南长...   \n",
       "17    分享：微信牛牛，炸金花加我微信15874815752小姐姐微信牛牛，炸金花加我微信15874...   \n",
       "18    博尔塔拉蒙古自治州pe双壁波纹管小区专用详询:15117135555李经理电话甘肃腾达汇泰塑...   \n",
       "19    [转载]垃圾佛山都市妇产医院骗子黑心医院_久久资讯今天老婆去佛山都市妇产医院照四维，做完回来...   \n",
       "20    金宇汐：51黄金日内还会下跌吗？日内会跌至1300吗？日内来说宇汐认为测试1300的可能性不...   \n",
       "21    【扫码挪车】手机号匿名，扫码挪车更安全！更有挪车贴免费赠送！_车主原标题：【扫码挪车】手机号...   \n",
       "22    学霸帮富二代考美国名校，以牟取暴利，作弊手法不可思议学霸帮富二代考美国名校，以牟取暴利，作弊...   \n",
       "23    前上海市检察院检察长，侵吞20亿财产杀4名法官、警察灭口案2018年5月7日《新京报》报道，...   \n",
       "24    凌晨普宁广场路段一汽车冲上绿化带，路灯很受伤_车辆原标题：凌晨普宁广场路段一汽车冲上绿化带，...   \n",
       "25    西宁东方医院坑骗患者医生夸大病情恐吓消费者太黑心!_访客创业网正在为您跳转到访问页面如果您的...   \n",
       "26    援疆大爱洒边陲不负重托续华章辽宁与塔城，因为对口援疆工作，结下深厚情谊。一批接一批的援疆干部...   \n",
       "27    【热点】廊坊人注意！房贷利率最新消息！首套普遍上浮超10%！二套调控更严……从今年初开始，各...   \n",
       "28    交警遭碾压殉职肇事者抓到了吗-法律法规网法律法规综合消息11月16日凌晨2时30分许，南京市...   \n",
       "29    福建省霞浦县委原书记王斌严重违纪违法被开除党籍和公职经济日报-中国经济网福州2月18日综合报...   \n",
       "...                                                 ...   \n",
       "7326  “黑”进银行app办质押贷款，6人获利近三千万买豪车原标题：“黑”进银行app办质押贷款，6...   \n",
       "7327  红霞:我的乡下童年生活结束了原标题:红霞:我的乡下童年生活结束了红霞是三明治每日书作者，她在...   \n",
       "7328  晚上10点，福州两妙龄女竟遭尾随，之后的一幕令人愤怒！_叶某原标题：晚上10点，福州两妙龄女...   \n",
       "7329  【生态乐陵】建设中的湖畔公园如此美丽（2018级摄影班实践课）4月26日清晨，看到微微露出的...   \n",
       "7330  http:wwwsqeecnthread-1086341-1-1html重庆婚庆公司排行榜:...   \n",
       "7331  北京赛车pk开奖现场直播：广汇能源子公司昨晚发生火灾两人轻伤北京赛车pk开奖现场直播我们无意...   \n",
       "7332  意大利一夜店发生踩踏，伤亡惨重！据英国广播公司(bbc)12月8日报道，意大利一家夜总会发生...   \n",
       "7333  湖南炎陵现雁过拔毛式腐败:40多万国资1万贱卖-桂平新闻网_桂平2011年，炎陵县大院农场违...   \n",
       "7334  1月北京各区pm25排名出炉，大兴最差_浓度原标题：1月北京各区pm25排名出炉，大兴最差新...   \n",
       "7335  跆拳道馆员工乱丢垃圾遭劝阻后殴打64岁环卫工罚款500元来源都市现场综合时间视频下页余下全文...   \n",
       "7336  未成年幼师强迫幼童吃剩饭，还体罚其他幼童-腾讯网12月19日，河南省安阳市龙安区彰武中心幼儿...   \n",
       "7337  夫妻吵架闹到派出所细心民警揪出“瘾君子”重报移动传媒1月31日讯（记者雷键通讯员汪迎春实习生...   \n",
       "7338  雨季来临，到底该如何做好汽车的防洪工作_东方汽车汽车发动机轻微抖动，说明是这出了问题，千万别...   \n",
       "7339  2018年二级建造师《市政工程》每日一练(5月1日)【摘要】有时候创造奇迹的不是巨人，而是不...   \n",
       "7340  【社会眼】动真格！歙县关停查处173家麻将馆棋牌室！_整治原标题：【社会眼】动真格！歙县关停...   \n",
       "7341  自然灾害与农村经济社会变动研究—以20世纪二三十年代之交陕甘原标题:自然灾害与农村经济社会变...   \n",
       "7342  贷款逾期后，部分借款人因扛不住暴力催收，因此将网贷进行投诉在p2p网贷行业，由于部分网贷平台...   \n",
       "7343  有这种操作？南宁一男子收88万元购房定金，交易不成竟私吞，还……3年多前，南宁市民黄某打算卖...   \n",
       "7344  面试官:请把9块9包邮的红酒卖500块，90后转身卖“1箱”被录用面试官:请把9块9包邮的红...   \n",
       "7345  洋县交警大队江南中队集中查处夜间超载车辆的行动!5月10日晚，洋县磨子桥镇路段出现了20余辆...   \n",
       "7346  好消息!沧州到盐山客车票价降至5元!沧运集团举行新产品发布会?同时启动惠民服务月活动沧州到泊...   \n",
       "7347  台电故障致高雄多厂停电排黑烟一厂氨气外泄被罚9日下午，因台电故障，高雄市林园工业区多家厂商停...   \n",
       "7348  这个路口，三个月内发生了三起大挂车事故，司机朋友们，要注意啦昨天上午，惠安县城至动车站快速通...   \n",
       "7349             看到第七秒真以为要翻车，老司机放大招了看到第七秒真以为要翻车，老司机放大招了   \n",
       "7350  佳木斯路桥教师艺术团在百姓大舞台举行专场文艺演出5月22日晚，佳木斯市纪念改革开放40周年群...   \n",
       "7351  泰州做假公证书_新浪汽车_新浪网copyright?2016王者风范通讯数码allright...   \n",
       "7352  广东省消委会就儿童门票问题起诉广州长隆集团原标题：广东省消委会就儿童门票问题起诉广州长隆集团...   \n",
       "7353  建设银行以改革创新全力支持实体经济发展_财经新闻_丝竹文库从建设银行苏州分行了解到，2017...   \n",
       "7354  “三大改造”发力洛阳工业转型升级有力文▏河南日报记者田宜龙5月23号出版的河南日报核心导读?...   \n",
       "7355  董云虎，人权，宣传部长媒体介绍:新任上海市委宣传部长董云虎其人奇闻网讯共十五大代表。年起为享...   \n",
       "\n",
       "                                                X_split  \n",
       "0     九江 办好 人民满意 教育 近 3 年来 ， 九江市 紧紧围绕 “ 人 本 教育 、 公平 ...  \n",
       "1     中央 第三 生态 环境保护 督察组 转办 我市 第三十 一批 信访件 办理 情况 中央 第三...  \n",
       "2     大雨天 车 被淹 ， 保险公司 该不该 赔 ？ 核心 提示 ： 近日 ， 连续 的 降雨 天...  \n",
       "3     英特尔 新 cpu 微 架构 oceancove 曝光 intel 在 主流 平台 上 确认...  \n",
       "4     公安部 侦破 一批 重大 网络 赌博 案件 德州 约局 平台 成 重灾区 2018 年 4 ...  \n",
       "5     广西 龙胜 千层 天梯 闹 春耕 “ 五一 ” 小 长假 期间 ， 广西 龙胜各族自治县 龙...  \n",
       "6     高唐 小伙 : 挺身而出 救 交警 “ 这 都 是 俺 应该 做 的 ， 交警 作为 人民 ...  \n",
       "7     东营 共享 单车 远走 青岛 ， 中间 到底 发生 了 什么 ? 本来 应该 在 东营 的 ...  \n",
       "8     已有 19 人 被捕 ! 你 的 老婆 可能 还 在 做 … 赶紧 看 ! 在 在 朋友圈 ...  \n",
       "9     这 两名 “ 飙车 党 ” 太 猖狂 ， 竟 当着 重庆 民警 面玩 漂移 公路 上 的 摩...  \n",
       "10    沁园 净水器 ru05b 好不好 沁园 净水器 ru05b 好不好 很 好 用 ， 卖家 服...  \n",
       "11    国泰 金业 黑 代理 修改 客户 密码 ， 恶意 刷 单致 损失惨重 - 第一 交易网 用户...  \n",
       "12    13 人 组织 卖淫 圴 获刑 宣判 现场 本 网讯 2 月 19 日 ， 双牌县 人民法院...  \n",
       "13    黄色 不明 物体 当 玩具 一 男童 左腿 被 炸伤 缝 了 6 针 捡 到 黄色 不明 物...  \n",
       "14    > 问众 智能 携手 新双立 集团 、 四川 终端 公司 打造 中国 首个 车 联网 销售 ...  \n",
       "15    小小的 中国 螺丝钉 ， 摧毁 了 iphone 美国 的 国产 梦 _ 库克 原 标题 ：...  \n",
       "16    女 摄影师 为 农民工 夫妻 拍 婚纱照 目前 已 完成 60 对 夫妻 拍摄 过去 的 1...  \n",
       "17    分享 ： 微信 牛牛 ， 炸 金花 加 我 微信 15874815752 小姐姐 微信 牛牛...  \n",
       "18    博尔塔拉蒙古自治州 pe 双壁 波纹管 小区 专用 详询 : 15117135555 李经理...  \n",
       "19    [ 转载 ] 垃圾 佛山 都市 妇产医院 骗子 黑心 医院 _ 久久 资讯 今天 老婆 去 ...  \n",
       "20    金宇汐 ： 51 黄金 日内 还 会 下跌 吗 ？ 日内会 跌 至 1300 吗 ？ 日内 ...  \n",
       "21    【 扫码 挪车 】 手机号 匿名 ， 扫码 挪车 更 安全 ！ 更 有 挪车 贴 免费 赠送...  \n",
       "22    学霸 帮富 二代 考 美国 名校 ， 以 牟取暴利 ， 作弊 手法 不可思议 学霸 帮富 二...  \n",
       "23    前 上海市 检察院 检察长 ， 侵吞 20 亿 财产 杀 4 名 法官 、 警察 灭口 案 ...  \n",
       "24    凌晨 普宁 广场 路段 一 汽车 冲上 绿化带 ， 路灯 很 受伤 _ 车辆 原 标题 ： ...  \n",
       "25    西宁 东方 医院 坑骗 患者 医生 夸大 病情 恐吓 消费者 太 黑心 ! _ 访客 创业网...  \n",
       "26    援疆 大爱洒 边陲 不负 重托 续 华章 辽宁 与 塔城 ， 因为 对口 援疆 工作 ， 结...  \n",
       "27    【 热点 】 廊坊 人 注意 ！ 房贷利率 最新消息 ！ 首套 普遍 上浮 超 10% ！ ...  \n",
       "28    交警 遭 碾压 殉职 肇事者 抓到 了 吗 - 法律法规 网 法律法规 综合 消息 11 月...  \n",
       "29    福建省 霞浦 县委 原 书记 王斌 严重 违纪 违法 被 开除党籍 和 公职 经济日报 - ...  \n",
       "...                                                 ...  \n",
       "7326  “ 黑 ” 进 银行 app 办 质押 贷款 ， 6 人 获利 近 三千万 买豪车 原 标题...  \n",
       "7327  红霞 : 我 的 乡下 童年 生活 结束 了 原 标题 : 红霞 : 我 的 乡下 童年 生...  \n",
       "7328  晚上 10 点 ， 福州 两 妙龄女 竟 遭 尾随 ， 之后 的 一幕 令人 愤怒 ！ _ ...  \n",
       "7329  【 生态 乐陵 】 建设 中 的 湖畔 公园 如此 美丽 （ 2018 级 摄影 班 实践 ...  \n",
       "7330  http : wwwsqeecnthread - 1086341 - 1 - 1html 重...  \n",
       "7331  北京 赛车 pk 开奖 现场直播 ： 广汇 能源 子公司 昨晚 发生 火灾 两人 轻伤 北京...  \n",
       "7332  意大利 一夜 店 发生 踩踏 ， 伤亡惨重 ！ 据 英国广播公司 ( bbc ) 12 月 ...  \n",
       "7333  湖南 炎陵 现 雁过拔毛 式 腐败 : 40 多万 国资 1 万 贱卖 - 桂平 新闻网 _...  \n",
       "7334  1 月 北京 各区 pm25 排名 出炉 ， 大兴 最差 _ 浓度 原 标题 ： 1 月 北...  \n",
       "7335  跆拳道 馆 员工 乱丢垃圾 遭 劝阻 后 殴打 64 岁 环卫工 罚款 500 元 来源 都...  \n",
       "7336  未成年 幼师 强迫 幼童 吃 剩饭 ， 还 体罚 其他 幼童 - 腾讯网 12 月 19 日...  \n",
       "7337  夫妻 吵架 闹到 派出所 细心 民警 揪出 “ 瘾君子 ” 重 报 移动 传媒 1 月 31...  \n",
       "7338  雨季 来临 ， 到底 该 如何 做好 汽车 的 防洪 工作 _ 东方 汽车 汽车 发动机 轻...  \n",
       "7339  2018 年 二级 建造师 《 市政工程 》 每日 一 练 ( 5 月 1 日 ) 【 摘要...  \n",
       "7340  【 社会 眼 】 动真格 ！ 歙县 关停 查处 173 家 麻将馆 棋牌室 ！ _ 整治 原...  \n",
       "7341  自然灾害 与 农村 经济社会 变动 研究 — 以 20 世纪 二三十 年代 之交 陕甘 原 ...  \n",
       "7342  贷款 逾期 后 ， 部分 借款人 因 扛不住 暴力 催收 ， 因此 将 网贷 进行 投诉 在...  \n",
       "7343  有 这种 操作 ？ 南宁 一 男子 收 88 万元 购房 定金 ， 交易 不成 竟 私吞 ，...  \n",
       "7344  面试官 : 请 把 9 块 9 包邮 的 红酒 卖 500 块 ， 90 后 转身 卖 “ ...  \n",
       "7345  洋县 交警大队 江南 中队 集中 查处 夜间 超载 车辆 的 行动 ! 5 月 10 日晚 ...  \n",
       "7346  好消息 ! 沧州 到 盐山 客车 票价 降至 5 元 ! 沧运 集团 举行 新 产品 发布会...  \n",
       "7347  台 电 故障 致高雄 多厂 停电 排 黑烟 一厂 氨气 外泄 被 罚 9 日 下午 ， 因台...  \n",
       "7348  这个 路口 ， 三个 月 内 发生 了 三起 大 挂车 事故 ， 司机 朋友 们 ， 要 注...  \n",
       "7349  看到 第七 秒 真 以为 要 翻车 ， 老 司机 放大 招 了 看到 第七 秒 真 以为 要...  \n",
       "7350  佳木斯 路桥 教师 艺术团 在 百姓 大 舞台 举行 专场 文艺演出 5 月 22 日晚 ，...  \n",
       "7351  泰州 做假 公证书 _ 新浪 汽车 _ 新浪网 copyright ? 2016 王者 风范...  \n",
       "7352  广东省 消委会 就 儿童 门票 问题 起诉 广州 长隆 集团 原 标题 ： 广东省 消委会 ...  \n",
       "7353  建设银行 以 改革 创新 全力支持 实体 经济 发展 _ 财经新闻 _ 丝竹 文库 从 建设...  \n",
       "7354  “ 三大 改造 ” 发力 洛阳 工业 转型 升级 有力 文 ▏ 河南日报 记者 田宜龙 5 ...  \n",
       "7355  董云虎 ， 人权 ， 宣传部长 媒体 介绍 : 新任 上海市委 宣传部长 董云虎 其人 奇闻...  \n",
       "\n",
       "[7356 rows x 5 columns]"
      ]
     },
     "execution_count": 148,
     "metadata": {},
     "output_type": "execute_result"
    }
   ],
   "source": [
    "test_data"
   ]
  },
  {
   "cell_type": "code",
   "execution_count": null,
   "metadata": {
    "collapsed": true
   },
   "outputs": [],
   "source": [
    "test_pred[\"id\"]=list(test_data[\"id\"])\n",
    "test_pred[[\"id\",\"label\"]].to_csv('1111111.csv',index=None)"
   ]
  },
  {
   "cell_type": "code",
   "execution_count": 59,
   "metadata": {},
   "outputs": [
    {
     "data": {
      "text/plain": [
       "<6538x166728 sparse matrix of type '<class 'numpy.int64'>'\n",
       "\twith 1972150 stored elements in Compressed Sparse Column format>"
      ]
     },
     "execution_count": 59,
     "metadata": {},
     "output_type": "execute_result"
    }
   ],
   "source": [
    "clf.fit(xtrain_ctv.tocsc(), ytrain)\n",
    "predictions = clf.predict_proba(xvalid_ctv.tocsc())\n",
    "\n",
    "print(\"logloss: %0.3f \" % multiclass_logloss(yvalid, predictions))\n"
   ]
  },
  {
   "cell_type": "code",
   "execution_count": 55,
   "metadata": {},
   "outputs": [
    {
     "data": {
      "text/plain": [
       "numpy.ndarray"
      ]
     },
     "execution_count": 55,
     "metadata": {},
     "output_type": "execute_result"
    }
   ],
   "source": [
    "xTrain_tfidf = tfv.fit_transform(xTrain)\n",
    "xTest_tfidf = tfv.transform(xTest)\n",
    "yTrain=dataDropNa[\"label\"]\n",
    " \n",
    "#训练逻辑回归模型\n",
    "clf = LogisticRegression(C=4, dual=True)\n",
    "clf.fit(xTrain_tfidf, yTrain)\n",
    " "
   ]
  },
  {
   "cell_type": "code",
   "execution_count": null,
   "metadata": {
    "collapsed": true
   },
   "outputs": [],
   "source": [
    "clt.fit()\n",
    "preds=clf.predict(xTest_tfidf)\n",
    "test_pred=pd.DataFrame(preds)\n",
    "test_pred.columns=[\"label\"]\n",
    "test_pred[\"id\"]=list(testData[\"id\"])\n",
    "test_pred[[\"id\",\"label\"]].to_csv('sub_svm_baseline.csv',index=None)\n",
    " "
   ]
  },
  {
   "cell_type": "markdown",
   "metadata": {},
   "source": [
    "基于tf-idf的svd特征，使用xgboost"
   ]
  },
  {
   "cell_type": "code",
   "execution_count": 27,
   "metadata": {},
   "outputs": [
    {
     "name": "stdout",
     "output_type": "stream",
     "text": [
      "logloss: 0.659 \n"
     ]
    }
   ],
   "source": [
    "clf = xgb.XGBClassifier(max_depth=7, n_estimators=200, colsample_bytree=0.8, \n",
    "                        subsample=0.8, nthread=10, learning_rate=0.1)\n",
    "clf.fit(xtrain_svd, ytrain)\n",
    "predictions = clf.predict_proba(xvalid_svd)\n",
    "\n",
    "print (\"logloss: %0.3f \" % multiclass_logloss(yvalid, predictions))"
   ]
  },
  {
   "cell_type": "markdown",
   "metadata": {},
   "source": [
    "再对经过数据标准化(Scaling)的tf-idf-svd特征使用xgboost"
   ]
  },
  {
   "cell_type": "code",
   "execution_count": 28,
   "metadata": {},
   "outputs": [
    {
     "name": "stdout",
     "output_type": "stream",
     "text": [
      "logloss: 0.646 \n"
     ]
    }
   ],
   "source": [
    "clf = xgb.XGBClassifier(nthread=10)\n",
    "clf.fit(xtrain_svd_scl, ytrain)\n",
    "predictions = clf.predict_proba(xvalid_svd_scl)\n",
    "\n",
    "print (\"logloss: %0.3f \" % multiclass_logloss(yvalid, predictions))"
   ]
  },
  {
   "cell_type": "markdown",
   "metadata": {},
   "source": [
    "XGBoost的效果似乎挺棒的！ 但我觉得还可以进一步优化，因为我还没有做过任何\n",
    "超参数优化。 我很懒，所以我会告诉你该怎么做，你可以自己做！）。 这将在下\n",
    "一节中讨论："
   ]
  },
  {
   "cell_type": "markdown",
   "metadata": {},
   "source": [
    "**网格搜索（Grid Search)**"
   ]
  },
  {
   "cell_type": "markdown",
   "metadata": {},
   "source": [
    "网格搜索是一种超参数优化的技巧。 如果知道这个技巧，你可以通过获取最优的参数组合来产生良好的文本分类效果。\n",
    "\n",
    "在本节中，我将讨论使用基于逻辑回归模型的网格搜索。\n",
    "\n",
    "在开始网格搜索之前，我们需要创建一个评分函数，这可以通过scikit-learn\n",
    "的make_scorer函数完成的。"
   ]
  },
  {
   "cell_type": "code",
   "execution_count": 29,
   "metadata": {
    "collapsed": true
   },
   "outputs": [],
   "source": [
    "mll_scorer = metrics.make_scorer(multiclass_logloss, \n",
    "                       greater_is_better=False, needs_proba=True)"
   ]
  },
  {
   "cell_type": "markdown",
   "metadata": {},
   "source": [
    "接下来，我们需要一个pipeline。 为了演示，我将使用由SVD（进行特征缩放）和逻辑回归模型组成的pipeline。"
   ]
  },
  {
   "cell_type": "code",
   "execution_count": 30,
   "metadata": {
    "collapsed": true
   },
   "outputs": [],
   "source": [
    "#SVD初始化\n",
    "svd = TruncatedSVD()\n",
    "\n",
    "# Standard Scaler初始化\n",
    "scl = preprocessing.StandardScaler()\n",
    "\n",
    "# 再一次使用Logistic Regression\n",
    "lr_model = LogisticRegression()\n",
    "\n",
    "# 创建pipeline \n",
    "clf = pipeline.Pipeline([('svd', svd),\n",
    "                         ('scl', scl),\n",
    "                         ('lr', lr_model)])"
   ]
  },
  {
   "cell_type": "markdown",
   "metadata": {},
   "source": [
    "接下来我们需要一个参数网格（A Grid of Parameters）："
   ]
  },
  {
   "cell_type": "code",
   "execution_count": 31,
   "metadata": {
    "collapsed": true
   },
   "outputs": [],
   "source": [
    "param_grid = {'svd__n_components' : [120, 180],\n",
    "              'lr__C': [0.1, 1.0, 10], \n",
    "              'lr__penalty': ['l1', 'l2']}"
   ]
  },
  {
   "cell_type": "markdown",
   "metadata": {},
   "source": [
    "因此，对于SVD，我们评估120和180个分量（Components），对于逻辑回归，我们评估三个不同的学习率C值，其中惩罚函数为l1和l2。 现在，我们可以开始对这些参数进行网格搜索咯。\n",
    "\n",
    "网格搜索模型（Grid Search Model）初始化："
   ]
  },
  {
   "cell_type": "code",
   "execution_count": 32,
   "metadata": {
    "collapsed": true
   },
   "outputs": [],
   "source": [
    "model = GridSearchCV(estimator=clf, param_grid=param_grid, scoring=mll_scorer,\n",
    "                                 verbose=10, n_jobs=-1, iid=True, refit=True, cv=2)"
   ]
  },
  {
   "cell_type": "markdown",
   "metadata": {},
   "source": [
    "fit网格搜索模型:"
   ]
  },
  {
   "cell_type": "code",
   "execution_count": null,
   "metadata": {
    "collapsed": true
   },
   "outputs": [],
   "source": [
    "model.fit(xtrain_tfv, ytrain)  #为了减少计算量，这里我们仅使用xtrain\n"
   ]
  },
  {
   "cell_type": "code",
   "execution_count": null,
   "metadata": {
    "collapsed": true
   },
   "outputs": [],
   "source": [
    "print(\"Best score: %0.3f\" % model.best_score_)\n",
    "print(\"Best parameters set:\")\n",
    "best_parameters = model.best_estimator_.get_params()\n",
    "for param_name in sorted(param_grid.keys()):\n",
    "    print(\"\\t%s: %r\" % (param_name, best_parameters[param_name]))"
   ]
  },
  {
   "cell_type": "code",
   "execution_count": null,
   "metadata": {
    "collapsed": true
   },
   "outputs": [],
   "source": [
    "nb_model = MultinomialNB()"
   ]
  },
  {
   "cell_type": "markdown",
   "metadata": {},
   "source": [
    "创建pipeline :"
   ]
  },
  {
   "cell_type": "code",
   "execution_count": null,
   "metadata": {
    "collapsed": true
   },
   "outputs": [],
   "source": [
    "clf = pipeline.Pipeline([('nb', nb_model)])"
   ]
  },
  {
   "cell_type": "markdown",
   "metadata": {},
   "source": [
    "搜索参数设置:"
   ]
  },
  {
   "cell_type": "code",
   "execution_count": null,
   "metadata": {
    "collapsed": true
   },
   "outputs": [],
   "source": [
    "param_grid = {'nb__alpha': [0.001, 0.01, 0.1, 1, 10, 100]}"
   ]
  },
  {
   "cell_type": "markdown",
   "metadata": {},
   "source": [
    "网格搜索模型（Grid Search Model）初始化:"
   ]
  },
  {
   "cell_type": "code",
   "execution_count": null,
   "metadata": {
    "collapsed": true
   },
   "outputs": [],
   "source": [
    "model = GridSearchCV(estimator=clf, param_grid=param_grid, scoring=mll_scorer,\n",
    "                                 verbose=10, n_jobs=-1, iid=True, refit=True, cv=2)"
   ]
  },
  {
   "cell_type": "markdown",
   "metadata": {},
   "source": [
    "fit网格搜索模型:"
   ]
  },
  {
   "cell_type": "code",
   "execution_count": null,
   "metadata": {
    "collapsed": true
   },
   "outputs": [],
   "source": [
    "model.fit(xtrain_tfv, ytrain)  # 为了减少计算量，这里我们仅使用xtrain\n",
    "print(\"Best score: %0.3f\" % model.best_score_)\n",
    "print(\"Best parameters set:\")\n",
    "best_parameters = model.best_estimator_.get_params()\n",
    "for param_name in sorted(param_grid.keys()):\n",
    "    print(\"\\t%s: %r\" % (param_name, best_parameters[param_name]))"
   ]
  },
  {
   "cell_type": "markdown",
   "metadata": {},
   "source": [
    "在NLP问题中，我们习惯于检索词向量（Word Vectors）。 Word向量提供了很多关\n",
    "于数据的见解。 接下来，让我们来深入研究一下。"
   ]
  },
  {
   "cell_type": "markdown",
   "metadata": {},
   "source": [
    " ## 基于word2vec的词嵌入"
   ]
  },
  {
   "cell_type": "markdown",
   "metadata": {},
   "source": [
    "在不深入细节的情况下，笔者将解释如何创建语句向量（Sentence Vectors），以\n",
    "及如何基于它们在其上创建机器学习模型。鄙人是GloVe向量，word2vec和\n",
    "fasttext的粉丝（但平时还是用word2vec较多）。在这篇文章中，笔者使用的文本\n",
    "分类模型是基于Word2vec词向量模型（100维）。\n",
    "\n",
    "训练word2vec词向量:"
   ]
  },
  {
   "cell_type": "code",
   "execution_count": 31,
   "metadata": {
    "collapsed": true
   },
   "outputs": [],
   "source": [
    "import gensim\n",
    "model = gensim.models.Word2Vec(data, size=100)"
   ]
  },
  {
   "cell_type": "markdown",
   "metadata": {},
   "source": [
    "X是经分词后的文本构成的list，也就是tokens的列表的列表.\n",
    "\n",
    "    注意，Word2Vec还有3个值得关注的参数，iter是模型训练时迭代的次数，假\n",
    "    如参与训练的文本量较少，就需要把这个参数调大一些；sg是模型训练算法的\n",
    "    类别，1 代表 skip-gram，;0代表 CBOW;window控制窗口，它指当前词和预测\n",
    "    词之间的最大距离，如果设得较小，那么模型学习到的是词汇间的功能性特征\n",
    "    （词性相异），如果设置得较大，会学习到词汇之间的相似性特征（词性相\n",
    "    同）的大小，假如语料够多，笔者一般会设置得大一些，8~10。\n"
   ]
  },
  {
   "cell_type": "code",
   "execution_count": 32,
   "metadata": {},
   "outputs": [
    {
     "name": "stderr",
     "output_type": "stream",
     "text": [
      "C:\\Users\\dongy\\Anaconda3\\envs\\tensorflow\\lib\\site-packages\\ipykernel\\__main__.py:1: DeprecationWarning: Call to deprecated `syn0` (Attribute will be removed in 4.0.0, use self.vectors instead).\n",
      "  if __name__ == '__main__':\n"
     ]
    },
    {
     "name": "stdout",
     "output_type": "stream",
     "text": [
      "Found 1 word vectors.\n"
     ]
    }
   ],
   "source": [
    "embeddings_index = dict(zip(model.wv.index2word, model.wv.syn0))\n",
    "\n",
    "print('Found %s word vectors.' % len(embeddings_index))"
   ]
  },
  {
   "cell_type": "markdown",
   "metadata": {},
   "source": [
    "该函数会将语句转化为一个标准化的向量（Normalized Vector）"
   ]
  },
  {
   "cell_type": "code",
   "execution_count": null,
   "metadata": {
    "collapsed": true
   },
   "outputs": [],
   "source": [
    "def sent2vec(s):\n",
    "#     words = str(s).lower()\n",
    "    words = word_tokenize(words)\n",
    "#     words = [w for w in words if not w in stop_words]\n",
    "#     words = [w for w in words if w.isalpha()]\n",
    "    M = []\n",
    "    for w in words:\n",
    "        try:\n",
    "            M.append(embeddings_index[w])\n",
    "        except:\n",
    "            continue\n",
    "    M = np.array(M)\n",
    "    v = M.sum(axis=0)\n",
    "    if type(v) != np.ndarray:\n",
    "        return np.zeros(300)\n",
    "    return v / np.sqrt((v ** 2).sum())"
   ]
  },
  {
   "cell_type": "markdown",
   "metadata": {},
   "source": [
    "对训练集和验证集使用上述函数，进行文本向量化处理"
   ]
  },
  {
   "cell_type": "code",
   "execution_count": null,
   "metadata": {
    "collapsed": true
   },
   "outputs": [],
   "source": [
    "xtrain_w2v  = [sent2vec(x) for x in tqdm(xtrain)]\n",
    "xvalid_w2v  = [sent2vec(x) for x in tqdm(xvalid)]\n",
    "\n",
    "xtrain_w2v  = np.array(xtrain_w2v)\n",
    "xvalid_w2v  = np.array(xvalid_w2v)"
   ]
  },
  {
   "cell_type": "markdown",
   "metadata": {},
   "source": [
    "让我们看看xgboost在Glove词向量特征的表现如何：\n",
    "\n",
    "基于word2vec特征使用XGB文本分类器："
   ]
  },
  {
   "cell_type": "code",
   "execution_count": null,
   "metadata": {
    "collapsed": true
   },
   "outputs": [],
   "source": [
    "clf = xgb.XGBClassifier(nthread=10, silent=False)\n",
    "clf.fit(xtrain_glove, ytrain)\n",
    "predictions = clf.predict_proba(xvalid_w2v)\n",
    "\n",
    "print (\"logloss: %0.3f \" % multiclass_logloss(yvalid, predictions))"
   ]
  },
  {
   "cell_type": "code",
   "execution_count": null,
   "metadata": {
    "collapsed": true
   },
   "outputs": [],
   "source": [
    "clf = xgb.XGBClassifier(max_depth=7, n_estimators=200, colsample_bytree=0.8, \n",
    "                        subsample=0.8, nthread=10, learning_rate=0.1, silent=False)\n",
    "clf.fit(xtrain_w2v, ytrain)\n",
    "predictions = clf.predict_proba(xvalid_w2v)\n",
    "\n",
    "print (\"logloss: %0.3f \" % multiclass_logloss(yvalid, predictions))"
   ]
  },
  {
   "cell_type": "markdown",
   "metadata": {},
   "source": [
    "我们可以看到，简单的对参数进行微调，就提高基于word2vec词向量特征的\n",
    "xgboost得分！ 相信我，你还可以从中继续“压榨”出更优秀的表现！\n"
   ]
  },
  {
   "cell_type": "markdown",
   "metadata": {},
   "source": [
    " 深度学习（Deep Learning）\n",
    "\n",
    "这是一个深度学习大行其道的时代！ 文本分类问题在它的指引下得到了突飞猛进\n",
    "的发展！ 在这里，我们将在word2vec功能上训练LSTM和简单的全连接网络（Dense\n",
    "Network）。\n",
    "让我们先从全连接网络开始：\n",
    "\n",
    "在使用神经网络前，对数据进行缩放："
   ]
  },
  {
   "cell_type": "code",
   "execution_count": null,
   "metadata": {
    "collapsed": true
   },
   "outputs": [],
   "source": [
    "scl = preprocessing.StandardScaler()\n",
    "xtrain_w2v_scl = scl.fit_transform(xtrain_w2v)\n",
    "xvalid_w2v_scl = scl.transform(xvalid_w2v)"
   ]
  },
  {
   "cell_type": "code",
   "execution_count": null,
   "metadata": {
    "collapsed": true
   },
   "outputs": [],
   "source": []
  }
 ],
 "metadata": {
  "kernelspec": {
   "display_name": "Python [conda env:tensorflow]",
   "language": "python",
   "name": "conda-env-tensorflow-py"
  },
  "language_info": {
   "codemirror_mode": {
    "name": "ipython",
    "version": 3
   },
   "file_extension": ".py",
   "mimetype": "text/x-python",
   "name": "python",
   "nbconvert_exporter": "python",
   "pygments_lexer": "ipython3",
   "version": "3.5.4"
  }
 },
 "nbformat": 4,
 "nbformat_minor": 2
}
