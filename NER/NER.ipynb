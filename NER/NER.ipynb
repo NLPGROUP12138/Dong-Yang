{
 "cells": [
  {
   "cell_type": "markdown",
   "metadata": {
    "collapsed": true
   },
   "source": [
    "# NER"
   ]
  },
  {
   "cell_type": "markdown",
   "metadata": {},
   "source": [
    "## NLTK"
   ]
  },
  {
   "cell_type": "code",
   "execution_count": 1,
   "metadata": {},
   "outputs": [],
   "source": [
    "import re\n",
    "import pandas as pd\n",
    "import nltk\n",
    "# nltk.download()"
   ]
  },
  {
   "cell_type": "code",
   "execution_count": 2,
   "metadata": {
    "collapsed": true
   },
   "outputs": [],
   "source": [
    "def parse_document(document):\n",
    "    document = re.sub('\\n', ' ', document)\n",
    "    # isinstance() 函数来判断一个对象是否是一个已知的类型，类似 type()。\n",
    "    # isinstance(object, classinfo)其中object -- 实例对象。classinfo -- 可以是直接或间接类名、基本类型或者由它们组成的元组。返回布尔值\n",
    "    if isinstance(document, str):\n",
    "        document = document\n",
    "    else:\n",
    "        raise ValueError('Document is not string!')\n",
    "    document = document.strip() # 去掉首尾的空格\n",
    "    sentences = nltk.sent_tokenize(document) # 按句子分割(返回一个句子列表)  nltk.word_tokenize(sentence) 分词\n",
    "    sentences = [sentence.strip() for sentence in sentences] # 把句子列表中的每个句子去掉首尾空格\n",
    "    return sentences # 句子列表(列表中的每个元素还是句子)"
   ]
  },
  {
   "cell_type": "code",
   "execution_count": 3,
   "metadata": {
    "collapsed": true
   },
   "outputs": [],
   "source": [
    "# sample document\n",
    "text = \"\"\"\n",
    "FIFA was founded in 1904 to oversee international competition among the national associations of Belgium, \n",
    "Denmark, France, Germany, the Netherlands, Spain, Sweden, and Switzerland. Headquartered in Zürich, its \n",
    "membership now comprises 211 national associations. Member countries must each also be members of one of \n",
    "the six regional confederations into which the world is divided: Africa, Asia, Europe, North & Central America \n",
    "and the Caribbean, Oceania, and South America.\n",
    "\"\"\""
   ]
  },
  {
   "cell_type": "code",
   "execution_count": 4,
   "metadata": {},
   "outputs": [
    {
     "data": {
      "text/plain": [
       "['FIFA was founded in 1904 to oversee international competition among the national associations of Belgium,  Denmark, France, Germany, the Netherlands, Spain, Sweden, and Switzerland.',\n",
       " 'Headquartered in Zürich, its  membership now comprises 211 national associations.',\n",
       " 'Member countries must each also be members of one of  the six regional confederations into which the world is divided: Africa, Asia, Europe, North & Central America  and the Caribbean, Oceania, and South America.']"
      ]
     },
     "execution_count": 4,
     "metadata": {},
     "output_type": "execute_result"
    }
   ],
   "source": [
    "# tokenize sentences\n",
    "# 每个句子为一个str类型\n",
    "sentences = parse_document(text)\n",
    "sentences"
   ]
  },
  {
   "cell_type": "code",
   "execution_count": 5,
   "metadata": {
    "scrolled": true
   },
   "outputs": [
    {
     "data": {
      "text/plain": [
       "['FIFA', 'was', 'founded', 'in', '1904']"
      ]
     },
     "execution_count": 5,
     "metadata": {},
     "output_type": "execute_result"
    }
   ],
   "source": [
    "# 分词，返回值为列表的列表，内层列表中的每个元素是每个句子的分词[[第一个句子的各个分词], [第二个句子的各个分词],'''''']\n",
    "tokenized_sentences = [nltk.word_tokenize(sentence) for sentence in sentences] \n",
    "tokenized_sentences[0][:5]"
   ]
  },
  {
   "cell_type": "code",
   "execution_count": 6,
   "metadata": {},
   "outputs": [
    {
     "data": {
      "text/plain": [
       "[[('FIFA', 'NNP'),\n",
       "  ('was', 'VBD'),\n",
       "  ('founded', 'VBN'),\n",
       "  ('in', 'IN'),\n",
       "  ('1904', 'CD'),\n",
       "  ('to', 'TO'),\n",
       "  ('oversee', 'VB'),\n",
       "  ('international', 'JJ'),\n",
       "  ('competition', 'NN'),\n",
       "  ('among', 'IN'),\n",
       "  ('the', 'DT'),\n",
       "  ('national', 'JJ'),\n",
       "  ('associations', 'NNS'),\n",
       "  ('of', 'IN'),\n",
       "  ('Belgium', 'NNP'),\n",
       "  (',', ','),\n",
       "  ('Denmark', 'NNP'),\n",
       "  (',', ','),\n",
       "  ('France', 'NNP'),\n",
       "  (',', ','),\n",
       "  ('Germany', 'NNP'),\n",
       "  (',', ','),\n",
       "  ('the', 'DT'),\n",
       "  ('Netherlands', 'NNP'),\n",
       "  (',', ','),\n",
       "  ('Spain', 'NNP'),\n",
       "  (',', ','),\n",
       "  ('Sweden', 'NNP'),\n",
       "  (',', ','),\n",
       "  ('and', 'CC'),\n",
       "  ('Switzerland', 'NNP'),\n",
       "  ('.', '.')],\n",
       " [('Headquartered', 'VBN'),\n",
       "  ('in', 'IN'),\n",
       "  ('Zürich', 'NNP'),\n",
       "  (',', ','),\n",
       "  ('its', 'PRP$'),\n",
       "  ('membership', 'NN'),\n",
       "  ('now', 'RB'),\n",
       "  ('comprises', 'VBZ'),\n",
       "  ('211', 'CD'),\n",
       "  ('national', 'JJ'),\n",
       "  ('associations', 'NNS'),\n",
       "  ('.', '.')],\n",
       " [('Member', 'NNP'),\n",
       "  ('countries', 'NNS'),\n",
       "  ('must', 'MD'),\n",
       "  ('each', 'DT'),\n",
       "  ('also', 'RB'),\n",
       "  ('be', 'VB'),\n",
       "  ('members', 'NNS'),\n",
       "  ('of', 'IN'),\n",
       "  ('one', 'CD'),\n",
       "  ('of', 'IN'),\n",
       "  ('the', 'DT'),\n",
       "  ('six', 'CD'),\n",
       "  ('regional', 'JJ'),\n",
       "  ('confederations', 'NNS'),\n",
       "  ('into', 'IN'),\n",
       "  ('which', 'WDT'),\n",
       "  ('the', 'DT'),\n",
       "  ('world', 'NN'),\n",
       "  ('is', 'VBZ'),\n",
       "  ('divided', 'VBN'),\n",
       "  (':', ':'),\n",
       "  ('Africa', 'NNP'),\n",
       "  (',', ','),\n",
       "  ('Asia', 'NNP'),\n",
       "  (',', ','),\n",
       "  ('Europe', 'NNP'),\n",
       "  (',', ','),\n",
       "  ('North', 'NNP'),\n",
       "  ('&', 'CC'),\n",
       "  ('Central', 'NNP'),\n",
       "  ('America', 'NNP'),\n",
       "  ('and', 'CC'),\n",
       "  ('the', 'DT'),\n",
       "  ('Caribbean', 'NNP'),\n",
       "  (',', ','),\n",
       "  ('Oceania', 'NNP'),\n",
       "  (',', ','),\n",
       "  ('and', 'CC'),\n",
       "  ('South', 'NNP'),\n",
       "  ('America', 'NNP'),\n",
       "  ('.', '.')]]"
      ]
     },
     "execution_count": 6,
     "metadata": {},
     "output_type": "execute_result"
    }
   ],
   "source": [
    "# 标记句子并使用nltk的NE块，返回值同分词返回值\n",
    "# 列表的列表，最内层元素为一个由分词和词性构成的元组，然后一个句子的所有分词及词性的元组构成一个小列表，每个句子的小列表构成一个大列表\n",
    "# pos_tag方法（part-of-speech tagging词性标注）\n",
    "tagged_sentences = [nltk.pos_tag(sentence) for sentence in tokenized_sentences]\n",
    "tagged_sentences"
   ]
  },
  {
   "cell_type": "code",
   "execution_count": 7,
   "metadata": {},
   "outputs": [
    {
     "data": {
      "text/plain": [
       "nltk.tree.Tree"
      ]
     },
     "execution_count": 7,
     "metadata": {},
     "output_type": "execute_result"
    },
    {
     "data": {
      "text/plain": [
       "[Tree('S', [Tree('ORGANIZATION', [('FIFA', 'NNP')]), ('was', 'VBD'), ('founded', 'VBN'), ('in', 'IN'), ('1904', 'CD'), ('to', 'TO'), ('oversee', 'VB'), ('international', 'JJ'), ('competition', 'NN'), ('among', 'IN'), ('the', 'DT'), ('national', 'JJ'), ('associations', 'NNS'), ('of', 'IN'), Tree('GPE', [('Belgium', 'NNP')]), (',', ','), Tree('GPE', [('Denmark', 'NNP')]), (',', ','), Tree('GPE', [('France', 'NNP')]), (',', ','), Tree('GPE', [('Germany', 'NNP')]), (',', ','), ('the', 'DT'), Tree('GPE', [('Netherlands', 'NNP')]), (',', ','), Tree('GPE', [('Spain', 'NNP')]), (',', ','), Tree('GPE', [('Sweden', 'NNP')]), (',', ','), ('and', 'CC'), Tree('GPE', [('Switzerland', 'NNP')]), ('.', '.')])]"
      ]
     },
     "execution_count": 7,
     "metadata": {},
     "output_type": "execute_result"
    }
   ],
   "source": [
    "ners = nltk.ne_chunk(tagged_sentences[0])\n",
    "type(ners)\n",
    "[ners]"
   ]
  },
  {
   "cell_type": "code",
   "execution_count": 8,
   "metadata": {},
   "outputs": [
    {
     "data": {
      "text/plain": [
       "3"
      ]
     },
     "execution_count": 8,
     "metadata": {},
     "output_type": "execute_result"
    },
    {
     "data": {
      "text/plain": [
       "[Tree('S', [Tree('ORGANIZATION', [('FIFA', 'NNP')]), ('was', 'VBD'), ('founded', 'VBN'), ('in', 'IN'), ('1904', 'CD'), ('to', 'TO'), ('oversee', 'VB'), ('international', 'JJ'), ('competition', 'NN'), ('among', 'IN'), ('the', 'DT'), ('national', 'JJ'), ('associations', 'NNS'), ('of', 'IN'), Tree('GPE', [('Belgium', 'NNP')]), (',', ','), Tree('GPE', [('Denmark', 'NNP')]), (',', ','), Tree('GPE', [('France', 'NNP')]), (',', ','), Tree('GPE', [('Germany', 'NNP')]), (',', ','), ('the', 'DT'), Tree('GPE', [('Netherlands', 'NNP')]), (',', ','), Tree('GPE', [('Spain', 'NNP')]), (',', ','), Tree('GPE', [('Sweden', 'NNP')]), (',', ','), ('and', 'CC'), Tree('GPE', [('Switzerland', 'NNP')]), ('.', '.')]),\n",
       " Tree('S', [('Headquartered', 'VBN'), ('in', 'IN'), Tree('GPE', [('Zürich', 'NNP')]), (',', ','), ('its', 'PRP$'), ('membership', 'NN'), ('now', 'RB'), ('comprises', 'VBZ'), ('211', 'CD'), ('national', 'JJ'), ('associations', 'NNS'), ('.', '.')]),\n",
       " Tree('S', [('Member', 'NNP'), ('countries', 'NNS'), ('must', 'MD'), ('each', 'DT'), ('also', 'RB'), ('be', 'VB'), ('members', 'NNS'), ('of', 'IN'), ('one', 'CD'), ('of', 'IN'), ('the', 'DT'), ('six', 'CD'), ('regional', 'JJ'), ('confederations', 'NNS'), ('into', 'IN'), ('which', 'WDT'), ('the', 'DT'), ('world', 'NN'), ('is', 'VBZ'), ('divided', 'VBN'), (':', ':'), Tree('PERSON', [('Africa', 'NNP')]), (',', ','), Tree('GPE', [('Asia', 'NNP')]), (',', ','), Tree('GPE', [('Europe', 'NNP')]), (',', ','), Tree('GPE', [('North', 'NNP')]), ('&', 'CC'), Tree('ORGANIZATION', [('Central', 'NNP'), ('America', 'NNP')]), ('and', 'CC'), ('the', 'DT'), Tree('LOCATION', [('Caribbean', 'NNP')]), (',', ','), Tree('GPE', [('Oceania', 'NNP')]), (',', ','), ('and', 'CC'), Tree('GPE', [('South', 'NNP'), ('America', 'NNP')]), ('.', '.')])]"
      ]
     },
     "execution_count": 8,
     "metadata": {},
     "output_type": "execute_result"
    }
   ],
   "source": [
    "# tags是句子词性标注后的结果，同样是句子级\n",
    "ne_chunked_sents = [nltk.ne_chunk(tagged) for tagged in tagged_sentences] \n",
    "# 三个句子对应三棵树\n",
    "len(ne_chunked_sents)\n",
    "ne_chunked_sents"
   ]
  },
  {
   "cell_type": "code",
   "execution_count": 9,
   "metadata": {},
   "outputs": [
    {
     "data": {
      "text/plain": [
       "list"
      ]
     },
     "execution_count": 9,
     "metadata": {},
     "output_type": "execute_result"
    },
    {
     "data": {
      "text/plain": [
       "nltk.tree.Tree"
      ]
     },
     "execution_count": 9,
     "metadata": {},
     "output_type": "execute_result"
    },
    {
     "data": {
      "text/plain": [
       "nltk.tree.Tree"
      ]
     },
     "execution_count": 9,
     "metadata": {},
     "output_type": "execute_result"
    },
    {
     "data": {
      "text/plain": [
       "True"
      ]
     },
     "execution_count": 9,
     "metadata": {},
     "output_type": "execute_result"
    }
   ],
   "source": [
    "type(ne_chunked_sents)\n",
    "type(ne_chunked_sents[0])\n",
    "type(ne_chunked_sents[0][0])\n",
    "hasattr(ne_chunked_sents[0][14], 'label')"
   ]
  },
  {
   "cell_type": "code",
   "execution_count": 10,
   "metadata": {},
   "outputs": [
    {
     "data": {
      "text/plain": [
       "False"
      ]
     },
     "execution_count": 10,
     "metadata": {},
     "output_type": "execute_result"
    }
   ],
   "source": [
    "x = ('GPE', [('B', 'C')])\n",
    "hasattr(x, 'label')"
   ]
  },
  {
   "cell_type": "code",
   "execution_count": 11,
   "metadata": {
    "collapsed": true
   },
   "outputs": [],
   "source": [
    "# 提取所有NE\n",
    "named_entities = []\n",
    "for ne_tagged_sentence in ne_chunked_sents:    \n",
    "    for tagged_tree in ne_tagged_sentence:\n",
    "        # print(type(tagged_tree))\n",
    "        # 只有('ORGANIZATION', [('FIFA', 'NNP')])这种类型才可以提取NE标签\n",
    "        if hasattr(tagged_tree, 'label'): # hasattr() 函数用于判断对象是否包含对应的属性\n",
    "            # hasattr(object, name) object--对象    name--字符串，属性名\n",
    "            entity_name = ' '.join(c[0] for c in tagged_tree.leaves()) \n",
    "            # ()内返回一个元组，比如第一次为('FIFA', 'NNP')，经过 ' '.join(tuple) 后变成str，通过leaves()得到NE的名字\n",
    "            entity_type = tagged_tree.label() # 通过label()得到NE的类别 \n",
    "            named_entities.append((entity_name, entity_type)) # 把(NE名字,NE类别)组成的元组作为元素添加到named_entities列表中\n",
    "            # 删除列表中重复的元素，得到最终的NE列表\n",
    "            named_entities = list(set(named_entities))\n",
    "# ne_chunked_sents[0][0].leaves()[0] # NE的类别 \n",
    "# ne_chunked_sents[0][0].label() # NE的名字\n",
    "# type(entity_name) \n",
    "# named_entities # 最终的NE列表"
   ]
  },
  {
   "cell_type": "code",
   "execution_count": 12,
   "metadata": {},
   "outputs": [
    {
     "name": "stdout",
     "output_type": "stream",
     "text": [
      "        Entity Name   Entity Type\n",
      "0   Central America  ORGANIZATION\n",
      "1           Germany           GPE\n",
      "2            Sweden           GPE\n",
      "3         Caribbean      LOCATION\n",
      "4       Netherlands           GPE\n",
      "5             Spain           GPE\n",
      "6           Oceania           GPE\n",
      "7            France           GPE\n",
      "8           Belgium           GPE\n",
      "9              FIFA  ORGANIZATION\n",
      "10           Zürich           GPE\n",
      "11           Europe           GPE\n",
      "12    South America           GPE\n",
      "13             Asia           GPE\n",
      "14            North           GPE\n",
      "15      Switzerland           GPE\n",
      "16          Denmark           GPE\n",
      "17           Africa        PERSON\n"
     ]
    }
   ],
   "source": [
    "# 将NE存储在DataFrame中(list转化成Dataframe)\n",
    "entity_frame = pd.DataFrame(named_entities, columns=['Entity Name', 'Entity Type'])\n",
    "# display results\n",
    "print(entity_frame)"
   ]
  },
  {
   "cell_type": "markdown",
   "metadata": {},
   "source": [
    "## Stanford NER"
   ]
  },
  {
   "cell_type": "code",
   "execution_count": 13,
   "metadata": {
    "collapsed": true
   },
   "outputs": [],
   "source": [
    "import re\n",
    "from nltk.tag import StanfordNERTagger\n",
    "import os\n",
    "import pandas as pd\n",
    "import nltk"
   ]
  },
  {
   "cell_type": "code",
   "execution_count": 14,
   "metadata": {
    "collapsed": true
   },
   "outputs": [],
   "source": [
    "def parse_document(document):\n",
    "   document = re.sub('\\n', ' ', document)\n",
    "   if isinstance(document, str):\n",
    "       document = document\n",
    "   else:\n",
    "       raise ValueError('Document is not string!')\n",
    "   document = document.strip()\n",
    "   sentences = nltk.sent_tokenize(document)\n",
    "   sentences = [sentence.strip() for sentence in sentences]\n",
    "   return sentences"
   ]
  },
  {
   "cell_type": "code",
   "execution_count": 15,
   "metadata": {
    "collapsed": true
   },
   "outputs": [],
   "source": [
    "# sample document\n",
    "text = \"\"\"\n",
    "FIFA was founded in 1904 to oversee international competition among the national associations of Belgium, \n",
    "Denmark, France, Germany, the Netherlands, Spain, Sweden, and Switzerland. Headquartered in Zürich, its \n",
    "membership now comprises 211 national associations. Member countries must each also be members of one of \n",
    "the six regional confederations into which the world is divided: Africa, Asia, Europe, North & Central America \n",
    "and the Caribbean, Oceania, and South America.\n",
    "\"\"\""
   ]
  },
  {
   "cell_type": "code",
   "execution_count": 16,
   "metadata": {
    "collapsed": true
   },
   "outputs": [],
   "source": [
    "sentences = parse_document(text)\n",
    "tokenized_sentences = [nltk.word_tokenize(sentence) for sentence in sentences]"
   ]
  },
  {
   "cell_type": "code",
   "execution_count": 17,
   "metadata": {
    "collapsed": true
   },
   "outputs": [],
   "source": [
    "# set java path in environment variables\n",
    "java_path = r'E:\\jdk\\bin\\java.exe'\n",
    "os.environ['JAVAHOME'] = java_path\n",
    "# load stanford NER\n",
    "sn = StanfordNERTagger('E://stanford-ner-2018-10-16/classifiers/english.muc.7class.distsim.crf.ser.gz',\n",
    "                       path_to_jar='E://stanford-ner-2018-10-16/stanford-ner.jar')"
   ]
  },
  {
   "cell_type": "code",
   "execution_count": 18,
   "metadata": {
    "collapsed": true
   },
   "outputs": [],
   "source": [
    "# type(sn.tag(tokenized_sentences[0]))\n",
    "# sn.tag(tokenized_sentences[0])"
   ]
  },
  {
   "cell_type": "code",
   "execution_count": 19,
   "metadata": {},
   "outputs": [
    {
     "data": {
      "text/plain": [
       "'ORGANIZATION'"
      ]
     },
     "execution_count": 19,
     "metadata": {},
     "output_type": "execute_result"
    }
   ],
   "source": [
    "# tag sentences\n",
    "# 区别于NLTK的是Stanford NER把每个词都进行标注，非NE标注O表示Other\n",
    "ne_annotated_sentences = [sn.tag(sent) for sent in tokenized_sentences]\n",
    "# 返回值为[[(('FIFA', 'ORGANIZATION'),('was', 'O'),...)],[]...]\n",
    "# 最内层是一个元组(分词，NE类别),一个小列表由一句话所有词的元组构成，每句话构成一个小列表作为大列表的一个元素\n",
    "ne_annotated_sentences[0][0][1]"
   ]
  },
  {
   "cell_type": "code",
   "execution_count": 20,
   "metadata": {
    "collapsed": true
   },
   "outputs": [],
   "source": [
    "# extract named entities\n",
    "named_entities = []\n",
    "for sentence in ne_annotated_sentences:\n",
    "    temp_entity_name = ''\n",
    "    temp_named_entity = None\n",
    "    for term, tag in sentence: # term相当于元组中的第一个元素即NE名称，tag相当于元组中的第二个元素即NE类型\n",
    "        # print(term)\n",
    "        # print(tag)\n",
    "        # get terms with NE tags\n",
    "        if tag != 'O': # 如果NE类型不是Other(选择正确NE类型)\n",
    "            temp_entity_name = ' '.join([temp_entity_name, term]).strip() # 得到NE名字\n",
    "            temp_named_entity = (temp_entity_name, tag) # 得到(NE名字,NE类别)元组\n",
    "        else:\n",
    "            if temp_named_entity:\n",
    "                named_entities.append(temp_named_entity)\n",
    "                temp_entity_name = ''\n",
    "                temp_named_entity = None"
   ]
  },
  {
   "cell_type": "code",
   "execution_count": 21,
   "metadata": {},
   "outputs": [
    {
     "name": "stdout",
     "output_type": "stream",
     "text": [
      "                Entity Name   Entity Type\n",
      "0                   Denmark      LOCATION\n",
      "1                    France      LOCATION\n",
      "2                    Europe      LOCATION\n",
      "3                   Oceania      LOCATION\n",
      "4                   Germany      LOCATION\n",
      "5           the Netherlands      LOCATION\n",
      "6                      Asia      LOCATION\n",
      "7                 Caribbean      LOCATION\n",
      "8                    Zürich      LOCATION\n",
      "9                      FIFA  ORGANIZATION\n",
      "10  North & Central America  ORGANIZATION\n",
      "11            South America      LOCATION\n",
      "12                   Sweden      LOCATION\n",
      "13                     1904          DATE\n",
      "14                    Spain      LOCATION\n",
      "15              Switzerland      LOCATION\n",
      "16                  Belgium      LOCATION\n",
      "17                   Africa      LOCATION\n"
     ]
    }
   ],
   "source": [
    "# get unique named entities\n",
    "named_entities = list(set(named_entities))\n",
    "# store named entities in a data frame\n",
    "entity_frame = pd.DataFrame(named_entities, columns=['Entity Name', 'Entity Type'])\n",
    "# display results\n",
    "print(entity_frame)"
   ]
  },
  {
   "cell_type": "code",
   "execution_count": null,
   "metadata": {
    "collapsed": true
   },
   "outputs": [],
   "source": []
  }
 ],
 "metadata": {
  "kernelspec": {
   "display_name": "Python [conda root]",
   "language": "python",
   "name": "conda-root-py"
  },
  "language_info": {
   "codemirror_mode": {
    "name": "ipython",
    "version": 3
   },
   "file_extension": ".py",
   "mimetype": "text/x-python",
   "name": "python",
   "nbconvert_exporter": "python",
   "pygments_lexer": "ipython3",
   "version": "3.5.6"
  }
 },
 "nbformat": 4,
 "nbformat_minor": 2
}
