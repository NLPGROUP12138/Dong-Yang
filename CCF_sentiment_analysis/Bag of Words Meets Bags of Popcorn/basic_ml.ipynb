{
 "cells": [
  {
   "cell_type": "markdown",
   "metadata": {},
   "source": [
    "**Reading the Data**"
   ]
  },
  {
   "cell_type": "markdown",
   "metadata": {},
   "source": [
    "必要的文件可以从数据页下载。您需要的第一个文件是unlabeledTrainData，它包含25,000条IMDB电影评论，每个评论都带有正面或负面的情绪标签。\n",
    "\n",
    "\n",
    "接下来，将以制表符分隔的文件读入Python。为此，我们可以使用在Titanic教程中介绍的panda包，它提供了read_csv函数，可以方便地读写数据文件。如果您以前没有使用过panda，您可能需要安装它。\n"
   ]
  },
  {
   "cell_type": "code",
   "execution_count": 1,
   "metadata": {
    "collapsed": true
   },
   "outputs": [],
   "source": [
    "# Import the pandas package, then use the \"read_csv\" function to read\n",
    "# the labeled training data\n",
    "import pandas as pd"
   ]
  },
  {
   "cell_type": "code",
   "execution_count": 2,
   "metadata": {
    "collapsed": true
   },
   "outputs": [],
   "source": [
    "train = pd.read_csv(\"labeledTrainData.tsv\", header=0, delimiter=\"\\t\", quoting=3)"
   ]
  },
  {
   "cell_type": "markdown",
   "metadata": {},
   "source": [
    "这里，“header=0”表示文件的第一行包含列名，“delimiter=\\t”表示字段由制表符分隔，quoting=3告诉Python忽略双引号，否则在读取文件时可能会遇到错误。\n",
    "\n",
    "\n",
    "我们可以确保阅读25,000行和3列如下:"
   ]
  },
  {
   "cell_type": "code",
   "execution_count": 3,
   "metadata": {
    "collapsed": false
   },
   "outputs": [
    {
     "data": {
      "text/plain": [
       "(25000, 3)"
      ]
     },
     "execution_count": 3,
     "metadata": {},
     "output_type": "execute_result"
    }
   ],
   "source": [
    "train.shape"
   ]
  },
  {
   "cell_type": "code",
   "execution_count": 4,
   "metadata": {
    "collapsed": false
   },
   "outputs": [
    {
     "data": {
      "text/plain": [
       "array(['id', 'sentiment', 'review'], dtype=object)"
      ]
     },
     "execution_count": 4,
     "metadata": {},
     "output_type": "execute_result"
    }
   ],
   "source": [
    "train.columns.values"
   ]
  },
  {
   "cell_type": "markdown",
   "metadata": {},
   "source": [
    "这三列分别称为“id”、“sentiment”和“array”。现在你已经读入了训练集，看看一些评论:"
   ]
  },
  {
   "cell_type": "code",
   "execution_count": 5,
   "metadata": {
    "collapsed": false
   },
   "outputs": [
    {
     "name": "stdout",
     "output_type": "stream",
     "text": [
      "\"With all this stuff going down at the moment with MJ i've started listening to his music, watching the odd documentary here and there, watched The Wiz and watched Moonwalker again. Maybe i just want to get a certain insight into this guy who i thought was really cool in the eighties just to maybe make up my mind whether he is guilty or innocent. Moonwalker is part biography, part feature film which i remember going to see at the cinema when it was originally released. Some of it has subtle messages about MJ's feeling towards the press and also the obvious message of drugs are bad m'kay.<br /><br />Visually impressive but of course this is all about Michael Jackson so unless you remotely like MJ in anyway then you are going to hate this and find it boring. Some may call MJ an egotist for consenting to the making of this movie BUT MJ and most of his fans would say that he made it for the fans which if true is really nice of him.<br /><br />The actual feature film bit when it finally starts is only on for 20 minutes or so excluding the Smooth Criminal sequence and Joe Pesci is convincing as a psychopathic all powerful drug lord. Why he wants MJ dead so bad is beyond me. Because MJ overheard his plans? Nah, Joe Pesci's character ranted that he wanted people to know it is he who is supplying drugs etc so i dunno, maybe he just hates MJ's music.<br /><br />Lots of cool things in this like MJ turning into a car and a robot and the whole Speed Demon sequence. Also, the director must have had the patience of a saint when it came to filming the kiddy Bad sequence as usually directors hate working with one kid let alone a whole bunch of them performing a complex dance scene.<br /><br />Bottom line, this movie is for people who like MJ on one level or another (which i think is most people). If not, then stay away. It does try and give off a wholesome message and ironically MJ's bestest buddy in this movie is a girl! Michael Jackson is truly one of the most talented people ever to grace this planet but is he guilty? Well, with all the attention i've gave this subject....hmmm well i don't know because people can be different behind closed doors, i know this for a fact. He is either an extremely nice but stupid guy or one of the most sickest liars. I hope he is not the latter.\"\n"
     ]
    }
   ],
   "source": [
    "print (train[\"review\"][0]) #打印训练集review列第一个值"
   ]
  },
  {
   "cell_type": "markdown",
   "metadata": {},
   "source": [
    "有一些HTML标签，比如\"\n",
    "\n",
    "、缩写、标点符号——这些都是处理网上文本时的常见问题。当你在学习的时候，花点时间看看训练集中的其他评论——下一节将讨论如何整理机器学习的文本。"
   ]
  },
  {
   "cell_type": "markdown",
   "metadata": {},
   "source": [
    "**Data Cleaning and Text Preprocessing**"
   ]
  },
  {
   "cell_type": "markdown",
   "metadata": {},
   "source": [
    "删除HTML标记:BeautifulSoup包\n",
    "\n",
    "\n",
    "首先，我们将删除HTML标记。为此，我们将使用Beautiful Soup库。安装:"
   ]
  },
  {
   "cell_type": "markdown",
   "metadata": {},
   "source": [
    "$ sudo pip install BeautifulSoup4"
   ]
  },
  {
   "cell_type": "markdown",
   "metadata": {},
   "source": [
    "从命令行(不是从Python内部)。然后，从Python内部，加载包，并使用它来提取文本的审查:"
   ]
  },
  {
   "cell_type": "code",
   "execution_count": 6,
   "metadata": {
    "collapsed": true
   },
   "outputs": [],
   "source": [
    "# Import BeautifulSoup into your workspace\n",
    "from bs4 import BeautifulSoup     "
   ]
  },
  {
   "cell_type": "code",
   "execution_count": 7,
   "metadata": {
    "collapsed": true
   },
   "outputs": [],
   "source": [
    "# Initialize the BeautifulSoup object on a single movie review     \n",
    "example1 = BeautifulSoup(train[\"review\"][0])  "
   ]
  },
  {
   "cell_type": "code",
   "execution_count": 8,
   "metadata": {
    "collapsed": false
   },
   "outputs": [
    {
     "name": "stdout",
     "output_type": "stream",
     "text": [
      "\"With all this stuff going down at the moment with MJ i've started listening to his music, watching the odd documentary here and there, watched The Wiz and watched Moonwalker again. Maybe i just want to get a certain insight into this guy who i thought was really cool in the eighties just to maybe make up my mind whether he is guilty or innocent. Moonwalker is part biography, part feature film which i remember going to see at the cinema when it was originally released. Some of it has subtle messages about MJ's feeling towards the press and also the obvious message of drugs are bad m'kay.<br /><br />Visually impressive but of course this is all about Michael Jackson so unless you remotely like MJ in anyway then you are going to hate this and find it boring. Some may call MJ an egotist for consenting to the making of this movie BUT MJ and most of his fans would say that he made it for the fans which if true is really nice of him.<br /><br />The actual feature film bit when it finally starts is only on for 20 minutes or so excluding the Smooth Criminal sequence and Joe Pesci is convincing as a psychopathic all powerful drug lord. Why he wants MJ dead so bad is beyond me. Because MJ overheard his plans? Nah, Joe Pesci's character ranted that he wanted people to know it is he who is supplying drugs etc so i dunno, maybe he just hates MJ's music.<br /><br />Lots of cool things in this like MJ turning into a car and a robot and the whole Speed Demon sequence. Also, the director must have had the patience of a saint when it came to filming the kiddy Bad sequence as usually directors hate working with one kid let alone a whole bunch of them performing a complex dance scene.<br /><br />Bottom line, this movie is for people who like MJ on one level or another (which i think is most people). If not, then stay away. It does try and give off a wholesome message and ironically MJ's bestest buddy in this movie is a girl! Michael Jackson is truly one of the most talented people ever to grace this planet but is he guilty? Well, with all the attention i've gave this subject....hmmm well i don't know because people can be different behind closed doors, i know this for a fact. He is either an extremely nice but stupid guy or one of the most sickest liars. I hope he is not the latter.\"\n",
      "\"With all this stuff going down at the moment with MJ i've started listening to his music, watching the odd documentary here and there, watched The Wiz and watched Moonwalker again. Maybe i just want to get a certain insight into this guy who i thought was really cool in the eighties just to maybe make up my mind whether he is guilty or innocent. Moonwalker is part biography, part feature film which i remember going to see at the cinema when it was originally released. Some of it has subtle messages about MJ's feeling towards the press and also the obvious message of drugs are bad m'kay.Visually impressive but of course this is all about Michael Jackson so unless you remotely like MJ in anyway then you are going to hate this and find it boring. Some may call MJ an egotist for consenting to the making of this movie BUT MJ and most of his fans would say that he made it for the fans which if true is really nice of him.The actual feature film bit when it finally starts is only on for 20 minutes or so excluding the Smooth Criminal sequence and Joe Pesci is convincing as a psychopathic all powerful drug lord. Why he wants MJ dead so bad is beyond me. Because MJ overheard his plans? Nah, Joe Pesci's character ranted that he wanted people to know it is he who is supplying drugs etc so i dunno, maybe he just hates MJ's music.Lots of cool things in this like MJ turning into a car and a robot and the whole Speed Demon sequence. Also, the director must have had the patience of a saint when it came to filming the kiddy Bad sequence as usually directors hate working with one kid let alone a whole bunch of them performing a complex dance scene.Bottom line, this movie is for people who like MJ on one level or another (which i think is most people). If not, then stay away. It does try and give off a wholesome message and ironically MJ's bestest buddy in this movie is a girl! Michael Jackson is truly one of the most talented people ever to grace this planet but is he guilty? Well, with all the attention i've gave this subject....hmmm well i don't know because people can be different behind closed doors, i know this for a fact. He is either an extremely nice but stupid guy or one of the most sickest liars. I hope he is not the latter.\"\n"
     ]
    }
   ],
   "source": [
    "# Print the raw review and then the output of get_text(), for \n",
    "# comparison\n",
    "print(train[\"review\"][0])\n",
    "print(example1.get_text())"
   ]
  },
  {
   "cell_type": "markdown",
   "metadata": {},
   "source": [
    "调用get_text()将给出评审的文本，不包含标记或标记。如果您浏览BeautifulSoup文档，您将看到它是一个非常强大的库——比我们需要的这个数据集更强大。然而，使用正则表达式删除标记被认为是不可靠的实践，所以即使对于这样简单的应用程序，通常最好使用像BeautifulSoup这样的包。\n",
    "\n",
    "处理标点符号、数字和句号:NLTK和正则表达式\n",
    "\n",
    "\n",
    "在考虑如何清理文本时，我们应该考虑要解决的数据问题。对于许多问题，去掉标点符号是有意义的。另一方面，在本例中，我们正在处理一个情感分析问题，“!!”或“:-(”可能携带情感，并且应该被视为单词。在本教程中，为了简单起见，我们删除了所有的标点符号，但是您可以自己使用它。\n",
    "\n",
    "\n",
    "类似地，在本教程中，我们将删除数字，但是还有其他同样有意义的处理数字的方法。例如，我们可以将它们视为单词，或者将它们全部替换为占位符字符串，如“NUM”。\n",
    "\n",
    "\n",
    "为了去掉标点符号和数字，我们将使用一个名为re的包来处理正则表达式。不需要安装任何东西。有关正则表达式如何工作的详细描述，请参阅包文档。现在，试试以下方法:"
   ]
  },
  {
   "cell_type": "code",
   "execution_count": 9,
   "metadata": {
    "collapsed": false
   },
   "outputs": [
    {
     "name": "stdout",
     "output_type": "stream",
     "text": [
      " With all this stuff going down at the moment with MJ i ve started listening to his music  watching the odd documentary here and there  watched The Wiz and watched Moonwalker again  Maybe i just want to get a certain insight into this guy who i thought was really cool in the eighties just to maybe make up my mind whether he is guilty or innocent  Moonwalker is part biography  part feature film which i remember going to see at the cinema when it was originally released  Some of it has subtle messages about MJ s feeling towards the press and also the obvious message of drugs are bad m kay Visually impressive but of course this is all about Michael Jackson so unless you remotely like MJ in anyway then you are going to hate this and find it boring  Some may call MJ an egotist for consenting to the making of this movie BUT MJ and most of his fans would say that he made it for the fans which if true is really nice of him The actual feature film bit when it finally starts is only on for    minutes or so excluding the Smooth Criminal sequence and Joe Pesci is convincing as a psychopathic all powerful drug lord  Why he wants MJ dead so bad is beyond me  Because MJ overheard his plans  Nah  Joe Pesci s character ranted that he wanted people to know it is he who is supplying drugs etc so i dunno  maybe he just hates MJ s music Lots of cool things in this like MJ turning into a car and a robot and the whole Speed Demon sequence  Also  the director must have had the patience of a saint when it came to filming the kiddy Bad sequence as usually directors hate working with one kid let alone a whole bunch of them performing a complex dance scene Bottom line  this movie is for people who like MJ on one level or another  which i think is most people   If not  then stay away  It does try and give off a wholesome message and ironically MJ s bestest buddy in this movie is a girl  Michael Jackson is truly one of the most talented people ever to grace this planet but is he guilty  Well  with all the attention i ve gave this subject    hmmm well i don t know because people can be different behind closed doors  i know this for a fact  He is either an extremely nice but stupid guy or one of the most sickest liars  I hope he is not the latter  \n"
     ]
    }
   ],
   "source": [
    "import re\n",
    "# Use regular expressions to do a find-and-replace\n",
    "letters_only = re.sub(\"[^a-zA-Z]\",           # The pattern to search for只要不是a-zA-Z的\n",
    "                      \" \",                   # The pattern to replace it with 使用空格代替\n",
    "                      example1.get_text() )  # The text to search 要操作的文本\n",
    "print (letters_only)"
   ]
  },
  {
   "cell_type": "markdown",
   "metadata": {},
   "source": [
    "对正则表达式的全面概述超出了本教程的范围，但是现在只要知道[]表示组成员关系，^表示“不”就足够了。换句话说，上面的re.sub()语句表示，“查找任何不是小写字母(a-z)或大写字母(a-z)的内容，并用空格替换它。”\n",
    "\n",
    "\n",
    "我们还将把我们的评论转换成小写的，并把它们分成单独的单词(在NLP行话中称为“tokenization”):"
   ]
  },
  {
   "cell_type": "code",
   "execution_count": 10,
   "metadata": {
    "collapsed": true
   },
   "outputs": [],
   "source": [
    "lower_case = letters_only.lower()        # Convert to lower case\n",
    "words = lower_case.split()               # Split into words"
   ]
  },
  {
   "cell_type": "markdown",
   "metadata": {},
   "source": [
    "最后，我们需要决定如何处理频繁出现的不太有意义的单词。这些词被称为“停止词”;在英语中，它们包括“a”、“and”、“is”和“the”等单词。很方便的是，有一些Python包内建了停止单词列表。让我们从Python自然语言工具包(NLTK)导入一个停止单词列表。如果你的电脑上还没有这个库，你需要安装它;你还需要安装与之配套的数据包，如下:"
   ]
  },
  {
   "cell_type": "code",
   "execution_count": 11,
   "metadata": {
    "collapsed": true
   },
   "outputs": [],
   "source": [
    "# import nltk\n",
    "# nltk.download()  # Download text data sets, including stop words"
   ]
  },
  {
   "cell_type": "markdown",
   "metadata": {},
   "source": [
    "现在我们可以使用nltk来获得一个停止单词列表:"
   ]
  },
  {
   "cell_type": "code",
   "execution_count": 12,
   "metadata": {
    "collapsed": false
   },
   "outputs": [
    {
     "name": "stdout",
     "output_type": "stream",
     "text": [
      "['i', 'me', 'my', 'myself', 'we', 'our', 'ours', 'ourselves', 'you', \"you're\", \"you've\", \"you'll\", \"you'd\", 'your', 'yours', 'yourself', 'yourselves', 'he', 'him', 'his', 'himself', 'she', \"she's\", 'her', 'hers', 'herself', 'it', \"it's\", 'its', 'itself', 'they', 'them', 'their', 'theirs', 'themselves', 'what', 'which', 'who', 'whom', 'this', 'that', \"that'll\", 'these', 'those', 'am', 'is', 'are', 'was', 'were', 'be', 'been', 'being', 'have', 'has', 'had', 'having', 'do', 'does', 'did', 'doing', 'a', 'an', 'the', 'and', 'but', 'if', 'or', 'because', 'as', 'until', 'while', 'of', 'at', 'by', 'for', 'with', 'about', 'against', 'between', 'into', 'through', 'during', 'before', 'after', 'above', 'below', 'to', 'from', 'up', 'down', 'in', 'out', 'on', 'off', 'over', 'under', 'again', 'further', 'then', 'once', 'here', 'there', 'when', 'where', 'why', 'how', 'all', 'any', 'both', 'each', 'few', 'more', 'most', 'other', 'some', 'such', 'no', 'nor', 'not', 'only', 'own', 'same', 'so', 'than', 'too', 'very', 's', 't', 'can', 'will', 'just', 'don', \"don't\", 'should', \"should've\", 'now', 'd', 'll', 'm', 'o', 're', 've', 'y', 'ain', 'aren', \"aren't\", 'couldn', \"couldn't\", 'didn', \"didn't\", 'doesn', \"doesn't\", 'hadn', \"hadn't\", 'hasn', \"hasn't\", 'haven', \"haven't\", 'isn', \"isn't\", 'ma', 'mightn', \"mightn't\", 'mustn', \"mustn't\", 'needn', \"needn't\", 'shan', \"shan't\", 'shouldn', \"shouldn't\", 'wasn', \"wasn't\", 'weren', \"weren't\", 'won', \"won't\", 'wouldn', \"wouldn't\"]\n"
     ]
    }
   ],
   "source": [
    "from nltk.corpus import stopwords # Import the stopword list\n",
    "print(stopwords.words(\"english\"))"
   ]
  },
  {
   "cell_type": "markdown",
   "metadata": {
    "collapsed": true
   },
   "source": [
    "这将允许您查看英语停止词的列表。要删除我们的电影评论中的停止词，请执行以下步骤:"
   ]
  },
  {
   "cell_type": "code",
   "execution_count": 13,
   "metadata": {
    "collapsed": false
   },
   "outputs": [
    {
     "name": "stdout",
     "output_type": "stream",
     "text": [
      "['stuff', 'going', 'moment', 'mj', 'started', 'listening', 'music', 'watching', 'odd', 'documentary', 'watched', 'wiz', 'watched', 'moonwalker', 'maybe', 'want', 'get', 'certain', 'insight', 'guy', 'thought', 'really', 'cool', 'eighties', 'maybe', 'make', 'mind', 'whether', 'guilty', 'innocent', 'moonwalker', 'part', 'biography', 'part', 'feature', 'film', 'remember', 'going', 'see', 'cinema', 'originally', 'released', 'subtle', 'messages', 'mj', 'feeling', 'towards', 'press', 'also', 'obvious', 'message', 'drugs', 'bad', 'kay', 'visually', 'impressive', 'course', 'michael', 'jackson', 'unless', 'remotely', 'like', 'mj', 'anyway', 'going', 'hate', 'find', 'boring', 'may', 'call', 'mj', 'egotist', 'consenting', 'making', 'movie', 'mj', 'fans', 'would', 'say', 'made', 'fans', 'true', 'really', 'nice', 'actual', 'feature', 'film', 'bit', 'finally', 'starts', 'minutes', 'excluding', 'smooth', 'criminal', 'sequence', 'joe', 'pesci', 'convincing', 'psychopathic', 'powerful', 'drug', 'lord', 'wants', 'mj', 'dead', 'bad', 'beyond', 'mj', 'overheard', 'plans', 'nah', 'joe', 'pesci', 'character', 'ranted', 'wanted', 'people', 'know', 'supplying', 'drugs', 'etc', 'dunno', 'maybe', 'hates', 'mj', 'music', 'lots', 'cool', 'things', 'like', 'mj', 'turning', 'car', 'robot', 'whole', 'speed', 'demon', 'sequence', 'also', 'director', 'must', 'patience', 'saint', 'came', 'filming', 'kiddy', 'bad', 'sequence', 'usually', 'directors', 'hate', 'working', 'one', 'kid', 'let', 'alone', 'whole', 'bunch', 'performing', 'complex', 'dance', 'scene', 'bottom', 'line', 'movie', 'people', 'like', 'mj', 'one', 'level', 'another', 'think', 'people', 'stay', 'away', 'try', 'give', 'wholesome', 'message', 'ironically', 'mj', 'bestest', 'buddy', 'movie', 'girl', 'michael', 'jackson', 'truly', 'one', 'talented', 'people', 'ever', 'grace', 'planet', 'guilty', 'well', 'attention', 'gave', 'subject', 'hmmm', 'well', 'know', 'people', 'different', 'behind', 'closed', 'doors', 'know', 'fact', 'either', 'extremely', 'nice', 'stupid', 'guy', 'one', 'sickest', 'liars', 'hope', 'latter']\n"
     ]
    }
   ],
   "source": [
    "# Remove stop words from \"words\"\n",
    "words = [w for w in words if not w in stopwords.words(\"english\")]\n",
    "print(words)"
   ]
  },
  {
   "cell_type": "markdown",
   "metadata": {},
   "source": [
    "它查看我们的“单词”列表中的每个单词，并丢弃在停止单词列表中找到的任何单词。在所有这些步骤之后，您的审查现在应该这样开始:\n",
    "    \n",
    "我们可以对数据做许多其他的事情——例如，Porter词干分析和Lemmatizing(在NLTK中都可用)将允许我们把“messages”、“message”和“messaging”当作同一个单词，这肯定是有用的。然而，为了简单起见，本教程将在此结束。\n",
    "\n",
    "把它们放在一起\n",
    "\n",
    "\n",
    "现在我们有代码来清理一个评审—但是我们需要清理25,000个培训评审!为了使我们的代码可重用，让我们创建一个可以多次调用的函数:"
   ]
  },
  {
   "cell_type": "code",
   "execution_count": 14,
   "metadata": {
    "collapsed": true
   },
   "outputs": [],
   "source": [
    "def review_to_words(raw_review ):\n",
    "    # Function to convert a raw review to a string of words\n",
    "    # The input is a single string (a raw movie review), and \n",
    "    # the output is a single string (a preprocessed movie review)\n",
    "    #\n",
    "    # 1. Remove HTML\n",
    "    review_text = BeautifulSoup(raw_review).get_text() \n",
    "    #\n",
    "    # 2. Remove non-letters        \n",
    "    letters_only = re.sub(\"[^a-zA-Z]\", \" \", review_text) \n",
    "    #\n",
    "    # 3. Convert to lower case, split into individual words\n",
    "    words = letters_only.lower().split()                             \n",
    "    #\n",
    "    # 4. In Python, searching a set is much faster than searching #搜索集合比搜索列表更快\n",
    "    #   a list, so convert the stop words to a set\n",
    "    stops = set(stopwords.words(\"english\"))                  \n",
    "    # \n",
    "    # 5. Remove stop words\n",
    "    meaningful_words = [w for w in words if not w in stops]   \n",
    "    #\n",
    "    # 6. Join the words back into one string separated by space, 将单词连接成一个用空格隔开的字符串\n",
    "    # and return the result.\n",
    "    return( \" \".join( meaningful_words ))   "
   ]
  },
  {
   "cell_type": "markdown",
   "metadata": {},
   "source": [
    "这里有两个新元素:首先，我们将stopwords列表转换为另一种数据类型set。因为我们将会调用这个函数成千上万次，所以它需要更快，而且在Python中搜索集合比搜索列表要快得多。\n",
    "\n",
    "\n",
    "第二，我们把这些词重新组合成一段。这是为了使输出更容易在我们的单词包中使用，如下所示。定义了上面的函数后，如果你调用该函数进行单个检查:"
   ]
  },
  {
   "cell_type": "code",
   "execution_count": 15,
   "metadata": {
    "collapsed": false
   },
   "outputs": [
    {
     "name": "stdout",
     "output_type": "stream",
     "text": [
      "stuff going moment mj started listening music watching odd documentary watched wiz watched moonwalker maybe want get certain insight guy thought really cool eighties maybe make mind whether guilty innocent moonwalker part biography part feature film remember going see cinema originally released subtle messages mj feeling towards press also obvious message drugs bad kay visually impressive course michael jackson unless remotely like mj anyway going hate find boring may call mj egotist consenting making movie mj fans would say made fans true really nice actual feature film bit finally starts minutes excluding smooth criminal sequence joe pesci convincing psychopathic powerful drug lord wants mj dead bad beyond mj overheard plans nah joe pesci character ranted wanted people know supplying drugs etc dunno maybe hates mj music lots cool things like mj turning car robot whole speed demon sequence also director must patience saint came filming kiddy bad sequence usually directors hate working one kid let alone whole bunch performing complex dance scene bottom line movie people like mj one level another think people stay away try give wholesome message ironically mj bestest buddy movie girl michael jackson truly one talented people ever grace planet guilty well attention gave subject hmmm well know people different behind closed doors know fact either extremely nice stupid guy one sickest liars hope latter\n"
     ]
    }
   ],
   "source": [
    "clean_review = review_to_words(train[\"review\"][0])\n",
    "print(clean_review)"
   ]
  },
  {
   "cell_type": "markdown",
   "metadata": {},
   "source": [
    "它应该提供与我们在前一节中所做的所有单独步骤完全相同的输出。现在让我们循环并一次清理所有的训练集(这可能需要几分钟，取决于你的电脑):"
   ]
  },
  {
   "cell_type": "code",
   "execution_count": 16,
   "metadata": {
    "collapsed": true
   },
   "outputs": [],
   "source": [
    "# Get the number of reviews based on the dataframe column size\n",
    "num_reviews = train[\"review\"].size\n",
    "\n",
    "# Initialize an empty list to hold the clean reviews初始化一个空列表以保存清洗过的reviews\n",
    "clean_train_reviews = []\n",
    "\n",
    "# Loop over each review; create an index i that goes from 0 to the length遍历每一条评论;创建一个从0到长度的索引i\n",
    "# of the movie review list \n",
    "for i in range(0, num_reviews):\n",
    "    # Call our function for each one, and add the result to the list of\n",
    "    # clean reviews\n",
    "    clean_train_reviews.append( review_to_words( train[\"review\"][i] ) )"
   ]
  },
  {
   "cell_type": "markdown",
   "metadata": {},
   "source": [
    "有时候，等待一段冗长的代码运行是很烦人的。编写代码以便提供状态更新是很有帮助的。要让Python在每处理1000个评审之后打印一个状态更新，请尝试在上面的代码中添加一两行代码:"
   ]
  },
  {
   "cell_type": "code",
   "execution_count": 17,
   "metadata": {
    "collapsed": false
   },
   "outputs": [
    {
     "name": "stdout",
     "output_type": "stream",
     "text": [
      "Cleaning and parsing the training set movie reviews...\n",
      "\n",
      "Review 5000 of 25000\n",
      "\n",
      "Review 10000 of 25000\n",
      "\n",
      "Review 15000 of 25000\n",
      "\n",
      "Review 20000 of 25000\n",
      "\n",
      "Review 25000 of 25000\n",
      "\n"
     ]
    }
   ],
   "source": [
    "print (\"Cleaning and parsing the training set movie reviews...\\n\")\n",
    "clean_train_reviews = []\n",
    "for i in range(0, num_reviews):\n",
    "    # If the index is evenly divisible by 1000, print a message如果索引被1000整除，则打印一条消息\n",
    "    if((i+1)%5000==0):\n",
    "        print (\"Review %d of %d\\n\" % (i+1, num_reviews))                                                                   \n",
    "    clean_train_reviews.append( review_to_words( train[\"review\"][i] ))"
   ]
  },
  {
   "cell_type": "markdown",
   "metadata": {},
   "source": [
    "**Creating Features from a Bag of Words (Using scikit-learn)**"
   ]
  },
  {
   "cell_type": "markdown",
   "metadata": {},
   "source": [
    "既然我们已经整理了我们的训练集的reviews，我们如何将它们转换成某种用于机器学习的数字表示呢?一种常见的方法被称为单词包。单词包模型从所有文档中学习词汇，然后通过计算每个单词出现的次数来对每个文档建模。例如，考虑以下两句话:\n",
    "\n",
    "\n",
    "句子1:“猫坐在帽子上”\n",
    "\n",
    "\n",
    "句子2:“狗吃掉了猫和帽子”\n",
    "\n",
    "\n",
    "从这两个句子中，我们的词汇如下:\n",
    "\n",
    "\n",
    "{the, cat, sat, on, hat, dog, ate, and}\n",
    "\n",
    "\n",
    "为了得到单词包，我们计算每个单词在每个句子中出现的次数。在句子1中，“the”出现两次，“cat”、“sat”、“on”、“hat”各出现一次，因此句子1的特征向量为:\n",
    "\n",
    "\n",
    "{the, cat, sat, on, hat, dog, ate, and}\n",
    "\n",
    "\n",
    "第1句:{2,1,1,1,1,0,0,0}\n",
    "\n",
    "\n",
    "同样，第2句的特征是:{3,1,0,0,1,1,1,1}\n",
    "\n",
    "\n",
    "在IMDB数据中，我们有大量的评论，这将为我们提供大量词汇表。为了限制特征向量的大小，我们应该选择一些最大的词汇量。下面，我们使用5000个最常用的单词(记住停止词已经被删除了)。\n",
    "\n",
    "\n",
    "我们将使用scikit-learn中的feature_extraction模块来创建单词包特性。如果你在泰坦尼克号比赛中做了随机森林教程，你应该已经安装了scikit-learn;否则你需要安装它。"
   ]
  },
  {
   "cell_type": "code",
   "execution_count": 18,
   "metadata": {
    "collapsed": false
   },
   "outputs": [
    {
     "name": "stdout",
     "output_type": "stream",
     "text": [
      "Creating the bag of words...\n",
      "\n",
      "<class 'sklearn.feature_extraction.text.CountVectorizer'>\n"
     ]
    }
   ],
   "source": [
    "print (\"Creating the bag of words...\\n\")\n",
    "from sklearn.feature_extraction.text import CountVectorizer\n",
    "\n",
    "# Initialize the \"CountVectorizer\" object, which is scikit-learn's\n",
    "# bag of words tool.  初始化“CountVectorizer”对象，它是scikit-learn的单词包工具。\n",
    "vectorizer = CountVectorizer(analyzer = \"word\",   \n",
    "                             tokenizer = None,    \n",
    "                             preprocessor = None, \n",
    "                             stop_words = None,   \n",
    "                             max_features = 8000) \n",
    "print(type(vectorizer))\n",
    "\n",
    "# fit_transform() does two functions: First, it fits the model\n",
    "# and learns the vocabulary; second, it transforms our training data\n",
    "# into feature vectors. The input to fit_transform should be a list of \n",
    "# strings.\n",
    "# fit_transform()执行两个函数:首先，它适合模型并学习词汇表;\n",
    "# 其次，它将我们的训练数据转换成特征向量。fit_transform的输入应该是字符串列表。\n",
    "train_data_features = vectorizer.fit_transform(clean_train_reviews)\n",
    "# print(train_data_features)\n",
    "\n",
    "# Numpy arrays are easy to work with, so convert the result to an \n",
    "# array\n",
    "train_data_features = train_data_features.toarray()"
   ]
  },
  {
   "cell_type": "markdown",
   "metadata": {},
   "source": [
    "要查看训练数据数组现在的样子，请执行以下操作:"
   ]
  },
  {
   "cell_type": "code",
   "execution_count": 19,
   "metadata": {
    "collapsed": false
   },
   "outputs": [
    {
     "name": "stdout",
     "output_type": "stream",
     "text": [
      "(25000, 8000)\n"
     ]
    }
   ],
   "source": [
    "print(train_data_features.shape)"
   ]
  },
  {
   "cell_type": "markdown",
   "metadata": {},
   "source": [
    "它有25,000行和5,000个特征(每个词汇表单词一个)。\n",
    "\n",
    "\n",
    "注意，CountVectorizer有自己的选项来自动执行预处理、标记化和stopwords删除——对于每个选项，我们可以使用一个内置方法或指定自己的函数来代替指定“None”。有关详细信息，请参阅函数文档。但是，我们希望在本教程中编写自己的数据清理函数，向您展示如何一步一步地进行数据清理。\n",
    "\n",
    "\n",
    "现在单词包模型已经训练好了，让我们来看看单词:"
   ]
  },
  {
   "cell_type": "code",
   "execution_count": 20,
   "metadata": {
    "collapsed": false
   },
   "outputs": [
    {
     "name": "stdout",
     "output_type": "stream",
     "text": [
      "['aaron', 'abandon', 'abandoned', 'abc', 'abilities', 'ability', 'able', 'abomination', 'abortion', 'abound', 'abraham', 'abrupt', 'abruptly', 'absence', 'absent', 'absolute', 'absolutely', 'absorbed', 'absorbing', 'absurd', 'absurdity', 'abundance', 'abuse', 'abused', 'abusive', 'abysmal', 'academy', 'accent', 'accents', 'accept', 'acceptable', 'acceptance', 'accepted', 'accepting', 'accepts', 'access', 'accessible', 'accident', 'accidental', 'accidentally', 'acclaim', 'acclaimed', 'accompanied', 'accompanying', 'accomplish', 'accomplished', 'according', 'account', 'accounts', 'accuracy', 'accurate', 'accurately', 'accused', 'ace', 'achieve', 'achieved', 'achievement', 'achievements', 'achieves', 'acid', 'acknowledge', 'acquired', 'across', 'act', 'acted', 'acting', 'action', 'actions', 'active', 'activities', 'activity', 'actor', 'actors', 'actress', 'actresses', 'acts', 'actual', 'actually', 'ad', 'adam', 'adams', 'adapt', 'adaptation', 'adaptations', 'adapted', 'adaption', 'add', 'added', 'addict', 'addicted', 'addiction', 'adding', 'addition', 'additional', 'additionally', 'address', 'addressed', 'adds', 'adele', 'adequate', 'admirable', 'admiration', 'admire', 'admired', 'admirer', 'admission', 'admit', 'admits', 'admitted', 'admittedly', 'adolescent', 'adopted', 'adorable', 'adore', 'adrian', 'adult', 'adults', 'advance', 'advanced', 'advantage', 'adventure', 'adventures', 'advertised', 'advertising', 'advice', 'advise', 'advised', 'aesthetic', 'affair', 'affairs', 'affect', 'affected', 'affecting', 'affection', 'affects', 'affleck', 'afford', 'aforementioned', 'afraid', 'africa', 'african', 'aftermath', 'afternoon', 'afterward', 'afterwards', 'age', 'aged', 'agency', 'agenda', 'agent', 'agents', 'ages', 'aggressive', 'aging', 'ago', 'agony', 'agree', 'agreed', 'agrees', 'ah', 'ahead', 'aid', 'aided', 'aids', 'aim', 'aimed', 'aiming', 'air', 'aired', 'airplane', 'airport', 'ajay', 'aka', 'akin', 'akshay', 'al', 'ala', 'alan', 'alarm', 'alas', 'alba', 'albeit', 'albert', 'album', 'alcohol', 'alcoholic', 'alec', 'alert', 'alex', 'alexander', 'alexandre', 'alfred', 'alice', 'alicia', 'alien', 'aliens', 'alike', 'alison', 'alive', 'alleged', 'allen', 'alley', 'alliance', 'allow', 'allowed', 'allowing', 'allows', 'ally', 'almighty', 'almost', 'alone', 'along', 'alongside', 'alot', 'already', 'alright', 'also', 'alter', 'altered', 'alternate', 'alternative', 'although', 'altman', 'altogether', 'alvin', 'always', 'amanda', 'amateur', 'amateurish', 'amazed', 'amazing', 'amazingly', 'amazon', 'ambiance', 'ambiguity', 'ambiguous', 'ambition', 'ambitions', 'ambitious', 'america', 'american', 'americans', 'amidst', 'amitabh', 'among', 'amongst', 'amount', 'amounts', 'ample', 'amrita', 'amused', 'amusement', 'amusing', 'amy', 'analysis', 'ancient', 'anderson', 'andre', 'andrew', 'andrews', 'andy', 'ang', 'angel', 'angela', 'angeles', 'angelina', 'angels', 'anger', 'angie', 'angle', 'angles', 'angry', 'angst', 'anil', 'animal', 'animals', 'animated', 'animation', 'anime', 'aniston', 'anita', 'ann', 'anna', 'anne', 'annie', 'announced', 'annoy', 'annoyance', 'annoyed', 'annoying', 'another', 'answer', 'answered', 'answers', 'antagonist', 'anthology', 'anthony', 'anti', 'anticipated', 'anticipation', 'antics', 'anton', 'antonio', 'antonioni', 'ants', 'antwone', 'anxious', 'anybody', 'anyhow', 'anymore', 'anyone', 'anything', 'anytime', 'anyway', 'anyways', 'anywhere', 'apart', 'apartment', 'ape', 'apes', 'apocalypse', 'apocalyptic', 'appalling', 'apparent', 'apparently', 'appeal', 'appealing', 'appeals', 'appear', 'appearance', 'appearances', 'appeared', 'appearing', 'appears', 'applaud', 'apple', 'applied', 'applies', 'apply', 'appreciate', 'appreciated', 'appreciation', 'approach', 'approached', 'approaches', 'approaching', 'appropriate', 'appropriately', 'april', 'apt', 'arab', 'arc', 'area', 'areas', 'arguably', 'argue', 'arguing', 'argument', 'arguments', 'ariel', 'arkin', 'arm', 'armed', 'arms', 'armstrong', 'army', 'arnie', 'arnold', 'around', 'arquette', 'arranged', 'array', 'arrest', 'arrested', 'arrival', 'arrive', 'arrived', 'arrives', 'arriving', 'arrogance', 'arrogant', 'arrow', 'art', 'artemisia', 'arthur', 'article', 'artificial', 'artist', 'artistic', 'artistry', 'artists', 'arts', 'artsy', 'artwork', 'arty', 'ashamed', 'ashley', 'asia', 'asian', 'aside', 'ask', 'asked', 'asking', 'asks', 'asleep', 'aspect', 'aspects', 'aspiring', 'ass', 'assassin', 'assassination', 'assault', 'assembled', 'asset', 'assigned', 'assignment', 'assistance', 'assistant', 'associate', 'associated', 'assume', 'assumed', 'assumes', 'assuming', 'assure', 'assured', 'astaire', 'astonishing', 'astounding', 'asylum', 'atlantic', 'atlantis', 'atmosphere', 'atmospheric', 'atrocious', 'atrocity', 'attached', 'attack', 'attacked', 'attacking', 'attacks', 'attempt', 'attempted', 'attempting', 'attempts', 'attenborough', 'attend', 'attended', 'attending', 'attention', 'attic', 'attitude', 'attitudes', 'attorney', 'attract', 'attracted', 'attraction', 'attractive', 'audience', 'audiences', 'audio', 'audition', 'audrey', 'august', 'aunt', 'aussie', 'austen', 'austin', 'australia', 'australian', 'auteur', 'authentic', 'authenticity', 'author', 'authorities', 'authority', 'auto', 'automatic', 'automatically', 'available', 'avenge', 'average', 'avid', 'avoid', 'avoided', 'avoiding', 'avoids', 'awaiting', 'awake', 'awakening', 'award', 'awarded', 'awards', 'aware', 'awareness', 'away', 'awe', 'awesome', 'awful', 'awfully', 'awhile', 'awkward', 'awry', 'axe', 'babe', 'babes', 'babies', 'baby', 'bacall', 'bach', 'bachchan', 'bachelor', 'back', 'backdrop', 'backed', 'background', 'backgrounds', 'backs', 'backwards', 'bacon', 'bad', 'baddies', 'badly', 'badness', 'bag', 'bait', 'baker', 'bakshi', 'balance', 'balanced', 'baldwin', 'ball', 'ballet', 'balls', 'banal', 'band', 'bands', 'bang', 'bank', 'banks', 'banned', 'banter', 'bar', 'barbara', 'barbra', 'bare', 'barely', 'bargain', 'barker', 'barnes', 'barney', 'baron', 'barrel', 'barry', 'barrymore', 'bars', 'bartender', 'base', 'baseball', 'based', 'basement', 'bashing', 'basic', 'basically', 'basinger', 'basis', 'basket', 'basketball', 'bastard', 'bat', 'bates', 'bath', 'bathroom', 'batman', 'bats', 'battle', 'battlefield', 'battles', 'battlestar', 'battling', 'bauer', 'bay', 'bbc', 'beach', 'bean', 'bear', 'beard', 'bearing', 'bears', 'beast', 'beat', 'beaten', 'beating', 'beatles', 'beats', 'beatty', 'beautiful', 'beautifully', 'beauty', 'became', 'beckham', 'beckinsale', 'become', 'becomes', 'becoming', 'bed', 'bedroom', 'beer', 'beers', 'beetle', 'beforehand', 'befriends', 'beg', 'began', 'begging', 'begin', 'beginning', 'begins', 'begs', 'begun', 'behave', 'behavior', 'behaviour', 'behind', 'behold', 'beings', 'bela', 'belief', 'beliefs', 'believability', 'believable', 'believe', 'believed', 'believes', 'believing', 'bell', 'belle', 'belly', 'belong', 'belongs', 'beloved', 'belt', 'belushi', 'ben', 'bend', 'beneath', 'benefit', 'benefits', 'benjamin', 'bennett', 'benny', 'bent', 'beowulf', 'bergman', 'berkeley', 'berlin', 'bernard', 'bernsen', 'bert', 'beside', 'besides', 'best', 'bet', 'betrayal', 'betrayed', 'bette', 'better', 'bettie', 'betty', 'beverly', 'beware', 'beyond', 'bias', 'biased', 'bible', 'biblical', 'big', 'bigger', 'biggest', 'bike', 'biker', 'bikini', 'biko', 'bill', 'billed', 'billing', 'billy', 'bimbo', 'bin', 'biography', 'biopic', 'bird', 'birds', 'birth', 'birthday', 'bit', 'bitch', 'bite', 'bites', 'biting', 'bits', 'bitten', 'bitter', 'bittersweet', 'bizarre', 'black', 'blacks', 'blade', 'blah', 'blair', 'blaise', 'blake', 'blame', 'blamed', 'blames', 'bland', 'blandings', 'blank', 'blast', 'blatant', 'blatantly', 'blazing', 'bleak', 'bleed', 'blend', 'blew', 'blind', 'blob', 'block', 'blockbuster', 'blockbusters', 'blond', 'blonde', 'blondell', 'blood', 'bloodbath', 'blooded', 'bloody', 'bloom', 'blow', 'blowing', 'blown', 'blows', 'blue', 'blues', 'blunt', 'bo', 'board', 'boasts', 'boat', 'bob', 'bobby', 'bodies', 'body', 'bodyguard', 'bogart', 'bogus', 'boiled', 'bold', 'boll', 'bollywood', 'bomb', 'bombs', 'bonanza', 'bond', 'bondage', 'bone', 'bones', 'bonham', 'bonnie', 'bonus', 'boo', 'boogeyman', 'boogie', 'book', 'books', 'boom', 'boot', 'booth', 'boots', 'border', 'borders', 'bore', 'bored', 'boredom', 'boring', 'boris', 'born', 'borrow', 'borrowed', 'boss', 'bosses', 'boston', 'bother', 'bothered', 'bottle', 'bottom', 'bought', 'bound', 'boundaries', 'bounty', 'bourne', 'bout', 'bow', 'bowl', 'box', 'boxer', 'boxing', 'boy', 'boyer', 'boyfriend', 'boyle', 'boys', 'brad', 'brady', 'brain', 'brainless', 'brains', 'branagh', 'brand', 'brando', 'brashear', 'brat', 'brave', 'braveheart', 'bravo', 'brazil', 'brazilian', 'bread', 'break', 'breakdown', 'breakfast', 'breaking', 'breaks', 'breast', 'breasts', 'breath', 'breathe', 'breathing', 'breathtaking', 'breed', 'brenda', 'brendan', 'brent', 'brett', 'brian', 'bride', 'brides', 'bridge', 'bridges', 'bridget', 'brief', 'briefly', 'brien', 'bright', 'brilliance', 'brilliant', 'brilliantly', 'bring', 'bringing', 'brings', 'brit', 'britain', 'british', 'britney', 'broad', 'broadcast', 'broadway', 'broke', 'broken', 'bronson', 'bronte', 'brooding', 'brooke', 'brooklyn', 'brooks', 'bros', 'brosnan', 'brother', 'brothers', 'brought', 'brow', 'brown', 'bruce', 'bruno', 'brush', 'brutal', 'brutality', 'brutally', 'bsg', 'btw', 'bubble', 'buck', 'bucks', 'bud', 'buddies', 'budding', 'buddy', 'budget', 'budgets', 'buff', 'buffalo', 'buffs', 'buffy', 'bug', 'bugs', 'build', 'building', 'buildings', 'builds', 'built', 'bulk', 'bull', 'bullet', 'bullets', 'bully', 'bumbling', 'bunch', 'bunny', 'burial', 'buried', 'burke', 'burn', 'burned', 'burning', 'burns', 'burnt', 'burst', 'burt', 'burton', 'bus', 'busby', 'busey', 'bush', 'business', 'businessman', 'bust', 'buster', 'busy', 'butch', 'butcher', 'butler', 'butt', 'button', 'buttons', 'buy', 'buying', 'buys', 'buzz', 'bye', 'byron', 'cab', 'cabin', 'cable', 'cage', 'cagney', 'cain', 'caine', 'cake', 'cal', 'caliber', 'california', 'call', 'called', 'calling', 'calls', 'calm', 'camcorder', 'came', 'cameo', 'cameos', 'camera', 'cameraman', 'cameras', 'cameron', 'camp', 'campaign', 'campbell', 'camping', 'campus', 'campy', 'canada', 'canadian', 'canceled', 'cancelled', 'cancer', 'candidate', 'candle', 'candy', 'cannes', 'cannibal', 'cannon', 'cannot', 'cant', 'canyon', 'cap', 'capable', 'capacity', 'cape', 'caper', 'capital', 'capote', 'caprica', 'captain', 'captivated', 'captivating', 'capture', 'captured', 'captures', 'capturing', 'car', 'card', 'cardboard', 'cards', 'care', 'cared', 'career', 'careers', 'careful', 'carefully', 'carell', 'cares', 'caretaker', 'carey', 'caricature', 'caricatures', 'caring', 'carl', 'carla', 'carlito', 'carlos', 'carmen', 'carnage', 'carol', 'caron', 'carpenter', 'carpet', 'carr', 'carradine', 'carrey', 'carrie', 'carried', 'carries', 'carry', 'carrying', 'cars', 'carter', 'cartoon', 'cartoonish', 'cartoons', 'cary', 'casablanca', 'case', 'cases', 'cash', 'casino', 'casper', 'cassavetes', 'cassidy', 'cassie', 'cast', 'casting', 'castle', 'castro', 'casts', 'casual', 'cat', 'catch', 'catches', 'catching', 'catchy', 'categories', 'category', 'catherine', 'catholic', 'cats', 'cattle', 'caught', 'cause', 'caused', 'causes', 'causing', 'cave', 'cbs', 'cd', 'cecil', 'cedric', 'celebrate', 'celebrated', 'celebration', 'celebrities', 'celebrity', 'cell', 'cells', 'celluloid', 'cemetery', 'cena', 'censorship', 'center', 'centered', 'centers', 'central', 'centre', 'cents', 'centuries', 'century', 'cerebral', 'certain', 'certainly', 'cg', 'cgi', 'ch', 'chain', 'chainsaw', 'chair', 'challenge', 'challenged', 'challenges', 'challenging', 'chamber', 'chamberlain', 'champion', 'championship', 'chan', 'chance', 'chances', 'chandler', 'change', 'changed', 'changes', 'changing', 'channel', 'channels', 'chaos', 'chaotic', 'chaplin', 'chapter', 'character', 'characterisation', 'characteristic', 'characteristics', 'characterization', 'characterizations', 'characters', 'charge', 'charged', 'charges', 'charisma', 'charismatic', 'charles', 'charlie', 'charlotte', 'charlton', 'charm', 'charming', 'charms', 'chase', 'chased', 'chases', 'chasing', 'chavez', 'che', 'cheadle', 'cheap', 'cheaply', 'cheated', 'cheating', 'check', 'checked', 'checking', 'cheech', 'cheek', 'cheer', 'cheerful', 'cheering', 'cheers', 'cheese', 'cheesy', 'chemistry', 'cher', 'chess', 'chest', 'chew', 'chewing', 'chiba', 'chicago', 'chick', 'chicken', 'chicks', 'chief', 'child', 'childhood', 'childish', 'children', 'chill', 'chilling', 'chills', 'china', 'chinese', 'chip', 'chloe', 'choice', 'choices', 'choir', 'chong', 'choose', 'chooses', 'choosing', 'chopped', 'choppy', 'chops', 'choreographed', 'choreography', 'chorus', 'chose', 'chosen', 'chris', 'christ', 'christian', 'christianity', 'christians', 'christie', 'christina', 'christine', 'christmas', 'christopher', 'christy', 'chronicles', 'chuck', 'chuckle', 'chuckles', 'church', 'cia', 'cigarette', 'cinderella', 'cindy', 'cinema', 'cinemas', 'cinematic', 'cinematographer', 'cinematography', 'circa', 'circle', 'circles', 'circumstances', 'circus', 'cities', 'citizen', 'citizens', 'city', 'civil', 'civilization', 'clad', 'claim', 'claimed', 'claiming', 'claims', 'claire', 'clan', 'clara', 'clarence', 'clarity', 'clark', 'clarke', 'clash', 'class', 'classes', 'classic', 'classical', 'classics', 'classmates', 'classy', 'claude', 'claus', 'claustrophobic', 'clay', 'clean', 'cleaning', 'clear', 'clearly', 'clerk', 'clever', 'cleverly', 'clich', 'cliche', 'cliched', 'cliches', 'click', 'client', 'cliff', 'cliffhanger', 'climactic', 'climatic', 'climax', 'climb', 'climbing', 'clinic', 'clint', 'clip', 'clips', 'clive', 'cloak', 'clock', 'clone', 'clooney', 'close', 'closed', 'closely', 'closer', 'closest', 'closet', 'closing', 'closure', 'clothes', 'clothing', 'clouds', 'clown', 'club', 'clue', 'clueless', 'clues', 'clumsy', 'clunky', 'clyde', 'co', 'coach', 'coast', 'coaster', 'coat', 'coburn', 'cocaine', 'code', 'cody', 'coffee', 'coffin', 'cohen', 'coherent', 'cohesive', 'coincidence', 'coke', 'cold', 'cole', 'colin', 'collar', 'colleague', 'colleagues', 'collect', 'collection', 'collective', 'collector', 'college', 'collette', 'collins', 'colman', 'colonel', 'colony', 'color', 'colored', 'colorful', 'colors', 'colour', 'colours', 'columbia', 'columbo', 'com', 'coma', 'combat', 'combination', 'combine', 'combined', 'combines', 'combining', 'combs', 'come', 'comeback', 'comedian', 'comedians', 'comedic', 'comedies', 'comedy', 'comes', 'comfort', 'comfortable', 'comic', 'comical', 'comics', 'coming', 'command', 'commander', 'commanding', 'commendable', 'comment', 'commentary', 'commented', 'commenting', 'comments', 'commercial', 'commercials', 'commit', 'commitment', 'commits', 'committed', 'committing', 'common', 'communicate', 'communication', 'communist', 'community', 'companies', 'companion', 'company', 'comparable', 'compare', 'compared', 'comparing', 'comparison', 'comparisons', 'compassion', 'compelled', 'compelling', 'compensate', 'compete', 'competent', 'competition', 'complain', 'complained', 'complaining', 'complaint', 'complaints', 'complete', 'completed', 'completely', 'complex', 'complexity', 'complicated', 'complications', 'compliment', 'composed', 'composer', 'composition', 'comprehend', 'computer', 'computers', 'con', 'conan', 'conceived', 'concentrate', 'concentration', 'concept', 'concepts', 'concern', 'concerned', 'concerning', 'concerns', 'concert', 'conclude', 'conclusion', 'conclusions', 'condition', 'conditions', 'conductor', 'confess', 'confidence', 'confident', 'confined', 'conflict', 'conflicts', 'confront', 'confrontation', 'confronted', 'confuse', 'confused', 'confusing', 'confusion', 'connect', 'connected', 'connection', 'connections', 'connery', 'connie', 'connor', 'conrad', 'cons', 'conscience', 'conscious', 'consciousness', 'consequence', 'consequences', 'consequently', 'conservative', 'consider', 'considerable', 'considerably', 'consideration', 'considered', 'considering', 'considers', 'consist', 'consistent', 'consistently', 'consists', 'conspiracy', 'constant', 'constantly', 'constraints', 'constructed', 'construction', 'contact', 'contain', 'contained', 'containing', 'contains', 'contemporary', 'contempt', 'content', 'contest', 'contestant', 'contestants', 'context', 'continually', 'continue', 'continued', 'continues', 'continuing', 'continuity', 'contract', 'contrary', 'contrast', 'contribute', 'contributed', 'contribution', 'contrived', 'control', 'controlled', 'controlling', 'controls', 'controversial', 'controversy', 'convenient', 'conveniently', 'convent', 'convention', 'conventional', 'conventions', 'conversation', 'conversations', 'convey', 'conveyed', 'conveying', 'conveys', 'convict', 'convicted', 'conviction', 'convince', 'convinced', 'convinces', 'convincing', 'convincingly', 'convoluted', 'cook', 'cookie', 'cooking', 'cool', 'coolest', 'coop', 'cooper', 'cop', 'cope', 'copied', 'copies', 'coppola', 'cops', 'copy', 'corbett', 'core', 'corey', 'corman', 'corn', 'corner', 'corny', 'corporate', 'corporation', 'corpse', 'corpses', 'correct', 'correctly', 'corrupt', 'corruption', 'cost', 'costs', 'costume', 'costumes', 'couch', 'could', 'count', 'counter', 'counterparts', 'counting', 'countless', 'countries', 'country', 'countryside', 'counts', 'county', 'coup', 'couple', 'coupled', 'couples', 'courage', 'courageous', 'course', 'court', 'courtesy', 'courtroom', 'cousin', 'cover', 'covered', 'covering', 'covers', 'cow', 'coward', 'cowboy', 'cox', 'crack', 'cracking', 'cracks', 'craft', 'crafted', 'craig', 'crap', 'crappy', 'crash', 'crashed', 'crashes', 'crashing', 'craven', 'crawford', 'crazed', 'crazy', 'cream', 'creasy', 'create', 'created', 'creates', 'creating', 'creation', 'creations', 'creative', 'creativity', 'creator', 'creators', 'creature', 'creatures', 'credibility', 'credible', 'credit', 'credited', 'credits', 'creek', 'creep', 'creepy', 'crew', 'cried', 'cries', 'crime', 'crimes', 'criminal', 'criminals', 'cringe', 'crippled', 'crisis', 'crisp', 'critic', 'critical', 'criticism', 'criticisms', 'criticize', 'criticized', 'critics', 'critique', 'croc', 'crocodile', 'crooks', 'crosby', 'cross', 'crossed', 'crosses', 'crossing', 'crowd', 'crowe', 'crown', 'crucial', 'crude', 'cruel', 'cruelty', 'cruise', 'crush', 'crushed', 'cry', 'crying', 'crystal', 'cuba', 'cuban', 'cube', 'cue', 'cult', 'cultural', 'culture', 'cultures', 'cunningham', 'cup', 'cure', 'curiosity', 'curious', 'curiously', 'curly', 'current', 'currently', 'curse', 'cursed', 'curtain', 'curtis', 'cusack', 'cushing', 'customers', 'cut', 'cute', 'cuts', 'cutter', 'cutting', 'cyborg', 'cycle', 'cynical', 'cypher', 'da', 'dad', 'daddy', 'dafoe', 'dahmer', 'daily', 'daisy', 'dallas', 'dalton', 'damage', 'damaged', 'dame', 'damme', 'damn', 'damned', 'damon', 'damsel', 'dan', 'dana', 'dance', 'dancer', 'dancers', 'dances', 'dancing', 'dandy', 'danes', 'danger', 'dangerous', 'dangerously', 'daniel', 'daniels', 'danish', 'danny', 'dante', 'dare', 'daring', 'dark', 'darker', 'darkly', 'darkness', 'darn', 'darren', 'darth', 'dash', 'dashing', 'data', 'date', 'dated', 'dates', 'dating', 'daughter', 'daughters', 'dave', 'david', 'davies', 'davis', 'dawn', 'dawson', 'day', 'daylight', 'days', 'daytime', 'dazzling', 'de', 'dead', 'deadly', 'deaf', 'deal', 'dealer', 'dealing', 'deals', 'dealt', 'dean', 'deanna', 'dear', 'death', 'deaths', 'deathtrap', 'debate', 'debbie', 'debra', 'debt', 'debut', 'decade', 'decades', 'deceased', 'december', 'decent', 'decide', 'decided', 'decidedly', 'decides', 'deciding', 'decision', 'decisions', 'deck', 'decline', 'dedicated', 'dee', 'deed', 'deeds', 'deemed', 'deep', 'deeper', 'deepest', 'deeply', 'deer', 'defeat', 'defeated', 'defend', 'defending', 'defense', 'defies', 'define', 'defined', 'defining', 'definite', 'definitely', 'definition', 'definitive', 'degree', 'degrees', 'del', 'deleted', 'deliberate', 'deliberately', 'delicate', 'delicious', 'deliciously', 'delight', 'delighted', 'delightful', 'delightfully', 'delirious', 'deliver', 'deliverance', 'delivered', 'delivering', 'delivers', 'delivery', 'della', 'demand', 'demanding', 'demands', 'demeanor', 'demented', 'demille', 'demise', 'demon', 'demonic', 'demons', 'demonstrate', 'demonstrated', 'demonstrates', 'deniro', 'denis', 'denise', 'dennis', 'denouement', 'dentist', 'deny', 'denzel', 'depardieu', 'department', 'departure', 'depending', 'depends', 'depict', 'depicted', 'depicting', 'depiction', 'depictions', 'depicts', 'depressed', 'depressing', 'depression', 'depth', 'depths', 'deputy', 'der', 'deranged', 'derek', 'derivative', 'dern', 'des', 'descent', 'describe', 'described', 'describes', 'describing', 'description', 'desert', 'deserted', 'deserve', 'deserved', 'deserves', 'deserving', 'design', 'designed', 'designer', 'designs', 'desire', 'desired', 'desires', 'desk', 'despair', 'desperate', 'desperately', 'desperation', 'despicable', 'despise', 'despite', 'destination', 'destined', 'destiny', 'destroy', 'destroyed', 'destroying', 'destroys', 'destruction', 'destructive', 'detached', 'detail', 'detailed', 'details', 'detective', 'detectives', 'determination', 'determined', 'detract', 'detroit', 'devastating', 'develop', 'developed', 'developing', 'development', 'develops', 'device', 'devices', 'devil', 'devoid', 'devoted', 'devotion', 'dialog', 'dialogs', 'dialogue', 'dialogues', 'diamond', 'diana', 'diane', 'diary', 'dick', 'dickens', 'dictator', 'die', 'died', 'diego', 'dies', 'difference', 'differences', 'different', 'differently', 'difficult', 'difficulties', 'difficulty', 'dig', 'digging', 'digital', 'dignity', 'dilemma', 'dillinger', 'dillon', 'dim', 'dimension', 'dimensional', 'din', 'diner', 'dinner', 'dinosaur', 'dinosaurs', 'dire', 'direct', 'directed', 'directing', 'direction', 'directions', 'directly', 'director', 'directorial', 'directors', 'directs', 'dirt', 'dirty', 'disabled', 'disagree', 'disappear', 'disappearance', 'disappeared', 'disappears', 'disappoint', 'disappointed', 'disappointing', 'disappointment', 'disaster', 'disastrous', 'disbelief', 'disc', 'discipline', 'disco', 'discover', 'discovered', 'discovering', 'discovers', 'discovery', 'discuss', 'discussed', 'discussing', 'discussion', 'disease', 'disgrace', 'disguise', 'disguised', 'disgust', 'disgusted', 'disgusting', 'disjointed', 'dislike', 'disliked', 'dismal', 'dismiss', 'disney', 'disorder', 'display', 'displayed', 'displaying', 'displays', 'disregard', 'distance', 'distant', 'distinct', 'distinction', 'distinctive', 'distract', 'distracted', 'distracting', 'distraction', 'distress', 'distributed', 'distribution', 'district', 'disturbed', 'disturbing', 'diverse', 'diversity', 'divided', 'divine', 'diving', 'division', 'divorce', 'divorced', 'dixon', 'dj', 'doc', 'doctor', 'doctors', 'document', 'documentaries', 'documentary', 'dog', 'dogs', 'doll', 'dollar', 'dollars', 'dolls', 'dolph', 'dom', 'domestic', 'dominate', 'dominated', 'dominic', 'domino', 'donald', 'done', 'donna', 'dont', 'doo', 'doom', 'doomed', 'door', 'doors', 'dorothy', 'dose', 'double', 'doubt', 'doubts', 'doug', 'douglas', 'downey', 'downhill', 'downright', 'downs', 'doyle', 'dozen', 'dozens', 'dr', 'drab', 'dracula', 'drag', 'dragged', 'dragging', 'dragon', 'dragons', 'drags', 'drake', 'drama', 'dramas', 'dramatic', 'dramatically', 'draw', 'drawing', 'drawn', 'draws', 'dread', 'dreadful', 'dream', 'dreaming', 'dreams', 'dreamy', 'dreary', 'dreck', 'dress', 'dressed', 'dresses', 'dressing', 'drew', 'dreyfuss', 'drift', 'drink', 'drinking', 'drinks', 'drive', 'drivel', 'driven', 'driver', 'drives', 'driving', 'drop', 'dropped', 'dropping', 'drops', 'drove', 'drowned', 'drowning', 'drug', 'drugs', 'drum', 'drunk', 'drunken', 'dry', 'du', 'dub', 'dubbed', 'dubbing', 'dubious', 'duchovny', 'duck', 'dud', 'dude', 'dudley', 'due', 'duel', 'duh', 'duke', 'dukes', 'dull', 'dumb', 'dumber', 'dumbest', 'dump', 'dumped', 'dunst', 'duo', 'duration', 'dust', 'dustin', 'dutch', 'duty', 'duvall', 'dvd', 'dvds', 'dwight', 'dying', 'dyke', 'dylan', 'dynamic', 'dynamics', 'dynamite', 'dysfunctional', 'eager', 'eagerly', 'eagle', 'ealing', 'ear', 'earl', 'earlier', 'earliest', 'early', 'earn', 'earned', 'earnest', 'ears', 'earth', 'ease', 'easier', 'easily', 'east', 'eastern', 'eastwood', 'easy', 'eat', 'eaten', 'eating', 'eats', 'ebert', 'eccentric', 'economic', 'economy', 'ed', 'eddie', 'edgar', 'edge', 'edges', 'edgy', 'edie', 'edison', 'edit', 'edited', 'edith', 'editing', 'edition', 'editor', 'edmund', 'educated', 'education', 'educational', 'edward', 'eerie', 'effect', 'effective', 'effectively', 'effects', 'effort', 'effortlessly', 'efforts', 'egg', 'ego', 'egypt', 'egyptian', 'eh', 'eight', 'eighties', 'einstein', 'either', 'el', 'elaborate', 'elderly', 'elected', 'election', 'electric', 'electronic', 'elegant', 'element', 'elements', 'elephant', 'elephants', 'elevator', 'eleven', 'eli', 'elite', 'elizabeth', 'ellen', 'elliott', 'elm', 'elsa', 'else', 'elsewhere', 'elvira', 'elvis', 'em', 'embarrassed', 'embarrassing', 'embarrassingly', 'embarrassment', 'embrace', 'emerge', 'emerges', 'emily', 'emma', 'emmy', 'emotion', 'emotional', 'emotionally', 'emotions', 'empathy', 'emperor', 'emphasis', 'empire', 'employed', 'employee', 'employees', 'empty', 'en', 'enchanted', 'enchanting', 'encounter', 'encountered', 'encounters', 'encourage', 'encouraged', 'end', 'endearing', 'ended', 'ending', 'endings', 'endless', 'endlessly', 'ends', 'endure', 'enduring', 'enemies', 'enemy', 'energetic', 'energy', 'engage', 'engaged', 'engaging', 'engine', 'engineer', 'england', 'english', 'englund', 'engrossing', 'enhance', 'enhanced', 'enigmatic', 'enjoy', 'enjoyable', 'enjoyed', 'enjoying', 'enjoyment', 'enjoys', 'enormous', 'enormously', 'enough', 'ensemble', 'ensue', 'ensues', 'ensure', 'enter', 'entered', 'entering', 'enterprise', 'enters', 'entertain', 'entertained', 'entertaining', 'entertainment', 'enthusiasm', 'enthusiastic', 'entire', 'entirely', 'entirety', 'entitled', 'entrance', 'entries', 'entry', 'environment', 'envy', 'epic', 'epics', 'episode', 'episodes', 'epitome', 'equal', 'equally', 'equipment', 'equivalent', 'er', 'era', 'eric', 'erika', 'ernest', 'ernie', 'erotic', 'errol', 'error', 'errors', 'escape', 'escaped', 'escapes', 'escaping', 'especially', 'espionage', 'esquire', 'essence', 'essential', 'essentially', 'establish', 'established', 'establishing', 'establishment', 'estate', 'esther', 'estranged', 'et', 'etc', 'eternal', 'eternity', 'ethan', 'ethnic', 'eugene', 'europa', 'europe', 'european', 'europeans', 'eva', 'evans', 'eve', 'evelyn', 'even', 'evening', 'event', 'events', 'eventual', 'eventually', 'ever', 'everett', 'every', 'everybody', 'everyday', 'everyone', 'everything', 'everywhere', 'evidence', 'evident', 'evidently', 'evil', 'evoke', 'evokes', 'evolution', 'ex', 'exact', 'exactly', 'exaggerated', 'examination', 'example', 'examples', 'excellence', 'excellent', 'excellently', 'excels', 'except', 'exception', 'exceptional', 'exceptionally', 'exceptions', 'excess', 'excessive', 'exchange', 'excited', 'excitement', 'exciting', 'exclusively', 'excruciating', 'excruciatingly', 'excuse', 'excuses', 'executed', 'execution', 'executive', 'executives', 'exercise', 'exist', 'existed', 'existence', 'existent', 'existing', 'exists', 'exit', 'exorcist', 'exotic', 'expect', 'expectation', 'expectations', 'expected', 'expecting', 'expects', 'expedition', 'expense', 'expensive', 'experience', 'experienced', 'experiences', 'experiencing', 'experiment', 'experimental', 'experiments', 'expert', 'expertly', 'experts', 'explain', 'explained', 'explaining', 'explains', 'explanation', 'explicit', 'explode', 'explodes', 'exploding', 'exploit', 'exploitation', 'exploitative', 'exploited', 'exploits', 'exploration', 'explore', 'explored', 'explores', 'exploring', 'explosion', 'explosions', 'explosive', 'expose', 'exposed', 'exposition', 'exposure', 'express', 'expressed', 'expression', 'expressions', 'exquisite', 'extended', 'extensive', 'extent', 'exterior', 'extra', 'extraordinary', 'extras', 'extreme', 'extremely', 'eye', 'eyed', 'eyes', 'eyre', 'fabulous', 'face', 'faced', 'faces', 'facial', 'facility', 'facing', 'fact', 'factor', 'factors', 'factory', 'facts', 'factual', 'fade', 'faded', 'fades', 'fagin', 'fail', 'failed', 'failing', 'fails', 'failure', 'failures', 'faint', 'fair', 'fairbanks', 'fairly', 'fairness', 'fairy', 'faith', 'faithful', 'fake', 'falk', 'fall', 'fallen', 'falling', 'fallon', 'falls', 'false', 'fame', 'famed', 'familiar', 'families', 'family', 'famous', 'fan', 'fanatic', 'fancy', 'fans', 'fantasies', 'fantastic', 'fantasy', 'far', 'farce', 'fare', 'farm', 'farmer', 'farnsworth', 'farrah', 'farrell', 'fart', 'fascinated', 'fascinating', 'fascination', 'fascist', 'fashion', 'fashioned', 'fashions', 'fassbinder', 'fast', 'faster', 'fat', 'fatal', 'fatale', 'fate', 'father', 'fathers', 'fault', 'faults', 'faux', 'favor', 'favorite', 'favorites', 'favour', 'favourite', 'favourites', 'fay', 'faye', 'fbi', 'fear', 'fears', 'feast', 'feat', 'feature', 'featured', 'features', 'featuring', 'fed', 'feeble', 'feed', 'feeding', 'feel', 'feeling', 'feelings', 'feels', 'feet', 'feinstone', 'felix', 'fell', 'fellini', 'fellow', 'felt', 'female', 'females', 'feminine', 'feminist', 'femme', 'ferrell', 'fest', 'festival', 'festivals', 'fetched', 'fetish', 'fever', 'fi', 'fianc', 'fiction', 'fictional', 'fido', 'field', 'fields', 'fiend', 'fifteen', 'fifth', 'fifties', 'fifty', 'fight', 'fighter', 'fighting', 'fights', 'figure', 'figured', 'figures', 'file', 'files', 'fill', 'filled', 'filler', 'filling', 'fills', 'film', 'filmed', 'filming', 'filmmaker', 'filmmakers', 'filmmaking', 'filmography', 'films', 'filth', 'filthy', 'final', 'finale', 'finally', 'financial', 'find', 'finding', 'finds', 'fine', 'finest', 'finger', 'fingers', 'finish', 'finished', 'finishes', 'finishing', 'finney', 'fire', 'fired', 'fires', 'firing', 'firm', 'firmly', 'first', 'firstly', 'fish', 'fishburne', 'fisher', 'fishing', 'fist', 'fit', 'fits', 'fitting', 'fitzgerald', 'five', 'fix', 'flag', 'flair', 'flame', 'flames', 'flash', 'flashback', 'flashbacks', 'flashes', 'flashing', 'flashy', 'flat', 'flavia', 'flavor', 'flaw', 'flawed', 'flawless', 'flaws', 'fleet', 'flesh', 'fleshed', 'flick', 'flicks', 'flies', 'flight', 'flimsy', 'flip', 'floating', 'flock', 'floor', 'flop', 'florida', 'flow', 'flower', 'flowers', 'flowing', 'flows', 'fluff', 'fluid', 'fly', 'flying', 'flynn', 'focus', 'focused', 'focuses', 'focusing', 'fodder', 'fog', 'foil', 'folk', 'folks', 'follow', 'followed', 'followers', 'following', 'follows', 'fond', 'fonda', 'fontaine', 'food', 'fool', 'fooled', 'foolish', 'fools', 'foot', 'footage', 'football', 'forbidden', 'force', 'forced', 'forces', 'forcing', 'ford', 'foreign', 'foremost', 'forest', 'forever', 'forget', 'forgets', 'forgettable', 'forgetting', 'forgive', 'forgiven', 'forgiveness', 'forgot', 'forgotten', 'form', 'format', 'formed', 'former', 'forms', 'formula', 'formulaic', 'forrest', 'forsythe', 'forth', 'forties', 'fortunate', 'fortunately', 'fortune', 'forty', 'forward', 'foster', 'fought', 'foul', 'found', 'foundation', 'four', 'fourth', 'fox', 'foxx', 'fragile', 'frame', 'framed', 'frames', 'framing', 'france', 'frances', 'franchise', 'francis', 'francisco', 'franco', 'frank', 'frankenstein', 'frankie', 'franklin', 'frankly', 'frantic', 'frat', 'fraud', 'freak', 'freaking', 'freaks', 'freaky', 'fred', 'freddy', 'free', 'freedom', 'freeman', 'freeze', 'french', 'frequent', 'frequently', 'fresh', 'friday', 'fried', 'friend', 'friendly', 'friends', 'friendship', 'fright', 'frightened', 'frightening', 'fritz', 'frog', 'front', 'frontal', 'frontier', 'frost', 'frozen', 'fruit', 'frustrated', 'frustrating', 'frustration', 'fu', 'fuel', 'fulci', 'full', 'fuller', 'fully', 'fun', 'function', 'fundamental', 'funding', 'funeral', 'funnier', 'funniest', 'funny', 'furious', 'furniture', 'furthermore', 'fury', 'future', 'futuristic', 'fuzzy', 'fx', 'gable', 'gabriel', 'gackt', 'gadget', 'gag', 'gags', 'gain', 'gained', 'gal', 'galactica', 'galaxy', 'gallery', 'gambling', 'game', 'gamera', 'games', 'gandhi', 'gandolfini', 'gang', 'gangs', 'gangster', 'gangsters', 'gannon', 'gap', 'gaps', 'garage', 'garbage', 'garbo', 'garden', 'garfield', 'garland', 'garner', 'gary', 'gas', 'gate', 'gates', 'gather', 'gathering', 'gave', 'gay', 'gear', 'geek', 'geisha', 'gem', 'gems', 'gen', 'gena', 'gender', 'gene', 'general', 'generally', 'generate', 'generated', 'generation', 'generations', 'generic', 'generous', 'genie', 'genius', 'genre', 'genres', 'gentle', 'gentleman', 'gentlemen', 'genuine', 'genuinely', 'geoffrey', 'george', 'georges', 'georgia', 'gerard', 'gere', 'german', 'germans', 'germany', 'gershwin', 'gestures', 'get', 'gets', 'getting', 'ghastly', 'ghetto', 'ghost', 'ghostly', 'ghosts', 'giallo', 'giant', 'giants', 'gibson', 'gielgud', 'gift', 'gifted', 'gig', 'gigantic', 'gilbert', 'gilliam', 'gillian', 'gimmick', 'gina', 'ginger', 'gino', 'giovanna', 'girl', 'girlfriend', 'girlfriends', 'girls', 'give', 'given', 'gives', 'giving', 'glad', 'glamorous', 'glance', 'glaring', 'glass', 'glasses', 'glenn', 'glimpse', 'glimpses', 'global', 'globe', 'gloomy', 'gloria', 'glorious', 'glory', 'glossy', 'glover', 'glowing', 'glued', 'go', 'goal', 'goals', 'goat', 'god', 'godard', 'godfather', 'gods', 'godzilla', 'goers', 'goes', 'going', 'goings', 'gold', 'goldberg', 'goldblum', 'golden', 'goldie', 'goldsworthy', 'gone', 'gonna', 'good', 'goodbye', 'gooding', 'goodman', 'goodness', 'goods', 'goofy', 'gordon', 'gore', 'gorgeous', 'gorilla', 'gory', 'gosh', 'got', 'gothic', 'gotta', 'gotten', 'government', 'govinda', 'grab', 'grabbed', 'grabs', 'grace', 'grade', 'gradually', 'graduate', 'graham', 'grainy', 'grand', 'grandfather', 'grandma', 'grandmother', 'grandpa', 'grant', 'granted', 'graphic', 'graphics', 'grasp', 'grass', 'grateful', 'grating', 'gratuitous', 'grave', 'graveyard', 'gray', 'grayson', 'grease', 'great', 'greater', 'greatest', 'greatly', 'greatness', 'greed', 'greedy', 'greek', 'green', 'greene', 'greg', 'gregory', 'grendel', 'gretchen', 'grew', 'grey', 'grief', 'griffith', 'grim', 'grin', 'grinch', 'grip', 'gripping', 'gritty', 'gross', 'grotesque', 'ground', 'grounds', 'group', 'groups', 'grow', 'growing', 'grown', 'grows', 'growth', 'grudge', 'gruesome', 'guarantee', 'guaranteed', 'guard', 'guardian', 'guards', 'guess', 'guessed', 'guessing', 'guest', 'guests', 'guevara', 'guide', 'guilt', 'guilty', 'guinea', 'guinness', 'guitar', 'gun', 'gundam', 'gunga', 'guns', 'gus', 'gut', 'guts', 'guy', 'guys', 'gwyneth', 'gypo', 'gypsy', 'ha', 'habit', 'hack', 'hackman', 'hackneyed', 'hadley', 'haines', 'hair', 'haired', 'hal', 'half', 'halfway', 'hall', 'hallmark', 'halloween', 'ham', 'hamilton', 'hamlet', 'hammer', 'hammy', 'han', 'hand', 'handed', 'handful', 'handicapped', 'handle', 'handled', 'handles', 'handling', 'hands', 'handsome', 'hang', 'hanging', 'hangs', 'hank', 'hanks', 'hannah', 'hanzo', 'hapless', 'happen', 'happened', 'happening', 'happenings', 'happens', 'happily', 'happiness', 'happy', 'hara', 'hard', 'hardcore', 'hardened', 'harder', 'hardly', 'hardy', 'harilal', 'harlow', 'harm', 'harmless', 'harold', 'harriet', 'harris', 'harrison', 'harron', 'harrowing', 'harry', 'harsh', 'hart', 'hartley', 'harvey', 'hat', 'hate', 'hated', 'hateful', 'hates', 'hating', 'hatred', 'hats', 'haunt', 'haunted', 'haunting', 'havoc', 'hawke', 'hawn', 'hayes', 'hayworth', 'hbo', 'head', 'headache', 'headed', 'heading', 'heads', 'health', 'healthy', 'heap', 'hear', 'heard', 'hearing', 'hears', 'heart', 'heartbreaking', 'hearted', 'heartfelt', 'hearts', 'heartwarming', 'heat', 'heath', 'heaven', 'heavily', 'heavy', 'heck', 'heels', 'height', 'heights', 'heist', 'held', 'helen', 'helena', 'helicopter', 'hell', 'hello', 'helmet', 'help', 'helped', 'helpful', 'helping', 'helpless', 'helps', 'hence', 'henchmen', 'henry', 'hepburn', 'herbert', 'herd', 'herman', 'hero', 'heroes', 'heroic', 'heroine', 'heston', 'hey', 'hi', 'hidden', 'hide', 'hideous', 'hides', 'hiding', 'high', 'higher', 'highest', 'highlight', 'highlights', 'highly', 'highway', 'hilarious', 'hilariously', 'hilarity', 'hill', 'hills', 'hindi', 'hines', 'hint', 'hinted', 'hints', 'hip', 'hippie', 'hippies', 'hire', 'hired', 'hires', 'historic', 'historical', 'historically', 'history', 'hit', 'hitchcock', 'hitler', 'hits', 'hitting', 'hk', 'hmm', 'hmmm', 'ho', 'hobgoblins', 'hoffman', 'hokey', 'hold', 'holding', 'holds', 'hole', 'holes', 'holiday', 'hollow', 'holly', 'hollywood', 'holmes', 'holocaust', 'holt', 'holy', 'homage', 'home', 'homeless', 'homer', 'homes', 'hometown', 'homicidal', 'homicide', 'homosexual', 'homosexuality', 'honest', 'honestly', 'honesty', 'hong', 'honor', 'hood', 'hook', 'hooked', 'hooker', 'hooper', 'hoot', 'hop', 'hope', 'hoped', 'hopefully', 'hopeless', 'hopelessly', 'hopes', 'hoping', 'hopkins', 'hopper', 'horny', 'horrendous', 'horrible', 'horribly', 'horrid', 'horrific', 'horrified', 'horrifying', 'horror', 'horrors', 'horse', 'horses', 'hospital', 'host', 'hostage', 'hostel', 'hostile', 'hot', 'hotel', 'hour', 'hours', 'house', 'household', 'houses', 'housewife', 'howard', 'however', 'howling', 'http', 'hudson', 'huge', 'hugely', 'hugh', 'hughes', 'hugo', 'huh', 'hulk', 'hum', 'human', 'humanity', 'humans', 'humble', 'humor', 'humorous', 'humour', 'hundred', 'hundreds', 'hung', 'hungry', 'hunt', 'hunted', 'hunter', 'hunters', 'hunting', 'hurt', 'hurts', 'husband', 'husbands', 'huston', 'hybrid', 'hyde', 'hype', 'hyped', 'hyper', 'hysterical', 'hysterically', 'ian', 'ice', 'icon', 'iconic', 'id', 'idea', 'ideal', 'idealistic', 'ideals', 'ideas', 'identical', 'identify', 'identity', 'idiot', 'idiotic', 'idiots', 'idol', 'ie', 'ignorance', 'ignorant', 'ignore', 'ignored', 'ignores', 'ignoring', 'ii', 'iii', 'ill', 'illegal', 'illness', 'illogical', 'im', 'image', 'imagery', 'images', 'imaginable', 'imaginary', 'imagination', 'imaginative', 'imagine', 'imagined', 'imagining', 'imdb', 'imho', 'imitation', 'immature', 'immediate', 'immediately', 'immense', 'immensely', 'immigrant', 'immortal', 'imo', 'impact', 'impending', 'implausible', 'implied', 'implies', 'importance', 'important', 'importantly', 'impossible', 'impress', 'impressed', 'impression', 'impressive', 'improbable', 'improve', 'improved', 'improvement', 'inability', 'inaccuracies', 'inaccurate', 'inadvertently', 'inane', 'inappropriate', 'incapable', 'incest', 'incestuous', 'incident', 'incidental', 'incidentally', 'incidents', 'inclined', 'include', 'included', 'includes', 'including', 'inclusion', 'incoherent', 'incompetent', 'incomprehensible', 'inconsistent', 'incorrect', 'increasingly', 'incredible', 'incredibly', 'indeed', 'independence', 'independent', 'india', 'indian', 'indiana', 'indians', 'indicate', 'indication', 'indie', 'indifferent', 'individual', 'individuals', 'inducing', 'indulgent', 'industrial', 'industry', 'inept', 'inevitable', 'inevitably', 'inexplicable', 'inexplicably', 'infamous', 'infected', 'inferior', 'infinitely', 'influence', 'influenced', 'influences', 'info', 'information', 'informative', 'informed', 'informer', 'ing', 'ingenious', 'ingredients', 'ingrid', 'inhabitants', 'inherent', 'initial', 'initially', 'injured', 'injury', 'inmates', 'inner', 'innocence', 'innocent', 'innovative', 'ins', 'insane', 'insanity', 'insert', 'inserted', 'inside', 'insight', 'insightful', 'insights', 'insipid', 'insist', 'insists', 'insomnia', 'inspector', 'inspiration', 'inspirational', 'inspire', 'inspired', 'inspiring', 'installment', 'instance', 'instances', 'instant', 'instantly', 'instead', 'instinct', 'instincts', 'institution', 'insult', 'insulting', 'insults', 'insurance', 'intact', 'integrity', 'intellectual', 'intelligence', 'intelligent', 'intend', 'intended', 'intense', 'intensely', 'intensity', 'intent', 'intention', 'intentional', 'intentionally', 'intentions', 'inter', 'interact', 'interaction', 'interactions', 'interest', 'interested', 'interesting', 'interestingly', 'interests', 'interior', 'interiors', 'internal', 'international', 'internet', 'interpretation', 'interpretations', 'interrupted', 'interview', 'interviewed', 'interviews', 'intimate', 'intricate', 'intrigue', 'intrigued', 'intriguing', 'intro', 'introduce', 'introduced', 'introduces', 'introducing', 'introduction', 'invasion', 'invented', 'invention', 'inventive', 'invested', 'investigate', 'investigating', 'investigation', 'investigator', 'investment', 'invisible', 'invite', 'invited', 'invites', 'involve', 'involved', 'involvement', 'involves', 'involving', 'iq', 'ira', 'iran', 'iranian', 'iraq', 'ireland', 'irene', 'irish', 'iron', 'ironic', 'ironically', 'irony', 'irrelevant', 'irritated', 'irritating', 'irving', 'isabelle', 'ish', 'island', 'isolated', 'isolation', 'israel', 'israeli', 'issue', 'issues', 'italian', 'italy', 'item', 'items', 'iturbi', 'iv', 'jabba', 'jack', 'jacket', 'jackie', 'jackman', 'jackson', 'jacques', 'jaded', 'jagger', 'jail', 'jake', 'james', 'jamie', 'jan', 'jane', 'janet', 'japan', 'japanese', 'jar', 'jared', 'jarring', 'jason', 'jaw', 'jaws', 'jay', 'jazz', 'je', 'jealous', 'jealousy', 'jean', 'jedi', 'jeff', 'jeffrey', 'jenna', 'jennifer', 'jenny', 'jeremy', 'jerk', 'jerry', 'jersey', 'jess', 'jesse', 'jessica', 'jesus', 'jet', 'jewel', 'jewish', 'jews', 'jill', 'jim', 'jimmy', 'jo', 'joan', 'job', 'jobs', 'jodie', 'joe', 'joel', 'joey', 'johansson', 'john', 'johnny', 'johnson', 'join', 'joined', 'joining', 'joins', 'joint', 'joke', 'joker', 'jokes', 'joking', 'jolie', 'jon', 'jonathan', 'jones', 'jordan', 'jose', 'joseph', 'josh', 'journalist', 'journey', 'joy', 'jr', 'juan', 'judd', 'jude', 'judge', 'judged', 'judging', 'judgment', 'judy', 'juice', 'jules', 'julia', 'julian', 'julie', 'juliet', 'juliette', 'july', 'jump', 'jumped', 'jumping', 'jumps', 'june', 'jungle', 'junior', 'junk', 'jury', 'justice', 'justified', 'justify', 'justin', 'juvenile', 'kane', 'kansas', 'kapoor', 'karate', 'kareena', 'karen', 'karl', 'karloff', 'kate', 'kathleen', 'kathryn', 'kathy', 'kaufman', 'kay', 'kazan', 'keaton', 'keen', 'keep', 'keeping', 'keeps', 'keith', 'kells', 'kelly', 'ken', 'kennedy', 'kenneth', 'kent', 'kept', 'kevin', 'key', 'keys', 'khan', 'kick', 'kicked', 'kicking', 'kicks', 'kid', 'kidding', 'kidman', 'kidnap', 'kidnapped', 'kidnapping', 'kids', 'kill', 'killed', 'killer', 'killers', 'killing', 'killings', 'kills', 'kim', 'kind', 'kinda', 'kindly', 'kinds', 'king', 'kingdom', 'kinnear', 'kinski', 'kirk', 'kirsten', 'kiss', 'kissing', 'kitchen', 'kitty', 'kline', 'knees', 'knew', 'knife', 'knight', 'knightley', 'knights', 'knock', 'knocked', 'knocks', 'know', 'knowing', 'knowledge', 'known', 'knows', 'kolchak', 'kong', 'korea', 'korean', 'kris', 'kristofferson', 'krueger', 'kubrick', 'kudos', 'kumar', 'kung', 'kurosawa', 'kurt', 'kyle', 'la', 'lab', 'label', 'labeled', 'labor', 'laboratory', 'lack', 'lacked', 'lacking', 'lackluster', 'lacks', 'ladder', 'laden', 'ladies', 'lady', 'laid', 'lake', 'lame', 'lampoon', 'lance', 'land', 'landed', 'landing', 'landmark', 'lands', 'landscape', 'landscapes', 'lane', 'lang', 'language', 'laputa', 'lara', 'large', 'largely', 'larger', 'larry', 'las', 'last', 'lasted', 'lasting', 'lastly', 'lasts', 'late', 'lately', 'later', 'latest', 'latin', 'latter', 'laugh', 'laughable', 'laughably', 'laughed', 'laughing', 'laughs', 'laughter', 'launch', 'laura', 'laurel', 'lauren', 'laurence', 'laurie', 'lavish', 'law', 'lawrence', 'laws', 'lawyer', 'lay', 'layered', 'layers', 'laying', 'lazy', 'le', 'lead', 'leader', 'leaders', 'leading', 'leads', 'league', 'lean', 'leap', 'learn', 'learned', 'learning', 'learns', 'least', 'leather', 'leave', 'leaves', 'leaving', 'led', 'lee', 'left', 'leg', 'legacy', 'legal', 'legend', 'legendary', 'legends', 'legitimate', 'legs', 'leigh', 'lemmon', 'lena', 'lend', 'lends', 'length', 'lengthy', 'lennon', 'lens', 'leo', 'leon', 'leonard', 'les', 'lesbian', 'leslie', 'less', 'lesser', 'lesson', 'lessons', 'lester', 'let', 'letdown', 'lethal', 'lets', 'letter', 'letters', 'letting', 'level', 'levels', 'lewis', 'lex', 'li', 'liam', 'liberal', 'liberty', 'library', 'license', 'lie', 'lies', 'life', 'lifeless', 'lifestyle', 'lifetime', 'lift', 'lifted', 'light', 'lighter', 'lighting', 'lightning', 'lights', 'likable', 'like', 'likeable', 'liked', 'likely', 'likes', 'likewise', 'liking', 'lil', 'lily', 'limit', 'limitations', 'limited', 'limits', 'lin', 'lincoln', 'linda', 'lindsay', 'lindsey', 'lindy', 'line', 'linear', 'liner', 'liners', 'lines', 'link', 'linked', 'lion', 'lionel', 'liotta', 'lip', 'lips', 'lisa', 'list', 'listed', 'listen', 'listened', 'listening', 'lit', 'literal', 'literally', 'literary', 'literature', 'little', 'liu', 'live', 'lived', 'lively', 'lives', 'living', 'lloyd', 'lo', 'load', 'loaded', 'loads', 'local', 'locals', 'located', 'location', 'locations', 'lock', 'locke', 'locked', 'logan', 'logic', 'logical', 'lois', 'lol', 'lola', 'london', 'lone', 'loneliness', 'lonely', 'loner', 'long', 'longer', 'longest', 'longing', 'longoria', 'look', 'looked', 'looking', 'looks', 'loose', 'loosely', 'lopez', 'lord', 'loren', 'loretta', 'los', 'lose', 'loser', 'losers', 'loses', 'losing', 'loss', 'lost', 'lot', 'lots', 'lou', 'loud', 'louis', 'louise', 'lousy', 'lovable', 'love', 'loved', 'lovely', 'lover', 'lovers', 'loves', 'loving', 'low', 'lowe', 'lower', 'lowest', 'loy', 'loyal', 'loyalty', 'lubitsch', 'luc', 'lucas', 'lucille', 'luck', 'luckily', 'lucky', 'lucy', 'ludicrous', 'lugosi', 'luis', 'lukas', 'luke', 'lumet', 'lunatic', 'lunch', 'lundgren', 'lurking', 'lush', 'lust', 'luzhin', 'lying', 'lynch', 'lyrics', 'mabel', 'macabre', 'macarthur', 'macdonald', 'machine', 'machines', 'macho', 'mack', 'macmurray', 'macy', 'mad', 'made', 'madeleine', 'madison', 'madman', 'madness', 'madonna', 'madsen', 'mafia', 'magazine', 'magazines', 'maggie', 'magic', 'magical', 'magically', 'magician', 'magnificent', 'maid', 'mail', 'main', 'mainly', 'mainstream', 'maintain', 'maintains', 'major', 'majority', 'make', 'maker', 'makers', 'makes', 'makeup', 'making', 'male', 'males', 'mall', 'malone', 'mama', 'mamet', 'man', 'manage', 'managed', 'manager', 'manages', 'managing', 'mandy', 'manhattan', 'maniac', 'manipulated', 'manipulation', 'manipulative', 'mankind', 'mann', 'manner', 'mannered', 'mannerisms', 'manners', 'mansion', 'many', 'map', 'marc', 'marcel', 'march', 'marcus', 'margaret', 'maria', 'marie', 'marijuana', 'marilyn', 'marine', 'mario', 'marion', 'marisa', 'mark', 'marked', 'market', 'marketing', 'marks', 'marlon', 'marriage', 'married', 'marries', 'marry', 'mars', 'marshall', 'mart', 'martha', 'martial', 'martian', 'martians', 'martin', 'martino', 'marty', 'marvel', 'marvelous', 'marvin', 'mary', 'mask', 'masked', 'masks', 'mason', 'mass', 'massacre', 'masses', 'massey', 'massive', 'master', 'masterful', 'masterfully', 'masterpiece', 'masterpieces', 'masters', 'masterson', 'match', 'matched', 'matches', 'mate', 'material', 'mates', 'mathieu', 'matrix', 'matt', 'matter', 'matters', 'matthau', 'matthew', 'mature', 'maureen', 'maurice', 'max', 'maximum', 'may', 'maybe', 'mayhem', 'mayor', 'mccarthy', 'mccoy', 'mclaglen', 'mcqueen', 'meadows', 'meal', 'mean', 'meandering', 'meaning', 'meaningful', 'meaningless', 'means', 'meant', 'meantime', 'meanwhile', 'measure', 'meat', 'mechanical', 'media', 'medical', 'medicine', 'medieval', 'mediocre', 'mediocrity', 'medium', 'meek', 'meet', 'meeting', 'meets', 'meg', 'mega', 'mel', 'melancholy', 'melbourne', 'melissa', 'melodrama', 'melodramatic', 'melody', 'melting', 'melvyn', 'member', 'members', 'memorable', 'memories', 'memory', 'men', 'menace', 'menacing', 'mental', 'mentality', 'mentally', 'mention', 'mentioned', 'mentioning', 'mentions', 'mentor', 'mercy', 'mere', 'meredith', 'merely', 'merit', 'merits', 'mermaid', 'merry', 'meryl', 'mesmerizing', 'mess', 'message', 'messages', 'messed', 'messing', 'messy', 'met', 'metal', 'metaphor', 'meteor', 'method', 'methods', 'mexican', 'mexico', 'meyer', 'mgm', 'miami', 'mice', 'michael', 'michelle', 'mick', 'mickey', 'mid', 'middle', 'midget', 'midnight', 'midst', 'might', 'mighty', 'miike', 'mike', 'mild', 'mildly', 'mildred', 'mile', 'miles', 'military', 'milk', 'mill', 'miller', 'million', 'millionaire', 'millions', 'milo', 'min', 'mind', 'minded', 'mindless', 'minds', 'mine', 'mini', 'minimal', 'minimum', 'miniseries', 'minister', 'minnelli', 'minor', 'minority', 'mins', 'minus', 'minute', 'minutes', 'mira', 'miracle', 'miraculously', 'miranda', 'mirror', 'mirrors', 'miscast', 'miserable', 'miserably', 'misery', 'misfortune', 'misguided', 'misleading', 'miss', 'missed', 'misses', 'missile', 'missing', 'mission', 'mistake', 'mistaken', 'mistakes', 'mister', 'mistress', 'misty', 'misunderstood', 'mitch', 'mitchell', 'mitchum', 'mix', 'mixed', 'mixing', 'mixture', 'miyazaki', 'mm', 'mob', 'mobile', 'mobster', 'mock', 'mode', 'model', 'models', 'modern', 'modest', 'modesty', 'moe', 'mol', 'mole', 'molly', 'mom', 'moment', 'moments', 'momentum', 'mon', 'money', 'monica', 'monk', 'monkey', 'monkeys', 'monks', 'monologue', 'monotonous', 'monroe', 'monster', 'monsters', 'montage', 'montana', 'month', 'months', 'monty', 'mood', 'moody', 'moon', 'moore', 'moral', 'morality', 'morally', 'morals', 'morbid', 'moreover', 'morgan', 'mormon', 'morning', 'moron', 'moronic', 'morons', 'morris', 'mortal', 'moss', 'mostly', 'motel', 'mother', 'mothers', 'motion', 'motions', 'motivated', 'motivation', 'motivations', 'motive', 'motives', 'motorcycle', 'mountain', 'mountains', 'mouse', 'mouth', 'mouthed', 'mouths', 'move', 'moved', 'movement', 'movements', 'moves', 'movie', 'movies', 'moving', 'mr', 'mrs', 'ms', 'mst', 'mtv', 'much', 'mud', 'muddled', 'multi', 'multiple', 'mum', 'mummy', 'mundane', 'muppet', 'muppets', 'murder', 'murdered', 'murderer', 'murderers', 'murdering', 'murderous', 'murders', 'murky', 'murphy', 'murray', 'museum', 'music', 'musical', 'musicals', 'musician', 'musicians', 'muslim', 'muslims', 'must', 'mustache', 'mutant', 'mute', 'mutual', 'myers', 'myra', 'myrna', 'myrtle', 'mysteries', 'mysterious', 'mysteriously', 'mystery', 'mystical', 'myth', 'mythology', 'nail', 'nails', 'naive', 'naked', 'name', 'named', 'namely', 'names', 'nancy', 'narrated', 'narration', 'narrative', 'narrator', 'narrow', 'naschy', 'nasty', 'natali', 'natalie', 'nathan', 'nation', 'national', 'nations', 'native', 'natives', 'natural', 'naturally', 'nature', 'natured', 'naughty', 'nauseating', 'navy', 'nazi', 'nazis', 'nbc', 'nd', 'neal', 'near', 'nearby', 'nearly', 'neat', 'neatly', 'necessarily', 'necessary', 'necessity', 'neck', 'ned', 'need', 'needed', 'needing', 'needless', 'needs', 'negative', 'neglected', 'neighbor', 'neighborhood', 'neighbors', 'neil', 'neill', 'neither', 'nelson', 'nemesis', 'neo', 'nephew', 'nerd', 'nerve', 'nerves', 'nervous', 'net', 'netflix', 'network', 'networks', 'neurotic', 'never', 'nevertheless', 'new', 'newcomer', 'newer', 'newly', 'newman', 'news', 'newspaper', 'next', 'nice', 'nicely', 'nicholas', 'nicholson', 'nick', 'nicolas', 'nicole', 'niece', 'night', 'nightclub', 'nightmare', 'nightmares', 'nightmarish', 'nights', 'nina', 'nine', 'nineties', 'ninety', 'ninja', 'ninjas', 'niro', 'niven', 'noble', 'nobody', 'nod', 'noir', 'noise', 'noises', 'nolan', 'nolte', 'nominated', 'nomination', 'nominations', 'non', 'none', 'nonetheless', 'nonsense', 'nonsensical', 'nope', 'nora', 'norm', 'normal', 'normally', 'norman', 'norris', 'north', 'northam', 'northern', 'norton', 'nose', 'nostalgia', 'nostalgic', 'notable', 'notably', 'notch', 'note', 'noted', 'notes', 'noteworthy', 'nothing', 'notice', 'noticeable', 'noticed', 'notices', 'noting', 'notion', 'notorious', 'novak', 'novel', 'novelist', 'novels', 'novelty', 'nowadays', 'nowhere', 'nuanced', 'nuances', 'nuclear', 'nude', 'nudity', 'number', 'numbers', 'numbing', 'numerous', 'nun', 'nurse', 'nut', 'nuts', 'nutshell', 'ny', 'nyc', 'object', 'objective', 'objects', 'obligatory', 'oblivious', 'obnoxious', 'obscure', 'obscurity', 'observation', 'observations', 'observe', 'obsessed', 'obsession', 'obsessive', 'obstacles', 'obtain', 'obvious', 'obviously', 'occasion', 'occasional', 'occasionally', 'occasions', 'occult', 'occupied', 'occur', 'occurred', 'occurs', 'ocean', 'october', 'odd', 'oddly', 'odds', 'odyssey', 'offbeat', 'offend', 'offended', 'offense', 'offensive', 'offer', 'offered', 'offering', 'offers', 'office', 'officer', 'officers', 'official', 'offs', 'often', 'oh', 'oil', 'ok', 'okay', 'ol', 'old', 'older', 'oldest', 'olds', 'oliver', 'olivia', 'olivier', 'ollie', 'olsen', 'omar', 'omen', 'ominous', 'one', 'ones', 'online', 'onto', 'open', 'opened', 'opening', 'openly', 'opens', 'opera', 'operation', 'opinion', 'opinions', 'opportunities', 'opportunity', 'opposed', 'opposite', 'oprah', 'optimistic', 'option', 'orange', 'orchestra', 'ordeal', 'order', 'ordered', 'orders', 'ordinary', 'organization', 'organized', 'oriented', 'origin', 'original', 'originality', 'originally', 'originals', 'origins', 'orleans', 'orphan', 'orson', 'oscar', 'oscars', 'ostensibly', 'othello', 'others', 'otherwise', 'otto', 'ought', 'outcome', 'outdated', 'outer', 'outfit', 'outfits', 'outing', 'outlandish', 'outline', 'outrageous', 'outrageously', 'outright', 'outs', 'outset', 'outside', 'outstanding', 'overacting', 'overall', 'overbearing', 'overblown', 'overboard', 'overcome', 'overdone', 'overlong', 'overlook', 'overlooked', 'overly', 'overrated', 'overs', 'overtones', 'overwhelming', 'owen', 'owes', 'owl', 'owned', 'owner', 'owners', 'owns', 'oz', 'pace', 'paced', 'pacific', 'pacing', 'pacino', 'pack', 'package', 'packed', 'packs', 'pad', 'padding', 'page', 'pages', 'paid', 'pain', 'painful', 'painfully', 'pains', 'paint', 'painted', 'painter', 'painting', 'paintings', 'paints', 'pair', 'pairing', 'pal', 'palace', 'palance', 'pale', 'palestinian', 'palm', 'palma', 'paltrow', 'pamela', 'pan', 'panahi', 'panic', 'pans', 'pants', 'paper', 'papers', 'par', 'parade', 'paradise', 'paragraph', 'parallel', 'parallels', 'paramount', 'paranoia', 'paranoid', 'parent', 'parents', 'paris', 'park', 'parker', 'parking', 'parodies', 'parody', 'parrot', 'parsons', 'part', 'partially', 'participants', 'participate', 'particular', 'particularly', 'parties', 'partly', 'partner', 'partners', 'parts', 'party', 'pass', 'passable', 'passage', 'passed', 'passengers', 'passes', 'passing', 'passion', 'passionate', 'past', 'pat', 'path', 'pathetic', 'pathos', 'paths', 'patience', 'patient', 'patients', 'patricia', 'patrick', 'pattern', 'patty', 'paul', 'paula', 'paulie', 'pauline', 'pause', 'paxton', 'pay', 'paycheck', 'paying', 'payne', 'payoff', 'pays', 'paz', 'pc', 'peace', 'peaceful', 'peak', 'pearl', 'peck', 'pecker', 'peckinpah', 'peculiar', 'pedestrian', 'pee', 'peers', 'pegg', 'peggy', 'pen', 'penelope', 'penn', 'penned', 'penny', 'people', 'peoples', 'per', 'perception', 'perfect', 'perfection', 'perfectly', 'perform', 'performance', 'performances', 'performed', 'performer', 'performers', 'performing', 'performs', 'perhaps', 'peril', 'period', 'periods', 'permanent', 'perry', 'person', 'persona', 'personal', 'personalities', 'personality', 'personally', 'persons', 'perspective', 'perverted', 'pet', 'pete', 'peter', 'peters', 'petty', 'pfeiffer', 'pg', 'phantasm', 'phantom', 'phase', 'phenomenal', 'phenomenon', 'phil', 'philip', 'phillip', 'phillips', 'philo', 'philosophical', 'philosophy', 'phoenix', 'phone', 'phones', 'phony', 'photo', 'photographed', 'photographer', 'photographs', 'photography', 'photos', 'phrase', 'physical', 'physically', 'physics', 'pia', 'piano', 'pick', 'picked', 'pickford', 'picking', 'picks', 'pickup', 'picture', 'pictures', 'pie', 'piece', 'pieces', 'pierce', 'pierre', 'pig', 'pigs', 'pile', 'pilot', 'pilots', 'pin', 'pink', 'pirate', 'pirates', 'pit', 'pitch', 'pitched', 'pitiful', 'pitt', 'pity', 'pivotal', 'pixar', 'pizza', 'place', 'placed', 'places', 'plague', 'plain', 'plan', 'plane', 'planes', 'planet', 'planned', 'planning', 'plans', 'plant', 'plastic', 'plate', 'platform', 'plausible', 'play', 'playboy', 'played', 'player', 'players', 'playing', 'plays', 'playwright', 'pleasant', 'pleasantly', 'please', 'pleased', 'pleasing', 'pleasure', 'plenty', 'plight', 'plodding', 'plot', 'plots', 'plotting', 'plug', 'plummer', 'plus', 'pm', 'pocket', 'poe', 'poem', 'poet', 'poetic', 'poetry', 'poignant', 'point', 'pointed', 'pointing', 'pointless', 'points', 'poison', 'pokemon', 'poker', 'polanski', 'polar', 'pole', 'police', 'policeman', 'policemen', 'policy', 'polish', 'polished', 'political', 'politically', 'politician', 'politicians', 'politics', 'polly', 'pool', 'poor', 'poorly', 'pop', 'popcorn', 'popped', 'popping', 'pops', 'popular', 'popularity', 'populated', 'population', 'porn', 'porno', 'pornographic', 'pornography', 'porter', 'portion', 'portrait', 'portray', 'portrayal', 'portrayals', 'portrayed', 'portraying', 'portrays', 'portuguese', 'pose', 'poses', 'posey', 'posing', 'position', 'positive', 'positively', 'possess', 'possessed', 'possesses', 'possession', 'possibilities', 'possibility', 'possible', 'possibly', 'post', 'posted', 'poster', 'posters', 'pot', 'potential', 'potentially', 'potter', 'pound', 'pounds', 'poverty', 'powell', 'power', 'powerful', 'powers', 'practical', 'practically', 'practice', 'praise', 'praised', 'prank', 'pray', 'pre', 'preacher', 'preaching', 'preachy', 'precious', 'precise', 'precisely', 'predator', 'predecessor', 'predict', 'predictable', 'predictably', 'prefer', 'preferred', 'pregnant', 'prejudice', 'premiere', 'preminger', 'premise', 'prepare', 'prepared', 'preparing', 'preposterous', 'prequel', 'presence', 'present', 'presentation', 'presented', 'presenting', 'presents', 'president', 'presidential', 'press', 'pressed', 'pressure', 'preston', 'presumably', 'pretend', 'pretending', 'pretends', 'pretentious', 'pretty', 'prevent', 'preview', 'previews', 'previous', 'previously', 'prey', 'price', 'priceless', 'pride', 'priest', 'primarily', 'primary', 'prime', 'primitive', 'prince', 'princess', 'principal', 'principals', 'principle', 'principles', 'print', 'prior', 'prison', 'prisoner', 'prisoners', 'private', 'prize', 'pro', 'probably', 'problem', 'problems', 'proceed', 'proceedings', 'proceeds', 'process', 'produce', 'produced', 'producer', 'producers', 'produces', 'producing', 'product', 'production', 'productions', 'products', 'profanity', 'profession', 'professional', 'professionals', 'professor', 'profile', 'profound', 'program', 'programme', 'programming', 'programs', 'progress', 'progressed', 'progresses', 'progression', 'project', 'projected', 'projects', 'prologue', 'prom', 'prominent', 'promise', 'promised', 'promises', 'promising', 'promote', 'promoted', 'promptly', 'prone', 'proof', 'prop', 'propaganda', 'proper', 'properly', 'property', 'prophecy', 'props', 'pros', 'prostitute', 'prostitutes', 'prostitution', 'protagonist', 'protagonists', 'protect', 'protection', 'protective', 'protest', 'proud', 'prove', 'proved', 'proves', 'provide', 'provided', 'provides', 'providing', 'proving', 'provocative', 'provoking', 'ps', 'pseudo', 'psyche', 'psychedelic', 'psychiatrist', 'psychic', 'psycho', 'psychological', 'psychologist', 'psychology', 'psychopath', 'psychotic', 'public', 'publicity', 'published', 'puerto', 'pull', 'pulled', 'pulling', 'pulls', 'pulp', 'pumbaa', 'pun', 'punch', 'punches', 'punishment', 'punk', 'puppet', 'puppets', 'puppy', 'purchase', 'purchased', 'pure', 'purely', 'purple', 'purpose', 'purposes', 'pursue', 'pursued', 'pursuing', 'pursuit', 'push', 'pushed', 'pushes', 'pushing', 'put', 'puts', 'putting', 'puzzle', 'python', 'quaid', 'quaint', 'qualifies', 'qualify', 'qualities', 'quality', 'quantum', 'quarter', 'quasi', 'queen', 'queens', 'quentin', 'quest', 'question', 'questionable', 'questioning', 'questions', 'quick', 'quickly', 'quiet', 'quietly', 'quinn', 'quintessential', 'quirky', 'quit', 'quite', 'quote', 'quotes', 'rabbit', 'race', 'races', 'rachel', 'racial', 'racing', 'racism', 'racist', 'radiation', 'radical', 'radio', 'rage', 'raging', 'raid', 'rain', 'raines', 'rainy', 'raise', 'raised', 'raises', 'raising', 'raj', 'ralph', 'ram', 'rambling', 'rambo', 'ramones', 'rampage', 'rampant', 'ran', 'ranch', 'randall', 'randolph', 'random', 'randomly', 'randy', 'range', 'rangers', 'rank', 'ranks', 'rap', 'rape', 'raped', 'rapid', 'rapidly', 'rapist', 'rare', 'rarely', 'rat', 'rate', 'rated', 'rates', 'rather', 'rating', 'ratings', 'rational', 'rats', 'ratso', 'raunchy', 'rave', 'raw', 'ray', 'raymond', 'razor', 'rd', 'rea', 'reach', 'reached', 'reaches', 'reaching', 'react', 'reaction', 'reactions', 'read', 'reader', 'readers', 'readily', 'reading', 'reads', 'ready', 'reagan', 'real', 'realise', 'realised', 'realises', 'realism', 'realistic', 'realistically', 'realities', 'reality', 'realization', 'realize', 'realized', 'realizes', 'realizing', 'really', 'realm', 'rear', 'reason', 'reasonable', 'reasonably', 'reasons', 'rebel', 'rebellion', 'rebellious', 'rebels', 'recall', 'receive', 'received', 'receives', 'receiving', 'recent', 'recently', 'recognition', 'recognizable', 'recognize', 'recognized', 'recommend', 'recommendation', 'recommended', 'record', 'recorded', 'recording', 'records', 'recover', 'recycled', 'red', 'redeem', 'redeeming', 'redemption', 'redford', 'redgrave', 'redneck', 'reduced', 'redundant', 'reed', 'reel', 'reese', 'reeve', 'reeves', 'refer', 'reference', 'references', 'referred', 'referring', 'refers', 'reflect', 'reflected', 'reflection', 'reflects', 'refreshing', 'refuse', 'refused', 'refuses', 'regard', 'regarded', 'regarding', 'regardless', 'regards', 'regime', 'region', 'regret', 'regular', 'regularly', 'rehash', 'reid', 'reign', 'reiser', 'reject', 'rejected', 'rejects', 'relate', 'related', 'relating', 'relation', 'relations', 'relationship', 'relationships', 'relative', 'relatively', 'relatives', 'relax', 'relaxed', 'release', 'released', 'releases', 'releasing', 'relentless', 'relentlessly', 'relevance', 'relevant', 'reliable', 'relief', 'relies', 'religion', 'religious', 'reluctant', 'reluctantly', 'rely', 'relying', 'remade', 'remain', 'remainder', 'remained', 'remaining', 'remains', 'remake', 'remakes', 'remark', 'remarkable', 'remarkably', 'remarks', 'remember', 'remembered', 'remembering', 'remembers', 'remind', 'reminded', 'reminder', 'reminding', 'reminds', 'reminiscent', 'remote', 'remotely', 'remove', 'removed', 'renaissance', 'rendered', 'rendering', 'rendition', 'rent', 'rental', 'rented', 'renting', 'repeat', 'repeated', 'repeatedly', 'repeating', 'repeats', 'repetitive', 'replace', 'replaced', 'replacement', 'replies', 'report', 'reported', 'reporter', 'reports', 'represent', 'representation', 'represented', 'represents', 'repressed', 'republic', 'repulsive', 'reputation', 'require', 'required', 'requires', 'rescue', 'rescued', 'research', 'resemblance', 'resemble', 'resembles', 'resembling', 'reserved', 'resident', 'residents', 'resist', 'resistance', 'resolution', 'resolve', 'resolved', 'resort', 'resources', 'respect', 'respectable', 'respected', 'respective', 'respectively', 'respects', 'respond', 'response', 'responsibility', 'responsible', 'rest', 'restaurant', 'restored', 'restrained', 'restraint', 'result', 'resulted', 'resulting', 'results', 'resume', 'retarded', 'retired', 'return', 'returned', 'returning', 'returns', 'reunion', 'reunite', 'reveal', 'revealed', 'revealing', 'reveals', 'revelation', 'revenge', 'reverse', 'review', 'reviewed', 'reviewer', 'reviewers', 'reviewing', 'reviews', 'revival', 'revolt', 'revolution', 'revolutionary', 'revolver', 'revolves', 'revolving', 'reward', 'rewarded', 'rewarding', 'rex', 'reynolds', 'rhythm', 'rice', 'rich', 'richard', 'richards', 'richardson', 'rick', 'ricky', 'rid', 'ridden', 'ride', 'rider', 'riders', 'rides', 'ridiculous', 'ridiculously', 'riding', 'riff', 'rifle', 'right', 'rightly', 'rights', 'ring', 'rings', 'riot', 'rip', 'ripoff', 'ripped', 'ripping', 'rips', 'rise', 'rises', 'rising', 'risk', 'rita', 'ritchie', 'ritter', 'ritual', 'rival', 'rivalry', 'rivals', 'river', 'rivers', 'riveting', 'roach', 'road', 'rob', 'robbed', 'robbers', 'robbery', 'robbins', 'robert', 'roberts', 'robertson', 'robin', 'robinson', 'robot', 'robotic', 'robots', 'rochester', 'rock', 'rocket', 'rocks', 'rocky', 'rod', 'rodney', 'rodriguez', 'roger', 'rogers', 'rohmer', 'role', 'roles', 'roll', 'rolled', 'roller', 'rolling', 'rolls', 'roman', 'romance', 'romances', 'romantic', 'rome', 'romeo', 'romero', 'romp', 'ron', 'ronald', 'roof', 'rookie', 'room', 'roommate', 'rooms', 'rooney', 'root', 'rooting', 'roots', 'rope', 'rosario', 'rose', 'rosemary', 'ross', 'roth', 'rotten', 'rough', 'roughly', 'round', 'rounded', 'rounds', 'rourke', 'route', 'routine', 'routines', 'row', 'rowlands', 'roy', 'royal', 'rubber', 'rubbish', 'ruby', 'rude', 'ruin', 'ruined', 'ruining', 'ruins', 'rukh', 'rule', 'ruled', 'rules', 'run', 'runaway', 'runner', 'running', 'runs', 'rupert', 'rural', 'rush', 'rushed', 'russ', 'russell', 'russia', 'russian', 'russo', 'ruth', 'ruthless', 'ryan', 'sabrina', 'sack', 'sacrifice', 'sad', 'sadistic', 'sadly', 'sadness', 'safe', 'safely', 'safety', 'saga', 'said', 'sailor', 'saint', 'saints', 'sake', 'sale', 'sales', 'salesman', 'sally', 'salman', 'saloon', 'salt', 'salvage', 'salvation', 'sam', 'samantha', 'sammo', 'sammy', 'samuel', 'samurai', 'san', 'sand', 'sanders', 'sandler', 'sandra', 'sandy', 'sane', 'sang', 'sanity', 'santa', 'sappy', 'sara', 'sarah', 'sarandon', 'sarcasm', 'sarcastic', 'sassy', 'sat', 'satan', 'satanic', 'satire', 'satirical', 'satisfaction', 'satisfied', 'satisfy', 'satisfying', 'saturday', 'savage', 'save', 'saved', 'saves', 'saving', 'saw', 'say', 'saying', 'says', 'scale', 'scare', 'scarecrow', 'scarecrows', 'scared', 'scares', 'scarface', 'scariest', 'scarlet', 'scarlett', 'scary', 'scenario', 'scenarios', 'scene', 'scenery', 'scenes', 'schedule', 'scheme', 'scheming', 'schlock', 'schneider', 'school', 'schools', 'sci', 'science', 'scientific', 'scientist', 'scientists', 'scifi', 'scooby', 'scoop', 'scope', 'score', 'scored', 'scores', 'scorsese', 'scotland', 'scott', 'scottish', 'scratch', 'scratching', 'scream', 'screaming', 'screams', 'screen', 'screened', 'screening', 'screenplay', 'screens', 'screenwriter', 'screenwriters', 'screw', 'screwball', 'screwed', 'script', 'scripted', 'scripting', 'scripts', 'scrooge', 'se', 'sea', 'seagal', 'sean', 'search', 'searched', 'searching', 'season', 'seasoned', 'seasons', 'seat', 'seats', 'seattle', 'sebastian', 'second', 'secondary', 'secondly', 'seconds', 'secret', 'secretary', 'secretly', 'secrets', 'section', 'sections', 'secure', 'security', 'seduce', 'seductive', 'see', 'seed', 'seedy', 'seeing', 'seek', 'seeking', 'seeks', 'seem', 'seemed', 'seeming', 'seemingly', 'seems', 'seen', 'sees', 'segal', 'segment', 'segments', 'seldom', 'selected', 'selection', 'self', 'selfish', 'sell', 'sellers', 'selling', 'sells', 'semblance', 'semi', 'senator', 'send', 'sending', 'sends', 'senior', 'sense', 'senseless', 'senses', 'sensibility', 'sensible', 'sensitive', 'sensitivity', 'sensual', 'sent', 'sentence', 'sentences', 'sentiment', 'sentimental', 'sentimentality', 'sentinel', 'separate', 'separated', 'september', 'sequel', 'sequels', 'sequence', 'sequences', 'serbian', 'sergeant', 'sergio', 'serial', 'serials', 'series', 'serious', 'seriously', 'serum', 'servant', 'servants', 'serve', 'served', 'serves', 'service', 'services', 'serving', 'session', 'set', 'seth', 'sets', 'setting', 'settings', 'settle', 'settled', 'setup', 'seuss', 'seven', 'seventies', 'several', 'severe', 'severed', 'severely', 'sex', 'sexist', 'sexual', 'sexuality', 'sexually', 'sexy', 'seymour', 'sf', 'sg', 'sgt', 'sh', 'shades', 'shadow', 'shadows', 'shaggy', 'shah', 'shahid', 'shake', 'shakespeare', 'shaking', 'shaky', 'shall', 'shallow', 'shame', 'shameful', 'shameless', 'shanghai', 'shannon', 'shape', 'shaped', 'share', 'shared', 'shares', 'sharing', 'shark', 'sharks', 'sharon', 'sharp', 'shatner', 'shaw', 'shed', 'sheen', 'sheep', 'sheer', 'sheets', 'shelf', 'shell', 'shelley', 'shepard', 'shepherd', 'sheridan', 'sheriff', 'sherlock', 'shield', 'shift', 'shifts', 'shin', 'shine', 'shines', 'shining', 'ship', 'ships', 'shirley', 'shirt', 'shirts', 'sho', 'shock', 'shocked', 'shocking', 'shockingly', 'shocks', 'shoddy', 'shoe', 'shoes', 'sholay', 'shoot', 'shooting', 'shootout', 'shoots', 'shop', 'shopping', 'shore', 'short', 'shortcomings', 'shorter', 'shortly', 'shorts', 'shot', 'shotgun', 'shots', 'shoulder', 'shoulders', 'shouting', 'show', 'showcase', 'showdown', 'showed', 'shower', 'showing', 'shown', 'shows', 'shred', 'shrek', 'shut', 'shy', 'siblings', 'sick', 'sickening', 'sickness', 'sid', 'side', 'sided', 'sidekick', 'sides', 'sidewalk', 'sidney', 'sight', 'sights', 'sign', 'signature', 'signed', 'significance', 'significant', 'signs', 'silence', 'silent', 'silliness', 'silly', 'silver', 'silverman', 'similar', 'similarities', 'similarity', 'similarly', 'simmons', 'simon', 'simple', 'simplicity', 'simplistic', 'simply', 'simpson', 'simpsons', 'simultaneously', 'sin', 'sinatra', 'since', 'sincere', 'sincerely', 'sincerity', 'sing', 'singer', 'singers', 'singing', 'single', 'sings', 'sinister', 'sink', 'sinking', 'sinks', 'sins', 'sir', 'sirk', 'sissy', 'sister', 'sisters', 'sit', 'sitcom', 'sitcoms', 'site', 'sits', 'sitting', 'situation', 'situations', 'six', 'sixteen', 'sixth', 'sixties', 'size', 'sized', 'skeptical', 'sketch', 'sketches', 'skill', 'skilled', 'skills', 'skin', 'skinny', 'skip', 'skit', 'skits', 'skull', 'sky', 'slam', 'slap', 'slapped', 'slapstick', 'slasher', 'slashers', 'slater', 'slaughter', 'slave', 'slavery', 'slaves', 'sleaze', 'sleazy', 'sleep', 'sleeping', 'sleeps', 'slice', 'slick', 'slide', 'slight', 'slightest', 'slightly', 'slim', 'slimy', 'slip', 'sloppy', 'slow', 'slower', 'slowly', 'slugs', 'slut', 'sly', 'small', 'smaller', 'smart', 'smash', 'smell', 'smile', 'smiles', 'smiling', 'smith', 'smoke', 'smoking', 'smooth', 'smug', 'snake', 'snakes', 'snap', 'sneak', 'sniper', 'snipes', 'snl', 'snow', 'snowman', 'snuff', 'soap', 'sober', 'soccer', 'social', 'socially', 'society', 'soderbergh', 'soft', 'sold', 'soldier', 'soldiers', 'sole', 'solely', 'solid', 'solo', 'solution', 'solve', 'solved', 'somebody', 'someday', 'somehow', 'someone', 'something', 'somethings', 'sometime', 'sometimes', 'somewhat', 'somewhere', 'son', 'sondra', 'song', 'songs', 'sonny', 'sons', 'soon', 'sooner', 'sophia', 'sophie', 'sophisticated', 'soprano', 'sopranos', 'sorely', 'sorry', 'sort', 'sorts', 'sought', 'soul', 'souls', 'sound', 'sounded', 'sounding', 'sounds', 'soundtrack', 'soup', 'sour', 'source', 'sources', 'south', 'southern', 'soviet', 'sox', 'soylent', 'space', 'spaceship', 'spacey', 'spade', 'spaghetti', 'spain', 'span', 'spanish', 'spare', 'spark', 'sparks', 'speak', 'speaking', 'speaks', 'special', 'specially', 'species', 'specific', 'specifically', 'spectacle', 'spectacular', 'speech', 'speeches', 'speed', 'spell', 'spelled', 'spencer', 'spend', 'spending', 'spends', 'spent', 'spice', 'spider', 'spielberg', 'spies', 'spike', 'spin', 'spinal', 'spine', 'spiral', 'spirit', 'spirited', 'spirits', 'spiritual', 'spit', 'spite', 'splatter', 'splendid', 'split', 'spock', 'spoil', 'spoiled', 'spoiler', 'spoilers', 'spoiling', 'spoke', 'spoken', 'spontaneous', 'spoof', 'spooky', 'sport', 'sporting', 'sports', 'spot', 'spotlight', 'spots', 'spread', 'spree', 'spring', 'springer', 'spy', 'squad', 'square', 'st', 'stab', 'stabbed', 'stabbing', 'stack', 'stadium', 'staff', 'stage', 'staged', 'stages', 'stairs', 'stake', 'stale', 'stalked', 'stalker', 'stalking', 'stallone', 'stan', 'stance', 'stand', 'standard', 'standards', 'standing', 'standout', 'stands', 'stanley', 'stanwyck', 'star', 'stardom', 'stardust', 'stare', 'stargate', 'staring', 'stark', 'starred', 'starring', 'stars', 'start', 'started', 'starters', 'starting', 'startling', 'starts', 'state', 'stated', 'statement', 'statements', 'states', 'static', 'stating', 'station', 'stations', 'statue', 'status', 'stay', 'stayed', 'staying', 'stays', 'steady', 'steal', 'stealing', 'steals', 'steam', 'steel', 'steele', 'steer', 'stella', 'stellar', 'step', 'stephanie', 'stephen', 'stepmother', 'steps', 'stereotype', 'stereotyped', 'stereotypes', 'stereotypical', 'sterling', 'stern', 'steve', 'steven', 'stevens', 'stewart', 'stick', 'sticking', 'sticks', 'stiff', 'stiles', 'still', 'stiller', 'stilted', 'stink', 'stinker', 'stinks', 'stock', 'stole', 'stolen', 'stomach', 'stone', 'stoned', 'stones', 'stood', 'stooges', 'stop', 'stopped', 'stopping', 'stops', 'store', 'stores', 'stories', 'storm', 'story', 'storyline', 'storytelling', 'straight', 'straightforward', 'stranded', 'strange', 'strangely', 'stranger', 'strangers', 'stream', 'streep', 'street', 'streets', 'streisand', 'strength', 'strengths', 'stress', 'stretch', 'stretched', 'strict', 'strictly', 'strike', 'strikes', 'striking', 'string', 'strings', 'strip', 'stroke', 'strong', 'stronger', 'strongest', 'strongly', 'struck', 'structure', 'struggle', 'struggles', 'struggling', 'strung', 'stuart', 'stuck', 'student', 'students', 'studied', 'studies', 'studio', 'studios', 'study', 'studying', 'stuff', 'stuffed', 'stumble', 'stumbled', 'stumbles', 'stunned', 'stunning', 'stunningly', 'stunt', 'stunts', 'stupid', 'stupidity', 'style', 'styles', 'stylish', 'stylized', 'suave', 'sub', 'subject', 'subjected', 'subjects', 'sublime', 'submarine', 'subplot', 'subplots', 'subsequent', 'subsequently', 'substance', 'substantial', 'substitute', 'subtext', 'subtitles', 'subtle', 'subtlety', 'subtly', 'suburban', 'subway', 'succeed', 'succeeded', 'succeeds', 'success', 'successful', 'successfully', 'suck', 'sucked', 'sucker', 'sucking', 'sucks', 'sudden', 'suddenly', 'sue', 'suffer', 'suffered', 'suffering', 'suffers', 'suffice', 'sufficient', 'sugar', 'suggest', 'suggested', 'suggesting', 'suggestion', 'suggests', 'suicide', 'suit', 'suitable', 'suitably', 'suited', 'suits', 'sullivan', 'sum', 'summary', 'summed', 'summer', 'sums', 'sun', 'sundance', 'sunday', 'sung', 'sunk', 'sunny', 'sunrise', 'sunset', 'sunshine', 'super', 'superb', 'superbly', 'superficial', 'superhero', 'superior', 'superman', 'supernatural', 'superstar', 'supply', 'support', 'supported', 'supporting', 'suppose', 'supposed', 'supposedly', 'supreme', 'sure', 'surely', 'surf', 'surface', 'surfing', 'surgery', 'surprise', 'surprised', 'surprises', 'surprising', 'surprisingly', 'surreal', 'surrender', 'surround', 'surrounded', 'surrounding', 'surroundings', 'survival', 'survive', 'survived', 'survives', 'surviving', 'survivor', 'survivors', 'susan', 'suspect', 'suspected', 'suspects', 'suspend', 'suspense', 'suspenseful', 'suspension', 'suspicion', 'suspicious', 'sutherland', 'suzanne', 'swallow', 'swear', 'swearing', 'sweat', 'sweden', 'swedish', 'sweet', 'swept', 'swim', 'swimming', 'swing', 'swinging', 'switch', 'switched', 'switching', 'sword', 'sydney', 'sylvia', 'symbol', 'symbolic', 'symbolism', 'symbols', 'sympathetic', 'sympathize', 'sympathy', 'sync', 'syndrome', 'synopsis', 'system', 'table', 'taboo', 'tacked', 'tackle', 'tacky', 'tactics', 'tad', 'tag', 'tail', 'takashi', 'take', 'taken', 'takes', 'taking', 'tale', 'talent', 'talented', 'talents', 'tales', 'talk', 'talked', 'talking', 'talks', 'talky', 'tall', 'tame', 'tank', 'tap', 'tape', 'taped', 'tapes', 'tara', 'tarantino', 'target', 'targeted', 'targets', 'tarzan', 'tashan', 'task', 'taste', 'tasteless', 'tastes', 'taught', 'taut', 'tax', 'taxi', 'taylor', 'tcm', 'tea', 'teach', 'teacher', 'teachers', 'teaches', 'teaching', 'team', 'teams', 'tear', 'tears', 'tech', 'technical', 'technically', 'technicolor', 'technique', 'techniques', 'technology', 'ted', 'tedious', 'teen', 'teenage', 'teenager', 'teenagers', 'teens', 'teeth', 'television', 'tell', 'telling', 'tells', 'temper', 'temple', 'tempted', 'ten', 'tenant', 'tend', 'tended', 'tendency', 'tender', 'tends', 'tense', 'tension', 'term', 'terminator', 'terms', 'terrible', 'terribly', 'terrific', 'terrified', 'terrifying', 'territory', 'terror', 'terrorist', 'terrorists', 'terry', 'tess', 'test', 'testament', 'testing', 'texas', 'text', 'th', 'thailand', 'thank', 'thankfully', 'thanks', 'thats', 'theater', 'theaters', 'theatre', 'theatrical', 'thelma', 'theme', 'themed', 'themes', 'theodore', 'theories', 'theory', 'therapy', 'thereby', 'therefore', 'thick', 'thief', 'thieves', 'thin', 'thing', 'things', 'think', 'thinking', 'thinks', 'third', 'thirties', 'thirty', 'tho', 'thomas', 'thompson', 'thoroughly', 'though', 'thought', 'thoughtful', 'thoughts', 'thousand', 'thousands', 'thread', 'threat', 'threatened', 'threatening', 'threatens', 'three', 'threw', 'thrill', 'thrilled', 'thriller', 'thrillers', 'thrilling', 'thrills', 'throat', 'throughout', 'throw', 'throwing', 'thrown', 'throws', 'thru', 'thrust', 'thugs', 'thumbs', 'thunder', 'thunderbirds', 'thurman', 'thus', 'ticket', 'tickets', 'tide', 'tie', 'tied', 'tierney', 'ties', 'tiger', 'tight', 'tightly', 'till', 'tim', 'timberlake', 'time', 'timed', 'timeless', 'times', 'timing', 'timmy', 'timon', 'timothy', 'tin', 'tiny', 'tip', 'tire', 'tired', 'tiresome', 'titanic', 'title', 'titled', 'titles', 'tits', 'titular', 'toby', 'today', 'todd', 'together', 'toilet', 'token', 'tokyo', 'told', 'tolerable', 'tom', 'tomatoes', 'tomb', 'tomei', 'tommy', 'tomorrow', 'ton', 'tone', 'toned', 'tones', 'tongue', 'toni', 'tonight', 'tons', 'tony', 'took', 'tool', 'tools', 'tooth', 'top', 'topic', 'topics', 'topless', 'tops', 'torment', 'tormented', 'torn', 'toronto', 'torture', 'tortured', 'tossed', 'total', 'totally', 'touch', 'touched', 'touches', 'touching', 'tough', 'tour', 'tourist', 'toward', 'towards', 'tower', 'towers', 'town', 'toxic', 'toy', 'toys', 'trace', 'track', 'tracking', 'tracks', 'tracy', 'trade', 'trademark', 'tradition', 'traditional', 'traditions', 'traffic', 'tragedy', 'tragic', 'trail', 'trailer', 'trailers', 'train', 'trained', 'training', 'trains', 'traits', 'transfer', 'transformation', 'transformed', 'transforms', 'transition', 'translate', 'translated', 'translation', 'transparent', 'transport', 'trap', 'trapped', 'traps', 'trash', 'trashy', 'trauma', 'traumatic', 'travel', 'traveling', 'travels', 'travesty', 'travis', 'travolta', 'treasure', 'treat', 'treated', 'treatment', 'treats', 'tree', 'trees', 'trek', 'tremendous', 'tremendously', 'trend', 'trial', 'trials', 'triangle', 'tribe', 'tribute', 'trick', 'tricks', 'tried', 'trier', 'tries', 'trigger', 'trilogy', 'trio', 'trip', 'tripe', 'triple', 'trite', 'triumph', 'trivia', 'trivial', 'troma', 'troops', 'trouble', 'troubled', 'troubles', 'truck', 'true', 'truly', 'truman', 'trust', 'truth', 'truths', 'try', 'trying', 'tube', 'tune', 'tuned', 'tunes', 'tunnel', 'turd', 'turkey', 'turkish', 'turmoil', 'turn', 'turned', 'turner', 'turning', 'turns', 'turtle', 'tv', 'twelve', 'twenty', 'twice', 'twilight', 'twin', 'twins', 'twist', 'twisted', 'twists', 'two', 'tyler', 'type', 'types', 'typical', 'typically', 'ugh', 'ugly', 'uh', 'uk', 'ultimate', 'ultimately', 'ultimatum', 'ultra', 'um', 'uma', 'un', 'unable', 'unanswered', 'unappealing', 'unattractive', 'unaware', 'unbearable', 'unbelievable', 'unbelievably', 'uncanny', 'uncle', 'unclear', 'uncomfortable', 'unconventional', 'unconvincing', 'uncut', 'undead', 'undeniably', 'underdeveloped', 'underground', 'underlying', 'underneath', 'underrated', 'understand', 'understandable', 'understandably', 'understanding', 'understands', 'understated', 'understatement', 'understood', 'underwater', 'underwear', 'underworld', 'undoubtedly', 'uneasy', 'uneven', 'unexpected', 'unexpectedly', 'unexplained', 'unfair', 'unfamiliar', 'unfold', 'unfolding', 'unfolds', 'unforgettable', 'unfortunate', 'unfortunately', 'unfunny', 'unhappy', 'unhinged', 'uniform', 'uniformly', 'uniforms', 'unimaginative', 'uninspired', 'unintentional', 'unintentionally', 'uninteresting', 'union', 'unique', 'unit', 'united', 'universal', 'universe', 'university', 'unknown', 'unleashed', 'unless', 'unlikable', 'unlike', 'unlikeable', 'unlikely', 'unnatural', 'unnecessarily', 'unnecessary', 'unoriginal', 'unpleasant', 'unpredictable', 'unravel', 'unreal', 'unrealistic', 'unrelated', 'unsatisfying', 'unseen', 'unsettling', 'unstable', 'unsure', 'unsuspecting', 'unsympathetic', 'unusual', 'unusually', 'unwatchable', 'upbeat', 'upcoming', 'update', 'updated', 'uplifting', 'upon', 'upper', 'ups', 'upset', 'upside', 'upstairs', 'urban', 'urge', 'ursula', 'us', 'usa', 'use', 'used', 'useful', 'useless', 'user', 'users', 'uses', 'using', 'ustinov', 'usual', 'usually', 'utter', 'utterly', 'uwe', 'vacation', 'vader', 'vague', 'vaguely', 'vain', 'val', 'valentine', 'valid', 'valley', 'valuable', 'value', 'values', 'vampire', 'vampires', 'van', 'vance', 'vanessa', 'vanilla', 'vanity', 'vapid', 'vargas', 'variation', 'varied', 'variety', 'various', 'vast', 'vastly', 'vaughn', 'vcr', 'vega', 'vegas', 'vehicle', 'vehicles', 'vein', 'vengeance', 'venture', 'vera', 'verbal', 'verdict', 'verge', 'verhoeven', 'versa', 'version', 'versions', 'versus', 'vet', 'veteran', 'veterans', 'vhs', 'via', 'vibe', 'vibrant', 'vice', 'vicious', 'victim', 'victims', 'victor', 'victoria', 'victorian', 'victory', 'video', 'videos', 'vietnam', 'view', 'viewed', 'viewer', 'viewers', 'viewing', 'viewings', 'viewpoint', 'views', 'vigilante', 'vignettes', 'vile', 'village', 'villain', 'villainous', 'villains', 'vince', 'vincent', 'vincenzo', 'vintage', 'violence', 'violent', 'virgin', 'virginia', 'virtual', 'virtually', 'virus', 'visconti', 'visible', 'vision', 'visions', 'visit', 'visited', 'visiting', 'visitor', 'visits', 'visual', 'visually', 'visuals', 'vital', 'vivian', 'vivid', 'vividly', 'vocal', 'voice', 'voiced', 'voices', 'void', 'voight', 'volume', 'vomit', 'von', 'vonnegut', 'voodoo', 'vote', 'voted', 'votes', 'voyage', 'voyager', 'vs', 'vulgar', 'vulnerable', 'wacky', 'wagner', 'wait', 'waited', 'waiting', 'waitress', 'wake', 'wakes', 'waking', 'walk', 'walked', 'walken', 'walker', 'walking', 'walks', 'wall', 'wallace', 'walls', 'walsh', 'walt', 'walter', 'wan', 'wander', 'wandering', 'wanders', 'wang', 'wanna', 'wannabe', 'want', 'wanted', 'wanting', 'wants', 'war', 'ward', 'warden', 'wardrobe', 'warehouse', 'warm', 'warming', 'warmth', 'warn', 'warned', 'warner', 'warning', 'warns', 'warrant', 'warren', 'warrior', 'warriors', 'wars', 'wartime', 'wash', 'washed', 'washington', 'waste', 'wasted', 'wastes', 'wasting', 'watch', 'watchable', 'watched', 'watcher', 'watches', 'watching', 'water', 'waters', 'watson', 'wave', 'waves', 'wax', 'way', 'wayans', 'wayne', 'ways', 'weak', 'weaker', 'weakest', 'weakness', 'weaknesses', 'wealth', 'wealthy', 'weapon', 'weapons', 'wear', 'wearing', 'wears', 'weary', 'weather', 'web', 'website', 'wedding', 'wee', 'week', 'weekend', 'weekly', 'weeks', 'weight', 'weird', 'weirdness', 'welcome', 'well', 'welles', 'wells', 'wendigo', 'wendy', 'went', 'werewolf', 'werewolves', 'wes', 'wesley', 'west', 'western', 'westerns', 'wet', 'whale', 'whatever', 'whats', 'whatsoever', 'wheel', 'wheelchair', 'whenever', 'whereas', 'wherever', 'whether', 'whilst', 'whimsical', 'whining', 'whiny', 'whip', 'white', 'whites', 'whoever', 'whole', 'wholesome', 'wholly', 'whoopi', 'whore', 'whose', 'wicked', 'wide', 'widely', 'wider', 'widescreen', 'widmark', 'widow', 'widowed', 'wielding', 'wife', 'wig', 'wild', 'wilder', 'wilderness', 'wildly', 'william', 'williams', 'willie', 'willing', 'willis', 'wilson', 'win', 'winchester', 'wind', 'window', 'windows', 'winds', 'wine', 'wing', 'wings', 'winner', 'winning', 'wins', 'winter', 'winters', 'wiped', 'wire', 'wisdom', 'wise', 'wisely', 'wish', 'wished', 'wishes', 'wishing', 'wit', 'witch', 'witchcraft', 'witches', 'within', 'without', 'witness', 'witnessed', 'witnesses', 'witnessing', 'witty', 'wives', 'wizard', 'woefully', 'wolf', 'woman', 'women', 'wonder', 'wondered', 'wonderful', 'wonderfully', 'wondering', 'wonderland', 'wonders', 'wong', 'wont', 'woo', 'wood', 'wooden', 'woods', 'woody', 'word', 'words', 'wore', 'work', 'worked', 'worker', 'workers', 'working', 'works', 'world', 'worlds', 'worms', 'worn', 'worried', 'worry', 'worrying', 'worse', 'worst', 'worth', 'worthless', 'worthwhile', 'worthy', 'would', 'wound', 'wounded', 'wounds', 'wow', 'wrap', 'wrapped', 'wreck', 'wrenching', 'wrestler', 'wrestling', 'wretched', 'wright', 'write', 'writer', 'writers', 'writes', 'writing', 'written', 'wrong', 'wrote', 'wtf', 'wu', 'ww', 'wwe', 'wwii', 'www', 'ya', 'yard', 'yawn', 'yeah', 'year', 'years', 'yell', 'yelling', 'yellow', 'yep', 'yes', 'yesterday', 'yet', 'yeti', 'yokai', 'york', 'young', 'younger', 'youngest', 'youth', 'youthful', 'youtube', 'zane', 'zelah', 'zero', 'zizek', 'zodiac', 'zombi', 'zombie', 'zombies', 'zone', 'zorro']\n"
     ]
    }
   ],
   "source": [
    "# Take a look at the words in the vocabulary\n",
    "vocab = vectorizer.get_feature_names()\n",
    "print(vocab)"
   ]
  },
  {
   "cell_type": "markdown",
   "metadata": {},
   "source": [
    "如果您感兴趣，还可以打印每个单词的计数\n",
    "\n",
    "词汇表:"
   ]
  },
  {
   "cell_type": "code",
   "execution_count": 21,
   "metadata": {
    "collapsed": false
   },
   "outputs": [
    {
     "ename": "SyntaxError",
     "evalue": "unexpected EOF while parsing (<ipython-input-21-5c7624e672b9>, line 10)",
     "output_type": "error",
     "traceback": [
      "\u001b[1;36m  File \u001b[1;32m\"<ipython-input-21-5c7624e672b9>\"\u001b[1;36m, line \u001b[1;32m10\u001b[0m\n\u001b[1;33m    # print(count, tag)\u001b[0m\n\u001b[1;37m                       ^\u001b[0m\n\u001b[1;31mSyntaxError\u001b[0m\u001b[1;31m:\u001b[0m unexpected EOF while parsing\n"
     ]
    }
   ],
   "source": [
    "import numpy as np\n",
    "\n",
    "# Sum up the counts of each vocabulary word\n",
    "dist = np.sum(train_data_features, axis=0)\n",
    "# print(type(np))\n",
    "\n",
    "# For each, print the vocabulary word and the number of times it \n",
    "# appears in the training set\n",
    "for tag, count in zip(vocab, dist):\n",
    "    print(count, tag)"
   ]
  },
  {
   "cell_type": "markdown",
   "metadata": {},
   "source": [
    "**Random Forest**"
   ]
  },
  {
   "cell_type": "markdown",
   "metadata": {},
   "source": [
    "此时，我们已经从单词包和每个特征向量的原始情感标签中获得了数字训练特性，让我们来做一些监督学习吧!在这里，我们将使用泰坦尼克号教程中介绍的随机森林分类器。scikit-learn中包含随机森林算法(随机森林使用许多基于树的分类器进行预测，因此称为“森林”)。下面，我们将树的数量设置为100作为一个合理的默认值。更多的树可能(也可能不会)表现得更好，但肯定需要更长的运行时间。同样地，您为每个评审包含的特性越多，所需的时间就越长。"
   ]
  },
  {
   "cell_type": "code",
   "execution_count": null,
   "metadata": {
    "collapsed": true
   },
   "outputs": [],
   "source": [
    "print (\"Training the random forest...\")\n",
    "from sklearn.ensemble import RandomForestClassifier\n",
    "\n",
    "# Initialize a Random Forest classifier with 100 trees\n",
    "forest = RandomForestClassifier(n_estimators=300) \n",
    "\n",
    "# Fit the forest to the training set, using the bag of words as \n",
    "# features and the sentiment labels as the response variable\n",
    "#\n",
    "# This may take a few minutes to run\n",
    "forest = forest.fit(train_data_features, train[\"sentiment\"])"
   ]
  },
  {
   "cell_type": "markdown",
   "metadata": {},
   "source": [
    "**Creating a Submission**"
   ]
  },
  {
   "cell_type": "markdown",
   "metadata": {},
   "source": [
    "剩下的就是在我们的测试集中运行训练好的随机森林，并创建一个提交文件。如果您还没有这样做，请下载testData。来自数据页的tsv。该文件包含另外25,000个评论和id;我们的任务是预测情绪标签。\n",
    "\n",
    "\n",
    "注意，当我们对测试集使用单词包时，我们只调用“transform”，而不像对训练集那样调用“fit_transform”。出于这个原因，我们将测试设置为禁止，直到我们准备好进行预测。"
   ]
  },
  {
   "cell_type": "code",
   "execution_count": null,
   "metadata": {
    "collapsed": true
   },
   "outputs": [],
   "source": [
    "# Read the test data\n",
    "test = pd.read_csv(\"testData.tsv\", \n",
    "                   header=0, \n",
    "                   delimiter=\"\\t\", \n",
    "                   quoting=3 )\n",
    "\n",
    "# Verify that there are 25,000 rows and 2 columns\n",
    "print (test.shape)"
   ]
  },
  {
   "cell_type": "code",
   "execution_count": null,
   "metadata": {
    "collapsed": true
   },
   "outputs": [],
   "source": [
    "# Create an empty list and append the clean reviews one by one\n",
    "num_reviews = len(test[\"review\"])\n",
    "clean_test_reviews = [] \n",
    "\n",
    "print (\"Cleaning and parsing the test set movie reviews...\\n\")\n",
    "for i in range(0,num_reviews):\n",
    "    if((i+1) % 5000==0):\n",
    "        print(\"Review %d of %d\\n\" % (i+1, num_reviews))\n",
    "    clean_review = review_to_words( test[\"review\"][i] )\n",
    "    clean_test_reviews.append( clean_review )"
   ]
  },
  {
   "cell_type": "code",
   "execution_count": null,
   "metadata": {
    "collapsed": true
   },
   "outputs": [],
   "source": [
    "# Get a bag of words for the test set, and convert to a numpy array\n",
    "test_data_features = vectorizer.transform(clean_test_reviews)\n",
    "test_data_features = test_data_features.toarray()\n",
    "\n",
    "# Use the random forest to make sentiment label predictions\n",
    "result = forest.predict(test_data_features)\n",
    "\n",
    "# Copy the results to a pandas dataframe with an \"id\" column and\n",
    "# a \"sentiment\" column\n",
    "output = pd.DataFrame( data={\"id\":test[\"id\"], \"sentiment\":result} )\n",
    "\n",
    "# Use pandas to write the comma-separated output file\n",
    "output.to_csv(\"Bag_of_Words_model.csv\", index=False, quoting=3)"
   ]
  },
  {
   "cell_type": "markdown",
   "metadata": {},
   "source": [
    "祝贺您，您已经准备好提交您的第一个提交了!尝试不同的方法，看看结果如何变化。您可以以不同的方式清理评论，为单词表示选择不同数量的词汇，尝试Porter词干提取、不同的分类器或其他任何数量的东西。要在不同的数据集上尝试你的NLP排骨，你也可以去我们的烂番茄比赛。或者，如果你已经准备好学习一些完全不同的东西，那就继续学习深度学习和单词向量页面。"
   ]
  }
 ],
 "metadata": {
  "anaconda-cloud": {},
  "kernelspec": {
   "display_name": "Python [default]",
   "language": "python",
   "name": "python3"
  },
  "language_info": {
   "codemirror_mode": {
    "name": "ipython",
    "version": 3
   },
   "file_extension": ".py",
   "mimetype": "text/x-python",
   "name": "python",
   "nbconvert_exporter": "python",
   "pygments_lexer": "ipython3",
   "version": "3.5.6"
  }
 },
 "nbformat": 4,
 "nbformat_minor": 2
}
